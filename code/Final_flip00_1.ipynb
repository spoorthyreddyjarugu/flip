{
 "cells": [
  {
   "cell_type": "code",
   "execution_count": 1,
   "metadata": {},
   "outputs": [],
   "source": [
    "import numpy as np\n",
    "import pandas as pd\n",
    "import seaborn as sns\n",
    "import matplotlib.pyplot as plt\n",
    "%matplotlib inline"
   ]
  },
  {
   "cell_type": "code",
   "execution_count": 2,
   "metadata": {},
   "outputs": [
    {
     "data": {
      "text/html": [
       "<div>\n",
       "<style scoped>\n",
       "    .dataframe tbody tr th:only-of-type {\n",
       "        vertical-align: middle;\n",
       "    }\n",
       "\n",
       "    .dataframe tbody tr th {\n",
       "        vertical-align: top;\n",
       "    }\n",
       "\n",
       "    .dataframe thead th {\n",
       "        text-align: right;\n",
       "    }\n",
       "</style>\n",
       "<table border=\"1\" class=\"dataframe\">\n",
       "  <thead>\n",
       "    <tr style=\"text-align: right;\">\n",
       "      <th></th>\n",
       "      <th>key</th>\n",
       "      <th>fare_amount</th>\n",
       "      <th>pickup_datetime</th>\n",
       "      <th>pickup_longitude</th>\n",
       "      <th>pickup_latitude</th>\n",
       "      <th>dropoff_longitude</th>\n",
       "      <th>dropoff_latitude</th>\n",
       "      <th>passenger_count</th>\n",
       "    </tr>\n",
       "  </thead>\n",
       "  <tbody>\n",
       "    <tr>\n",
       "      <th>0</th>\n",
       "      <td>2009-06-15 17:26:21.0000001</td>\n",
       "      <td>4.5</td>\n",
       "      <td>2009-06-15 17:26:21 UTC</td>\n",
       "      <td>-73.844311</td>\n",
       "      <td>40.721319</td>\n",
       "      <td>-73.841610</td>\n",
       "      <td>40.712278</td>\n",
       "      <td>1</td>\n",
       "    </tr>\n",
       "    <tr>\n",
       "      <th>1</th>\n",
       "      <td>2010-01-05 16:52:16.0000002</td>\n",
       "      <td>16.9</td>\n",
       "      <td>2010-01-05 16:52:16 UTC</td>\n",
       "      <td>-74.016048</td>\n",
       "      <td>40.711303</td>\n",
       "      <td>-73.979268</td>\n",
       "      <td>40.782004</td>\n",
       "      <td>1</td>\n",
       "    </tr>\n",
       "    <tr>\n",
       "      <th>2</th>\n",
       "      <td>2011-08-18 00:35:00.00000049</td>\n",
       "      <td>5.7</td>\n",
       "      <td>2011-08-18 00:35:00 UTC</td>\n",
       "      <td>-73.982738</td>\n",
       "      <td>40.761270</td>\n",
       "      <td>-73.991242</td>\n",
       "      <td>40.750562</td>\n",
       "      <td>2</td>\n",
       "    </tr>\n",
       "    <tr>\n",
       "      <th>3</th>\n",
       "      <td>2012-04-21 04:30:42.0000001</td>\n",
       "      <td>7.7</td>\n",
       "      <td>2012-04-21 04:30:42 UTC</td>\n",
       "      <td>-73.987130</td>\n",
       "      <td>40.733143</td>\n",
       "      <td>-73.991567</td>\n",
       "      <td>40.758092</td>\n",
       "      <td>1</td>\n",
       "    </tr>\n",
       "    <tr>\n",
       "      <th>4</th>\n",
       "      <td>2010-03-09 07:51:00.000000135</td>\n",
       "      <td>5.3</td>\n",
       "      <td>2010-03-09 07:51:00 UTC</td>\n",
       "      <td>-73.968095</td>\n",
       "      <td>40.768008</td>\n",
       "      <td>-73.956655</td>\n",
       "      <td>40.783762</td>\n",
       "      <td>1</td>\n",
       "    </tr>\n",
       "  </tbody>\n",
       "</table>\n",
       "</div>"
      ],
      "text/plain": [
       "                             key  fare_amount          pickup_datetime  \\\n",
       "0    2009-06-15 17:26:21.0000001          4.5  2009-06-15 17:26:21 UTC   \n",
       "1    2010-01-05 16:52:16.0000002         16.9  2010-01-05 16:52:16 UTC   \n",
       "2   2011-08-18 00:35:00.00000049          5.7  2011-08-18 00:35:00 UTC   \n",
       "3    2012-04-21 04:30:42.0000001          7.7  2012-04-21 04:30:42 UTC   \n",
       "4  2010-03-09 07:51:00.000000135          5.3  2010-03-09 07:51:00 UTC   \n",
       "\n",
       "   pickup_longitude  pickup_latitude  dropoff_longitude  dropoff_latitude  \\\n",
       "0        -73.844311        40.721319         -73.841610         40.712278   \n",
       "1        -74.016048        40.711303         -73.979268         40.782004   \n",
       "2        -73.982738        40.761270         -73.991242         40.750562   \n",
       "3        -73.987130        40.733143         -73.991567         40.758092   \n",
       "4        -73.968095        40.768008         -73.956655         40.783762   \n",
       "\n",
       "   passenger_count  \n",
       "0                1  \n",
       "1                1  \n",
       "2                2  \n",
       "3                1  \n",
       "4                1  "
      ]
     },
     "execution_count": 2,
     "metadata": {},
     "output_type": "execute_result"
    }
   ],
   "source": [
    "df=pd.read_csv('train.csv')\n",
    "df.head()"
   ]
  },
  {
   "cell_type": "code",
   "execution_count": 3,
   "metadata": {
    "scrolled": true
   },
   "outputs": [
    {
     "data": {
      "text/html": [
       "<div>\n",
       "<style scoped>\n",
       "    .dataframe tbody tr th:only-of-type {\n",
       "        vertical-align: middle;\n",
       "    }\n",
       "\n",
       "    .dataframe tbody tr th {\n",
       "        vertical-align: top;\n",
       "    }\n",
       "\n",
       "    .dataframe thead th {\n",
       "        text-align: right;\n",
       "    }\n",
       "</style>\n",
       "<table border=\"1\" class=\"dataframe\">\n",
       "  <thead>\n",
       "    <tr style=\"text-align: right;\">\n",
       "      <th></th>\n",
       "      <th>key</th>\n",
       "      <th>pickup_datetime</th>\n",
       "      <th>pickup_longitude</th>\n",
       "      <th>pickup_latitude</th>\n",
       "      <th>dropoff_longitude</th>\n",
       "      <th>dropoff_latitude</th>\n",
       "      <th>passenger_count</th>\n",
       "    </tr>\n",
       "  </thead>\n",
       "  <tbody>\n",
       "    <tr>\n",
       "      <th>0</th>\n",
       "      <td>2015-01-27 13:08:24.0000002</td>\n",
       "      <td>2015-01-27 13:08:24 UTC</td>\n",
       "      <td>-73.973320</td>\n",
       "      <td>40.763805</td>\n",
       "      <td>-73.981430</td>\n",
       "      <td>40.743835</td>\n",
       "      <td>1</td>\n",
       "    </tr>\n",
       "    <tr>\n",
       "      <th>1</th>\n",
       "      <td>2015-01-27 13:08:24.0000003</td>\n",
       "      <td>2015-01-27 13:08:24 UTC</td>\n",
       "      <td>-73.986862</td>\n",
       "      <td>40.719383</td>\n",
       "      <td>-73.998886</td>\n",
       "      <td>40.739201</td>\n",
       "      <td>1</td>\n",
       "    </tr>\n",
       "    <tr>\n",
       "      <th>2</th>\n",
       "      <td>2011-10-08 11:53:44.0000002</td>\n",
       "      <td>2011-10-08 11:53:44 UTC</td>\n",
       "      <td>-73.982524</td>\n",
       "      <td>40.751260</td>\n",
       "      <td>-73.979654</td>\n",
       "      <td>40.746139</td>\n",
       "      <td>1</td>\n",
       "    </tr>\n",
       "    <tr>\n",
       "      <th>3</th>\n",
       "      <td>2012-12-01 21:12:12.0000002</td>\n",
       "      <td>2012-12-01 21:12:12 UTC</td>\n",
       "      <td>-73.981160</td>\n",
       "      <td>40.767807</td>\n",
       "      <td>-73.990448</td>\n",
       "      <td>40.751635</td>\n",
       "      <td>1</td>\n",
       "    </tr>\n",
       "    <tr>\n",
       "      <th>4</th>\n",
       "      <td>2012-12-01 21:12:12.0000003</td>\n",
       "      <td>2012-12-01 21:12:12 UTC</td>\n",
       "      <td>-73.966046</td>\n",
       "      <td>40.789775</td>\n",
       "      <td>-73.988565</td>\n",
       "      <td>40.744427</td>\n",
       "      <td>1</td>\n",
       "    </tr>\n",
       "  </tbody>\n",
       "</table>\n",
       "</div>"
      ],
      "text/plain": [
       "                           key          pickup_datetime  pickup_longitude  \\\n",
       "0  2015-01-27 13:08:24.0000002  2015-01-27 13:08:24 UTC        -73.973320   \n",
       "1  2015-01-27 13:08:24.0000003  2015-01-27 13:08:24 UTC        -73.986862   \n",
       "2  2011-10-08 11:53:44.0000002  2011-10-08 11:53:44 UTC        -73.982524   \n",
       "3  2012-12-01 21:12:12.0000002  2012-12-01 21:12:12 UTC        -73.981160   \n",
       "4  2012-12-01 21:12:12.0000003  2012-12-01 21:12:12 UTC        -73.966046   \n",
       "\n",
       "   pickup_latitude  dropoff_longitude  dropoff_latitude  passenger_count  \n",
       "0        40.763805         -73.981430         40.743835                1  \n",
       "1        40.719383         -73.998886         40.739201                1  \n",
       "2        40.751260         -73.979654         40.746139                1  \n",
       "3        40.767807         -73.990448         40.751635                1  \n",
       "4        40.789775         -73.988565         40.744427                1  "
      ]
     },
     "execution_count": 3,
     "metadata": {},
     "output_type": "execute_result"
    }
   ],
   "source": [
    "df_test=pd.read_csv('test.csv')\n",
    "df_test.head()"
   ]
  },
  {
   "cell_type": "code",
   "execution_count": 4,
   "metadata": {},
   "outputs": [
    {
     "data": {
      "text/plain": [
       "(55423856, 8)"
      ]
     },
     "execution_count": 4,
     "metadata": {},
     "output_type": "execute_result"
    }
   ],
   "source": [
    "df.shape"
   ]
  },
  {
   "cell_type": "code",
   "execution_count": 5,
   "metadata": {},
   "outputs": [
    {
     "data": {
      "text/plain": [
       "(9914, 7)"
      ]
     },
     "execution_count": 5,
     "metadata": {},
     "output_type": "execute_result"
    }
   ],
   "source": [
    "df_test.shape"
   ]
  },
  {
   "cell_type": "code",
   "execution_count": 6,
   "metadata": {},
   "outputs": [
    {
     "name": "stdout",
     "output_type": "stream",
     "text": [
      "key                  False\n",
      "fare_amount          False\n",
      "pickup_datetime      False\n",
      "pickup_longitude     False\n",
      "pickup_latitude      False\n",
      "dropoff_longitude     True\n",
      "dropoff_latitude      True\n",
      "passenger_count      False\n",
      "dtype: bool\n"
     ]
    }
   ],
   "source": [
    "#check for NA values in train set\n",
    "df.isnull().any()\n",
    "print(df.isnull().any())"
   ]
  },
  {
   "cell_type": "code",
   "execution_count": 7,
   "metadata": {},
   "outputs": [
    {
     "name": "stdout",
     "output_type": "stream",
     "text": [
      "key                  False\n",
      "pickup_datetime      False\n",
      "pickup_longitude     False\n",
      "pickup_latitude      False\n",
      "dropoff_longitude    False\n",
      "dropoff_latitude     False\n",
      "passenger_count      False\n",
      "dtype: bool\n"
     ]
    }
   ],
   "source": [
    "#check for NA values in test set\n",
    "df_test.isnull().any()\n",
    "print(df_test.isnull().any())"
   ]
  },
  {
   "cell_type": "code",
   "execution_count": 8,
   "metadata": {},
   "outputs": [
    {
     "data": {
      "text/plain": [
       "(55423480, 8)"
      ]
     },
     "execution_count": 8,
     "metadata": {},
     "output_type": "execute_result"
    }
   ],
   "source": [
    "#removing NA values\n",
    "df=df.dropna(axis=0)\n",
    "df.shape"
   ]
  },
  {
   "cell_type": "code",
   "execution_count": 9,
   "metadata": {},
   "outputs": [
    {
     "name": "stdout",
     "output_type": "stream",
     "text": [
      "key                  False\n",
      "fare_amount          False\n",
      "pickup_datetime      False\n",
      "pickup_longitude     False\n",
      "pickup_latitude      False\n",
      "dropoff_longitude    False\n",
      "dropoff_latitude     False\n",
      "passenger_count      False\n",
      "dtype: bool\n"
     ]
    }
   ],
   "source": [
    "#after removing NA values checking again\n",
    "df.isnull().any()\n",
    "print(df.isnull().any())"
   ]
  },
  {
   "cell_type": "code",
   "execution_count": 10,
   "metadata": {},
   "outputs": [
    {
     "data": {
      "text/html": [
       "<div>\n",
       "<style scoped>\n",
       "    .dataframe tbody tr th:only-of-type {\n",
       "        vertical-align: middle;\n",
       "    }\n",
       "\n",
       "    .dataframe tbody tr th {\n",
       "        vertical-align: top;\n",
       "    }\n",
       "\n",
       "    .dataframe thead th {\n",
       "        text-align: right;\n",
       "    }\n",
       "</style>\n",
       "<table border=\"1\" class=\"dataframe\">\n",
       "  <thead>\n",
       "    <tr style=\"text-align: right;\">\n",
       "      <th></th>\n",
       "      <th>fare_amount</th>\n",
       "      <th>pickup_longitude</th>\n",
       "      <th>pickup_latitude</th>\n",
       "      <th>dropoff_longitude</th>\n",
       "      <th>dropoff_latitude</th>\n",
       "      <th>passenger_count</th>\n",
       "    </tr>\n",
       "  </thead>\n",
       "  <tbody>\n",
       "    <tr>\n",
       "      <th>count</th>\n",
       "      <td>5.542348e+07</td>\n",
       "      <td>5.542348e+07</td>\n",
       "      <td>5.542348e+07</td>\n",
       "      <td>5.542348e+07</td>\n",
       "      <td>5.542348e+07</td>\n",
       "      <td>5.542348e+07</td>\n",
       "    </tr>\n",
       "    <tr>\n",
       "      <th>mean</th>\n",
       "      <td>1.134500e+01</td>\n",
       "      <td>-7.250973e+01</td>\n",
       "      <td>3.991982e+01</td>\n",
       "      <td>-7.251121e+01</td>\n",
       "      <td>3.992068e+01</td>\n",
       "      <td>1.685391e+00</td>\n",
       "    </tr>\n",
       "    <tr>\n",
       "      <th>std</th>\n",
       "      <td>2.071087e+01</td>\n",
       "      <td>1.284878e+01</td>\n",
       "      <td>9.642324e+00</td>\n",
       "      <td>1.278220e+01</td>\n",
       "      <td>9.633346e+00</td>\n",
       "      <td>1.327662e+00</td>\n",
       "    </tr>\n",
       "    <tr>\n",
       "      <th>min</th>\n",
       "      <td>-3.000000e+02</td>\n",
       "      <td>-3.442060e+03</td>\n",
       "      <td>-3.492264e+03</td>\n",
       "      <td>-3.442025e+03</td>\n",
       "      <td>-3.547887e+03</td>\n",
       "      <td>0.000000e+00</td>\n",
       "    </tr>\n",
       "    <tr>\n",
       "      <th>25%</th>\n",
       "      <td>6.000000e+00</td>\n",
       "      <td>-7.399207e+01</td>\n",
       "      <td>4.073493e+01</td>\n",
       "      <td>-7.399140e+01</td>\n",
       "      <td>4.073403e+01</td>\n",
       "      <td>1.000000e+00</td>\n",
       "    </tr>\n",
       "    <tr>\n",
       "      <th>50%</th>\n",
       "      <td>8.500000e+00</td>\n",
       "      <td>-7.398180e+01</td>\n",
       "      <td>4.075265e+01</td>\n",
       "      <td>-7.398015e+01</td>\n",
       "      <td>4.075316e+01</td>\n",
       "      <td>1.000000e+00</td>\n",
       "    </tr>\n",
       "    <tr>\n",
       "      <th>75%</th>\n",
       "      <td>1.250000e+01</td>\n",
       "      <td>-7.396708e+01</td>\n",
       "      <td>4.076713e+01</td>\n",
       "      <td>-7.396367e+01</td>\n",
       "      <td>4.076810e+01</td>\n",
       "      <td>2.000000e+00</td>\n",
       "    </tr>\n",
       "    <tr>\n",
       "      <th>max</th>\n",
       "      <td>9.396336e+04</td>\n",
       "      <td>3.457626e+03</td>\n",
       "      <td>3.408790e+03</td>\n",
       "      <td>3.457622e+03</td>\n",
       "      <td>3.537133e+03</td>\n",
       "      <td>2.080000e+02</td>\n",
       "    </tr>\n",
       "  </tbody>\n",
       "</table>\n",
       "</div>"
      ],
      "text/plain": [
       "        fare_amount  pickup_longitude  pickup_latitude  dropoff_longitude  \\\n",
       "count  5.542348e+07      5.542348e+07     5.542348e+07       5.542348e+07   \n",
       "mean   1.134500e+01     -7.250973e+01     3.991982e+01      -7.251121e+01   \n",
       "std    2.071087e+01      1.284878e+01     9.642324e+00       1.278220e+01   \n",
       "min   -3.000000e+02     -3.442060e+03    -3.492264e+03      -3.442025e+03   \n",
       "25%    6.000000e+00     -7.399207e+01     4.073493e+01      -7.399140e+01   \n",
       "50%    8.500000e+00     -7.398180e+01     4.075265e+01      -7.398015e+01   \n",
       "75%    1.250000e+01     -7.396708e+01     4.076713e+01      -7.396367e+01   \n",
       "max    9.396336e+04      3.457626e+03     3.408790e+03       3.457622e+03   \n",
       "\n",
       "       dropoff_latitude  passenger_count  \n",
       "count      5.542348e+07     5.542348e+07  \n",
       "mean       3.992068e+01     1.685391e+00  \n",
       "std        9.633346e+00     1.327662e+00  \n",
       "min       -3.547887e+03     0.000000e+00  \n",
       "25%        4.073403e+01     1.000000e+00  \n",
       "50%        4.075316e+01     1.000000e+00  \n",
       "75%        4.076810e+01     2.000000e+00  \n",
       "max        3.537133e+03     2.080000e+02  "
      ]
     },
     "execution_count": 10,
     "metadata": {},
     "output_type": "execute_result"
    }
   ],
   "source": [
    "df.describe()"
   ]
  },
  {
   "cell_type": "code",
   "execution_count": 11,
   "metadata": {},
   "outputs": [
    {
     "name": "stdout",
     "output_type": "stream",
     "text": [
      "<class 'pandas.core.frame.DataFrame'>\n",
      "Int64Index: 55423480 entries, 0 to 55423855\n",
      "Data columns (total 8 columns):\n",
      " #   Column             Dtype  \n",
      "---  ------             -----  \n",
      " 0   key                object \n",
      " 1   fare_amount        float64\n",
      " 2   pickup_datetime    object \n",
      " 3   pickup_longitude   float64\n",
      " 4   pickup_latitude    float64\n",
      " 5   dropoff_longitude  float64\n",
      " 6   dropoff_latitude   float64\n",
      " 7   passenger_count    int64  \n",
      "dtypes: float64(5), int64(1), object(2)\n",
      "memory usage: 3.7+ GB\n"
     ]
    }
   ],
   "source": [
    "df.info()"
   ]
  },
  {
   "cell_type": "code",
   "execution_count": 12,
   "metadata": {},
   "outputs": [
    {
     "data": {
      "text/html": [
       "<div>\n",
       "<style scoped>\n",
       "    .dataframe tbody tr th:only-of-type {\n",
       "        vertical-align: middle;\n",
       "    }\n",
       "\n",
       "    .dataframe tbody tr th {\n",
       "        vertical-align: top;\n",
       "    }\n",
       "\n",
       "    .dataframe thead th {\n",
       "        text-align: right;\n",
       "    }\n",
       "</style>\n",
       "<table border=\"1\" class=\"dataframe\">\n",
       "  <thead>\n",
       "    <tr style=\"text-align: right;\">\n",
       "      <th></th>\n",
       "      <th>pickup_longitude</th>\n",
       "      <th>pickup_latitude</th>\n",
       "      <th>dropoff_longitude</th>\n",
       "      <th>dropoff_latitude</th>\n",
       "      <th>passenger_count</th>\n",
       "    </tr>\n",
       "  </thead>\n",
       "  <tbody>\n",
       "    <tr>\n",
       "      <th>count</th>\n",
       "      <td>9914.000000</td>\n",
       "      <td>9914.000000</td>\n",
       "      <td>9914.000000</td>\n",
       "      <td>9914.000000</td>\n",
       "      <td>9914.000000</td>\n",
       "    </tr>\n",
       "    <tr>\n",
       "      <th>mean</th>\n",
       "      <td>-73.974722</td>\n",
       "      <td>40.751041</td>\n",
       "      <td>-73.973657</td>\n",
       "      <td>40.751743</td>\n",
       "      <td>1.671273</td>\n",
       "    </tr>\n",
       "    <tr>\n",
       "      <th>std</th>\n",
       "      <td>0.042774</td>\n",
       "      <td>0.033541</td>\n",
       "      <td>0.039072</td>\n",
       "      <td>0.035435</td>\n",
       "      <td>1.278747</td>\n",
       "    </tr>\n",
       "    <tr>\n",
       "      <th>min</th>\n",
       "      <td>-74.252193</td>\n",
       "      <td>40.573143</td>\n",
       "      <td>-74.263242</td>\n",
       "      <td>40.568973</td>\n",
       "      <td>1.000000</td>\n",
       "    </tr>\n",
       "    <tr>\n",
       "      <th>25%</th>\n",
       "      <td>-73.992501</td>\n",
       "      <td>40.736125</td>\n",
       "      <td>-73.991247</td>\n",
       "      <td>40.735254</td>\n",
       "      <td>1.000000</td>\n",
       "    </tr>\n",
       "    <tr>\n",
       "      <th>50%</th>\n",
       "      <td>-73.982326</td>\n",
       "      <td>40.753051</td>\n",
       "      <td>-73.980015</td>\n",
       "      <td>40.754065</td>\n",
       "      <td>1.000000</td>\n",
       "    </tr>\n",
       "    <tr>\n",
       "      <th>75%</th>\n",
       "      <td>-73.968013</td>\n",
       "      <td>40.767113</td>\n",
       "      <td>-73.964059</td>\n",
       "      <td>40.768757</td>\n",
       "      <td>2.000000</td>\n",
       "    </tr>\n",
       "    <tr>\n",
       "      <th>max</th>\n",
       "      <td>-72.986532</td>\n",
       "      <td>41.709555</td>\n",
       "      <td>-72.990963</td>\n",
       "      <td>41.696683</td>\n",
       "      <td>6.000000</td>\n",
       "    </tr>\n",
       "  </tbody>\n",
       "</table>\n",
       "</div>"
      ],
      "text/plain": [
       "       pickup_longitude  pickup_latitude  dropoff_longitude  dropoff_latitude  \\\n",
       "count       9914.000000      9914.000000        9914.000000       9914.000000   \n",
       "mean         -73.974722        40.751041         -73.973657         40.751743   \n",
       "std            0.042774         0.033541           0.039072          0.035435   \n",
       "min          -74.252193        40.573143         -74.263242         40.568973   \n",
       "25%          -73.992501        40.736125         -73.991247         40.735254   \n",
       "50%          -73.982326        40.753051         -73.980015         40.754065   \n",
       "75%          -73.968013        40.767113         -73.964059         40.768757   \n",
       "max          -72.986532        41.709555         -72.990963         41.696683   \n",
       "\n",
       "       passenger_count  \n",
       "count      9914.000000  \n",
       "mean          1.671273  \n",
       "std           1.278747  \n",
       "min           1.000000  \n",
       "25%           1.000000  \n",
       "50%           1.000000  \n",
       "75%           2.000000  \n",
       "max           6.000000  "
      ]
     },
     "execution_count": 12,
     "metadata": {},
     "output_type": "execute_result"
    }
   ],
   "source": [
    "df_test.describe()"
   ]
  },
  {
   "cell_type": "code",
   "execution_count": 13,
   "metadata": {},
   "outputs": [
    {
     "name": "stdout",
     "output_type": "stream",
     "text": [
      "<class 'pandas.core.frame.DataFrame'>\n",
      "RangeIndex: 9914 entries, 0 to 9913\n",
      "Data columns (total 7 columns):\n",
      " #   Column             Non-Null Count  Dtype  \n",
      "---  ------             --------------  -----  \n",
      " 0   key                9914 non-null   object \n",
      " 1   pickup_datetime    9914 non-null   object \n",
      " 2   pickup_longitude   9914 non-null   float64\n",
      " 3   pickup_latitude    9914 non-null   float64\n",
      " 4   dropoff_longitude  9914 non-null   float64\n",
      " 5   dropoff_latitude   9914 non-null   float64\n",
      " 6   passenger_count    9914 non-null   int64  \n",
      "dtypes: float64(4), int64(1), object(2)\n",
      "memory usage: 542.3+ KB\n"
     ]
    }
   ],
   "source": [
    "df_test.info()"
   ]
  },
  {
   "cell_type": "code",
   "execution_count": 14,
   "metadata": {},
   "outputs": [
    {
     "name": "stdout",
     "output_type": "stream",
     "text": [
      "(1581276, 8)\n"
     ]
    }
   ],
   "source": [
    "# remove where pickup and drop location are same\n",
    "print(df[(df['pickup_longitude']==df['dropoff_longitude']) & (df['pickup_latitude']==df['dropoff_latitude'])].shape)\n",
    "df=df[~((df['pickup_longitude']==df['dropoff_longitude']) & (df['pickup_latitude']==df['dropoff_latitude']))]"
   ]
  },
  {
   "cell_type": "code",
   "execution_count": 15,
   "metadata": {},
   "outputs": [
    {
     "data": {
      "text/plain": [
       "(53842204, 8)"
      ]
     },
     "execution_count": 15,
     "metadata": {},
     "output_type": "execute_result"
    }
   ],
   "source": [
    "df.shape"
   ]
  },
  {
   "cell_type": "code",
   "execution_count": 16,
   "metadata": {},
   "outputs": [],
   "source": [
    "#boundary for new york latitude longitude...\n",
    "\n",
    "boundary={\"min_lat\":40.573143,\n",
    "         \"min_lang\":-74.252193,\n",
    "         \"max_lat\":41.709555,\n",
    "         \"max_lang\":-72.986532}"
   ]
  },
  {
   "cell_type": "code",
   "execution_count": 17,
   "metadata": {},
   "outputs": [
    {
     "name": "stdout",
     "output_type": "stream",
     "text": [
      "97467\n",
      "101033\n",
      "99247\n",
      "97827\n"
     ]
    }
   ],
   "source": [
    "print(df[(df['pickup_latitude']<=boundary['min_lat']) | (df['pickup_latitude']>=boundary['max_lat'])].shape[0])\n",
    "print(df[(df['pickup_longitude']<=boundary['min_lang']) | (df['pickup_longitude']>=boundary['max_lang'])].shape[0])\n",
    "print(df[(df['dropoff_latitude']<=boundary['min_lat']) | (df['dropoff_latitude']>=boundary['max_lat'])].shape[0])\n",
    "print(df[(df['dropoff_longitude']<=boundary['min_lang']) | (df['dropoff_longitude']>=boundary['max_lang'])].shape[0])"
   ]
  },
  {
   "cell_type": "code",
   "execution_count": 18,
   "metadata": {},
   "outputs": [
    {
     "data": {
      "text/plain": [
       "(53662868, 8)"
      ]
     },
     "execution_count": 18,
     "metadata": {},
     "output_type": "execute_result"
    }
   ],
   "source": [
    "df=df[~((df['pickup_latitude']<=boundary['min_lat']) | (df['pickup_latitude']>=boundary['max_lat']))]\n",
    "df=df[~((df['pickup_longitude']<=boundary['min_lang']) | (df['pickup_longitude']>=boundary['max_lang']))]\n",
    "\n",
    "df=df[~((df['dropoff_latitude']<=boundary['min_lat']) | (df['dropoff_latitude']>=boundary['max_lat']))]\n",
    "df=df[~((df['dropoff_longitude']<=boundary['min_lang']) | (df['dropoff_longitude']>=boundary['max_lang']))]\n",
    "\n",
    "df.shape"
   ]
  },
  {
   "cell_type": "code",
   "execution_count": 19,
   "metadata": {},
   "outputs": [
    {
     "data": {
      "text/plain": [
       "(5366287, 8)"
      ]
     },
     "execution_count": 19,
     "metadata": {},
     "output_type": "execute_result"
    }
   ],
   "source": [
    "#Randomly select 10% data \n",
    "\n",
    "df = df.sample(frac=0.1)\n",
    "df.shape"
   ]
  },
  {
   "cell_type": "code",
   "execution_count": 20,
   "metadata": {},
   "outputs": [
    {
     "data": {
      "image/png": "[encoded data removed]",
      "text/plain": [
       "<Figure size 432x288 with 1 Axes>"
      ]
     },
     "metadata": {
      "needs_background": "light"
     },
     "output_type": "display_data"
    }
   ],
   "source": [
    "df.plot(y='pickup_latitude',x='pickup_longitude',kind=\"scatter\",alpha=0.7,s=0.02)\n",
    "city_long_border = (-74.03, -73.75)\n",
    "city_lat_border = (40.63, 40.85)\n",
    "plt.title(\"Pickups Data\")\n",
    "\n",
    "plt.ylim(city_lat_border)\n",
    "plt.xlim(city_long_border)\n",
    "plt.show()"
   ]
  },
  {
   "cell_type": "code",
   "execution_count": 21,
   "metadata": {},
   "outputs": [
    {
     "data": {
      "image/png": "[encoded data removed]",
      "text/plain": [
       "<Figure size 432x288 with 1 Axes>"
      ]
     },
     "metadata": {
      "needs_background": "light"
     },
     "output_type": "display_data"
    }
   ],
   "source": [
    "df.plot(y='dropoff_latitude',x='dropoff_longitude',kind=\"scatter\",alpha=0.5,s=0.02)\n",
    "city_long_border = (-74.03, -73.75)\n",
    "city_lat_border = (40.63, 40.85)\n",
    "plt.title(\"Dropoff Data\")\n",
    "\n",
    "plt.ylim(city_lat_border)\n",
    "plt.xlim(city_long_border)\n",
    "plt.show()"
   ]
  },
  {
   "cell_type": "code",
   "execution_count": 22,
   "metadata": {},
   "outputs": [
    {
     "data": {
      "text/plain": [
       "1      3711947\n",
       "2       792877\n",
       "5       379206\n",
       "3       235947\n",
       "6       113793\n",
       "4       113539\n",
       "0        18972\n",
       "208          2\n",
       "9            2\n",
       "7            1\n",
       "8            1\n",
       "Name: passenger_count, dtype: int64"
      ]
     },
     "execution_count": 22,
     "metadata": {},
     "output_type": "execute_result"
    }
   ],
   "source": [
    "df['passenger_count'].value_counts()"
   ]
  },
  {
   "cell_type": "code",
   "execution_count": 23,
   "metadata": {},
   "outputs": [
    {
     "name": "stdout",
     "output_type": "stream",
     "text": [
      "208\n",
      "0\n"
     ]
    }
   ],
   "source": [
    "df['passenger_count']=df['passenger_count'].astype(int)\n",
    "print(df['passenger_count'].max())\n",
    "print(df['passenger_count'].min())"
   ]
  },
  {
   "cell_type": "code",
   "execution_count": 24,
   "metadata": {},
   "outputs": [
    {
     "data": {
      "text/plain": [
       "(5347309, 8)"
      ]
     },
     "execution_count": 24,
     "metadata": {},
     "output_type": "execute_result"
    }
   ],
   "source": [
    "df=df[~((df['passenger_count']>6) | (df['passenger_count'] == 0))]\n",
    "df.shape"
   ]
  },
  {
   "cell_type": "code",
   "execution_count": 25,
   "metadata": {},
   "outputs": [
    {
     "data": {
      "text/plain": [
       "<AxesSubplot:xlabel='count', ylabel='passenger_count'>"
      ]
     },
     "execution_count": 25,
     "metadata": {},
     "output_type": "execute_result"
    },
    {
     "data": {
      "image/png": "[encoded data removed]",
      "text/plain": [
       "<Figure size 432x288 with 1 Axes>"
      ]
     },
     "metadata": {
      "needs_background": "light"
     },
     "output_type": "display_data"
    }
   ],
   "source": [
    "sns.countplot(y='passenger_count',data=df)"
   ]
  },
  {
   "cell_type": "code",
   "execution_count": 26,
   "metadata": {},
   "outputs": [],
   "source": [
    "df[df['fare_amount']<=0]['fare_amount'].count()\n",
    "df=df[~(df['fare_amount']<=0)]"
   ]
  },
  {
   "cell_type": "code",
   "execution_count": 27,
   "metadata": {},
   "outputs": [],
   "source": [
    "df['pickup_day']=pd.to_datetime(df.pickup_datetime,format='%Y-%m-%d %H:%M:%S UTC').dt.day\n",
    "df['pickup_month']=pd.to_datetime(df.pickup_datetime,format='%Y-%m-%d %H:%M:%S UTC').dt.month\n",
    "df['pickup_year']=pd.to_datetime(df.pickup_datetime,format='%Y-%m-%d %H:%M:%S UTC').dt.year"
   ]
  },
  {
   "cell_type": "code",
   "execution_count": 28,
   "metadata": {},
   "outputs": [
    {
     "data": {
      "text/html": [
       "<div>\n",
       "<style scoped>\n",
       "    .dataframe tbody tr th:only-of-type {\n",
       "        vertical-align: middle;\n",
       "    }\n",
       "\n",
       "    .dataframe tbody tr th {\n",
       "        vertical-align: top;\n",
       "    }\n",
       "\n",
       "    .dataframe thead th {\n",
       "        text-align: right;\n",
       "    }\n",
       "</style>\n",
       "<table border=\"1\" class=\"dataframe\">\n",
       "  <thead>\n",
       "    <tr style=\"text-align: right;\">\n",
       "      <th></th>\n",
       "      <th>key</th>\n",
       "      <th>fare_amount</th>\n",
       "      <th>pickup_datetime</th>\n",
       "      <th>pickup_longitude</th>\n",
       "      <th>pickup_latitude</th>\n",
       "      <th>dropoff_longitude</th>\n",
       "      <th>dropoff_latitude</th>\n",
       "      <th>passenger_count</th>\n",
       "      <th>pickup_day</th>\n",
       "      <th>pickup_month</th>\n",
       "      <th>pickup_year</th>\n",
       "    </tr>\n",
       "  </thead>\n",
       "  <tbody>\n",
       "    <tr>\n",
       "      <th>37253610</th>\n",
       "      <td>2010-06-10 11:19:19.0000002</td>\n",
       "      <td>7.7</td>\n",
       "      <td>2010-06-10 11:19:19 UTC</td>\n",
       "      <td>-73.979835</td>\n",
       "      <td>40.755001</td>\n",
       "      <td>-73.994422</td>\n",
       "      <td>40.732855</td>\n",
       "      <td>1</td>\n",
       "      <td>10</td>\n",
       "      <td>6</td>\n",
       "      <td>2010</td>\n",
       "    </tr>\n",
       "    <tr>\n",
       "      <th>14091441</th>\n",
       "      <td>2010-05-17 08:53:00.00000039</td>\n",
       "      <td>5.7</td>\n",
       "      <td>2010-05-17 08:53:00 UTC</td>\n",
       "      <td>-73.989782</td>\n",
       "      <td>40.762450</td>\n",
       "      <td>-73.990642</td>\n",
       "      <td>40.750733</td>\n",
       "      <td>2</td>\n",
       "      <td>17</td>\n",
       "      <td>5</td>\n",
       "      <td>2010</td>\n",
       "    </tr>\n",
       "    <tr>\n",
       "      <th>36223331</th>\n",
       "      <td>2012-12-16 09:46:00.00000068</td>\n",
       "      <td>4.5</td>\n",
       "      <td>2012-12-16 09:46:00 UTC</td>\n",
       "      <td>-73.949012</td>\n",
       "      <td>40.770863</td>\n",
       "      <td>-73.960522</td>\n",
       "      <td>40.768825</td>\n",
       "      <td>5</td>\n",
       "      <td>16</td>\n",
       "      <td>12</td>\n",
       "      <td>2012</td>\n",
       "    </tr>\n",
       "    <tr>\n",
       "      <th>23390400</th>\n",
       "      <td>2013-03-09 11:34:56.0000002</td>\n",
       "      <td>15.0</td>\n",
       "      <td>2013-03-09 11:34:56 UTC</td>\n",
       "      <td>-73.990592</td>\n",
       "      <td>40.756421</td>\n",
       "      <td>-74.002176</td>\n",
       "      <td>40.719030</td>\n",
       "      <td>1</td>\n",
       "      <td>9</td>\n",
       "      <td>3</td>\n",
       "      <td>2013</td>\n",
       "    </tr>\n",
       "    <tr>\n",
       "      <th>43071060</th>\n",
       "      <td>2010-05-16 11:14:00.000000168</td>\n",
       "      <td>12.9</td>\n",
       "      <td>2010-05-16 11:14:00 UTC</td>\n",
       "      <td>-74.000297</td>\n",
       "      <td>40.762015</td>\n",
       "      <td>-73.948212</td>\n",
       "      <td>40.771448</td>\n",
       "      <td>1</td>\n",
       "      <td>16</td>\n",
       "      <td>5</td>\n",
       "      <td>2010</td>\n",
       "    </tr>\n",
       "  </tbody>\n",
       "</table>\n",
       "</div>"
      ],
      "text/plain": [
       "                                    key  fare_amount          pickup_datetime  \\\n",
       "37253610    2010-06-10 11:19:19.0000002          7.7  2010-06-10 11:19:19 UTC   \n",
       "14091441   2010-05-17 08:53:00.00000039          5.7  2010-05-17 08:53:00 UTC   \n",
       "36223331   2012-12-16 09:46:00.00000068          4.5  2012-12-16 09:46:00 UTC   \n",
       "23390400    2013-03-09 11:34:56.0000002         15.0  2013-03-09 11:34:56 UTC   \n",
       "43071060  2010-05-16 11:14:00.000000168         12.9  2010-05-16 11:14:00 UTC   \n",
       "\n",
       "          pickup_longitude  pickup_latitude  dropoff_longitude  \\\n",
       "37253610        -73.979835        40.755001         -73.994422   \n",
       "14091441        -73.989782        40.762450         -73.990642   \n",
       "36223331        -73.949012        40.770863         -73.960522   \n",
       "23390400        -73.990592        40.756421         -74.002176   \n",
       "43071060        -74.000297        40.762015         -73.948212   \n",
       "\n",
       "          dropoff_latitude  passenger_count  pickup_day  pickup_month  \\\n",
       "37253610         40.732855                1          10             6   \n",
       "14091441         40.750733                2          17             5   \n",
       "36223331         40.768825                5          16            12   \n",
       "23390400         40.719030                1           9             3   \n",
       "43071060         40.771448                1          16             5   \n",
       "\n",
       "          pickup_year  \n",
       "37253610         2010  \n",
       "14091441         2010  \n",
       "36223331         2012  \n",
       "23390400         2013  \n",
       "43071060         2010  "
      ]
     },
     "execution_count": 28,
     "metadata": {},
     "output_type": "execute_result"
    }
   ],
   "source": [
    "df.head()"
   ]
  },
  {
   "cell_type": "code",
   "execution_count": 29,
   "metadata": {},
   "outputs": [],
   "source": [
    "df['pickup_weekday'] = pd.DatetimeIndex(df.pickup_datetime).dayofweek"
   ]
  },
  {
   "cell_type": "code",
   "execution_count": 30,
   "metadata": {},
   "outputs": [
    {
     "data": {
      "text/html": [
       "<div>\n",
       "<style scoped>\n",
       "    .dataframe tbody tr th:only-of-type {\n",
       "        vertical-align: middle;\n",
       "    }\n",
       "\n",
       "    .dataframe tbody tr th {\n",
       "        vertical-align: top;\n",
       "    }\n",
       "\n",
       "    .dataframe thead th {\n",
       "        text-align: right;\n",
       "    }\n",
       "</style>\n",
       "<table border=\"1\" class=\"dataframe\">\n",
       "  <thead>\n",
       "    <tr style=\"text-align: right;\">\n",
       "      <th></th>\n",
       "      <th>key</th>\n",
       "      <th>fare_amount</th>\n",
       "      <th>pickup_datetime</th>\n",
       "      <th>pickup_longitude</th>\n",
       "      <th>pickup_latitude</th>\n",
       "      <th>dropoff_longitude</th>\n",
       "      <th>dropoff_latitude</th>\n",
       "      <th>passenger_count</th>\n",
       "      <th>pickup_day</th>\n",
       "      <th>pickup_month</th>\n",
       "      <th>pickup_year</th>\n",
       "      <th>pickup_weekday</th>\n",
       "      <th>pickup_hour</th>\n",
       "    </tr>\n",
       "  </thead>\n",
       "  <tbody>\n",
       "    <tr>\n",
       "      <th>37253610</th>\n",
       "      <td>2010-06-10 11:19:19.0000002</td>\n",
       "      <td>7.7</td>\n",
       "      <td>2010-06-10 11:19:19 UTC</td>\n",
       "      <td>-73.979835</td>\n",
       "      <td>40.755001</td>\n",
       "      <td>-73.994422</td>\n",
       "      <td>40.732855</td>\n",
       "      <td>1</td>\n",
       "      <td>10</td>\n",
       "      <td>6</td>\n",
       "      <td>2010</td>\n",
       "      <td>3</td>\n",
       "      <td>11</td>\n",
       "    </tr>\n",
       "    <tr>\n",
       "      <th>14091441</th>\n",
       "      <td>2010-05-17 08:53:00.00000039</td>\n",
       "      <td>5.7</td>\n",
       "      <td>2010-05-17 08:53:00 UTC</td>\n",
       "      <td>-73.989782</td>\n",
       "      <td>40.762450</td>\n",
       "      <td>-73.990642</td>\n",
       "      <td>40.750733</td>\n",
       "      <td>2</td>\n",
       "      <td>17</td>\n",
       "      <td>5</td>\n",
       "      <td>2010</td>\n",
       "      <td>0</td>\n",
       "      <td>8</td>\n",
       "    </tr>\n",
       "    <tr>\n",
       "      <th>36223331</th>\n",
       "      <td>2012-12-16 09:46:00.00000068</td>\n",
       "      <td>4.5</td>\n",
       "      <td>2012-12-16 09:46:00 UTC</td>\n",
       "      <td>-73.949012</td>\n",
       "      <td>40.770863</td>\n",
       "      <td>-73.960522</td>\n",
       "      <td>40.768825</td>\n",
       "      <td>5</td>\n",
       "      <td>16</td>\n",
       "      <td>12</td>\n",
       "      <td>2012</td>\n",
       "      <td>6</td>\n",
       "      <td>9</td>\n",
       "    </tr>\n",
       "    <tr>\n",
       "      <th>23390400</th>\n",
       "      <td>2013-03-09 11:34:56.0000002</td>\n",
       "      <td>15.0</td>\n",
       "      <td>2013-03-09 11:34:56 UTC</td>\n",
       "      <td>-73.990592</td>\n",
       "      <td>40.756421</td>\n",
       "      <td>-74.002176</td>\n",
       "      <td>40.719030</td>\n",
       "      <td>1</td>\n",
       "      <td>9</td>\n",
       "      <td>3</td>\n",
       "      <td>2013</td>\n",
       "      <td>5</td>\n",
       "      <td>11</td>\n",
       "    </tr>\n",
       "    <tr>\n",
       "      <th>43071060</th>\n",
       "      <td>2010-05-16 11:14:00.000000168</td>\n",
       "      <td>12.9</td>\n",
       "      <td>2010-05-16 11:14:00 UTC</td>\n",
       "      <td>-74.000297</td>\n",
       "      <td>40.762015</td>\n",
       "      <td>-73.948212</td>\n",
       "      <td>40.771448</td>\n",
       "      <td>1</td>\n",
       "      <td>16</td>\n",
       "      <td>5</td>\n",
       "      <td>2010</td>\n",
       "      <td>6</td>\n",
       "      <td>11</td>\n",
       "    </tr>\n",
       "  </tbody>\n",
       "</table>\n",
       "</div>"
      ],
      "text/plain": [
       "                                    key  fare_amount          pickup_datetime  \\\n",
       "37253610    2010-06-10 11:19:19.0000002          7.7  2010-06-10 11:19:19 UTC   \n",
       "14091441   2010-05-17 08:53:00.00000039          5.7  2010-05-17 08:53:00 UTC   \n",
       "36223331   2012-12-16 09:46:00.00000068          4.5  2012-12-16 09:46:00 UTC   \n",
       "23390400    2013-03-09 11:34:56.0000002         15.0  2013-03-09 11:34:56 UTC   \n",
       "43071060  2010-05-16 11:14:00.000000168         12.9  2010-05-16 11:14:00 UTC   \n",
       "\n",
       "          pickup_longitude  pickup_latitude  dropoff_longitude  \\\n",
       "37253610        -73.979835        40.755001         -73.994422   \n",
       "14091441        -73.989782        40.762450         -73.990642   \n",
       "36223331        -73.949012        40.770863         -73.960522   \n",
       "23390400        -73.990592        40.756421         -74.002176   \n",
       "43071060        -74.000297        40.762015         -73.948212   \n",
       "\n",
       "          dropoff_latitude  passenger_count  pickup_day  pickup_month  \\\n",
       "37253610         40.732855                1          10             6   \n",
       "14091441         40.750733                2          17             5   \n",
       "36223331         40.768825                5          16            12   \n",
       "23390400         40.719030                1           9             3   \n",
       "43071060         40.771448                1          16             5   \n",
       "\n",
       "          pickup_year  pickup_weekday  pickup_hour  \n",
       "37253610         2010               3           11  \n",
       "14091441         2010               0            8  \n",
       "36223331         2012               6            9  \n",
       "23390400         2013               5           11  \n",
       "43071060         2010               6           11  "
      ]
     },
     "execution_count": 30,
     "metadata": {},
     "output_type": "execute_result"
    }
   ],
   "source": [
    "df['pickup_hour'] = pd.to_datetime(df.pickup_datetime,format='%Y-%m-%d %H:%M:%S UTC').dt.hour\n",
    "df.head()"
   ]
  },
  {
   "cell_type": "code",
   "execution_count": 31,
   "metadata": {},
   "outputs": [
    {
     "data": {
      "text/html": [
       "<div>\n",
       "<style scoped>\n",
       "    .dataframe tbody tr th:only-of-type {\n",
       "        vertical-align: middle;\n",
       "    }\n",
       "\n",
       "    .dataframe tbody tr th {\n",
       "        vertical-align: top;\n",
       "    }\n",
       "\n",
       "    .dataframe thead th {\n",
       "        text-align: right;\n",
       "    }\n",
       "</style>\n",
       "<table border=\"1\" class=\"dataframe\">\n",
       "  <thead>\n",
       "    <tr style=\"text-align: right;\">\n",
       "      <th></th>\n",
       "      <th>key</th>\n",
       "      <th>fare_amount</th>\n",
       "      <th>pickup_datetime</th>\n",
       "      <th>pickup_longitude</th>\n",
       "      <th>pickup_latitude</th>\n",
       "      <th>dropoff_longitude</th>\n",
       "      <th>dropoff_latitude</th>\n",
       "      <th>passenger_count</th>\n",
       "      <th>pickup_day</th>\n",
       "      <th>pickup_month</th>\n",
       "      <th>pickup_year</th>\n",
       "      <th>pickup_weekday</th>\n",
       "      <th>pickup_hour</th>\n",
       "      <th>mid_night_trip</th>\n",
       "    </tr>\n",
       "  </thead>\n",
       "  <tbody>\n",
       "    <tr>\n",
       "      <th>37253610</th>\n",
       "      <td>2010-06-10 11:19:19.0000002</td>\n",
       "      <td>7.7</td>\n",
       "      <td>2010-06-10 11:19:19 UTC</td>\n",
       "      <td>-73.979835</td>\n",
       "      <td>40.755001</td>\n",
       "      <td>-73.994422</td>\n",
       "      <td>40.732855</td>\n",
       "      <td>1</td>\n",
       "      <td>10</td>\n",
       "      <td>6</td>\n",
       "      <td>2010</td>\n",
       "      <td>3</td>\n",
       "      <td>11</td>\n",
       "      <td>0</td>\n",
       "    </tr>\n",
       "    <tr>\n",
       "      <th>14091441</th>\n",
       "      <td>2010-05-17 08:53:00.00000039</td>\n",
       "      <td>5.7</td>\n",
       "      <td>2010-05-17 08:53:00 UTC</td>\n",
       "      <td>-73.989782</td>\n",
       "      <td>40.762450</td>\n",
       "      <td>-73.990642</td>\n",
       "      <td>40.750733</td>\n",
       "      <td>2</td>\n",
       "      <td>17</td>\n",
       "      <td>5</td>\n",
       "      <td>2010</td>\n",
       "      <td>0</td>\n",
       "      <td>8</td>\n",
       "      <td>0</td>\n",
       "    </tr>\n",
       "    <tr>\n",
       "      <th>36223331</th>\n",
       "      <td>2012-12-16 09:46:00.00000068</td>\n",
       "      <td>4.5</td>\n",
       "      <td>2012-12-16 09:46:00 UTC</td>\n",
       "      <td>-73.949012</td>\n",
       "      <td>40.770863</td>\n",
       "      <td>-73.960522</td>\n",
       "      <td>40.768825</td>\n",
       "      <td>5</td>\n",
       "      <td>16</td>\n",
       "      <td>12</td>\n",
       "      <td>2012</td>\n",
       "      <td>6</td>\n",
       "      <td>9</td>\n",
       "      <td>0</td>\n",
       "    </tr>\n",
       "    <tr>\n",
       "      <th>23390400</th>\n",
       "      <td>2013-03-09 11:34:56.0000002</td>\n",
       "      <td>15.0</td>\n",
       "      <td>2013-03-09 11:34:56 UTC</td>\n",
       "      <td>-73.990592</td>\n",
       "      <td>40.756421</td>\n",
       "      <td>-74.002176</td>\n",
       "      <td>40.719030</td>\n",
       "      <td>1</td>\n",
       "      <td>9</td>\n",
       "      <td>3</td>\n",
       "      <td>2013</td>\n",
       "      <td>5</td>\n",
       "      <td>11</td>\n",
       "      <td>0</td>\n",
       "    </tr>\n",
       "    <tr>\n",
       "      <th>43071060</th>\n",
       "      <td>2010-05-16 11:14:00.000000168</td>\n",
       "      <td>12.9</td>\n",
       "      <td>2010-05-16 11:14:00 UTC</td>\n",
       "      <td>-74.000297</td>\n",
       "      <td>40.762015</td>\n",
       "      <td>-73.948212</td>\n",
       "      <td>40.771448</td>\n",
       "      <td>1</td>\n",
       "      <td>16</td>\n",
       "      <td>5</td>\n",
       "      <td>2010</td>\n",
       "      <td>6</td>\n",
       "      <td>11</td>\n",
       "      <td>0</td>\n",
       "    </tr>\n",
       "  </tbody>\n",
       "</table>\n",
       "</div>"
      ],
      "text/plain": [
       "                                    key  fare_amount          pickup_datetime  \\\n",
       "37253610    2010-06-10 11:19:19.0000002          7.7  2010-06-10 11:19:19 UTC   \n",
       "14091441   2010-05-17 08:53:00.00000039          5.7  2010-05-17 08:53:00 UTC   \n",
       "36223331   2012-12-16 09:46:00.00000068          4.5  2012-12-16 09:46:00 UTC   \n",
       "23390400    2013-03-09 11:34:56.0000002         15.0  2013-03-09 11:34:56 UTC   \n",
       "43071060  2010-05-16 11:14:00.000000168         12.9  2010-05-16 11:14:00 UTC   \n",
       "\n",
       "          pickup_longitude  pickup_latitude  dropoff_longitude  \\\n",
       "37253610        -73.979835        40.755001         -73.994422   \n",
       "14091441        -73.989782        40.762450         -73.990642   \n",
       "36223331        -73.949012        40.770863         -73.960522   \n",
       "23390400        -73.990592        40.756421         -74.002176   \n",
       "43071060        -74.000297        40.762015         -73.948212   \n",
       "\n",
       "          dropoff_latitude  passenger_count  pickup_day  pickup_month  \\\n",
       "37253610         40.732855                1          10             6   \n",
       "14091441         40.750733                2          17             5   \n",
       "36223331         40.768825                5          16            12   \n",
       "23390400         40.719030                1           9             3   \n",
       "43071060         40.771448                1          16             5   \n",
       "\n",
       "          pickup_year  pickup_weekday  pickup_hour  mid_night_trip  \n",
       "37253610         2010               3           11               0  \n",
       "14091441         2010               0            8               0  \n",
       "36223331         2012               6            9               0  \n",
       "23390400         2013               5           11               0  \n",
       "43071060         2010               6           11               0  "
      ]
     },
     "execution_count": 31,
     "metadata": {},
     "output_type": "execute_result"
    }
   ],
   "source": [
    "df['mid_night_trip']=((df['pickup_hour']>23) | (df['pickup_hour']<6)).astype(int)\n",
    "df.head()"
   ]
  },
  {
   "cell_type": "code",
   "execution_count": 32,
   "metadata": {},
   "outputs": [
    {
     "data": {
      "text/html": [
       "<div>\n",
       "<style scoped>\n",
       "    .dataframe tbody tr th:only-of-type {\n",
       "        vertical-align: middle;\n",
       "    }\n",
       "\n",
       "    .dataframe tbody tr th {\n",
       "        vertical-align: top;\n",
       "    }\n",
       "\n",
       "    .dataframe thead th {\n",
       "        text-align: right;\n",
       "    }\n",
       "</style>\n",
       "<table border=\"1\" class=\"dataframe\">\n",
       "  <thead>\n",
       "    <tr style=\"text-align: right;\">\n",
       "      <th></th>\n",
       "      <th>key</th>\n",
       "      <th>fare_amount</th>\n",
       "      <th>pickup_datetime</th>\n",
       "      <th>pickup_longitude</th>\n",
       "      <th>pickup_latitude</th>\n",
       "      <th>dropoff_longitude</th>\n",
       "      <th>dropoff_latitude</th>\n",
       "      <th>passenger_count</th>\n",
       "      <th>pickup_day</th>\n",
       "      <th>pickup_month</th>\n",
       "      <th>pickup_year</th>\n",
       "      <th>pickup_weekday</th>\n",
       "      <th>pickup_hour</th>\n",
       "      <th>mid_night_trip</th>\n",
       "      <th>rush_hour_trip</th>\n",
       "    </tr>\n",
       "  </thead>\n",
       "  <tbody>\n",
       "    <tr>\n",
       "      <th>37253610</th>\n",
       "      <td>2010-06-10 11:19:19.0000002</td>\n",
       "      <td>7.7</td>\n",
       "      <td>2010-06-10 11:19:19 UTC</td>\n",
       "      <td>-73.979835</td>\n",
       "      <td>40.755001</td>\n",
       "      <td>-73.994422</td>\n",
       "      <td>40.732855</td>\n",
       "      <td>1</td>\n",
       "      <td>10</td>\n",
       "      <td>6</td>\n",
       "      <td>2010</td>\n",
       "      <td>3</td>\n",
       "      <td>11</td>\n",
       "      <td>0</td>\n",
       "      <td>0</td>\n",
       "    </tr>\n",
       "    <tr>\n",
       "      <th>14091441</th>\n",
       "      <td>2010-05-17 08:53:00.00000039</td>\n",
       "      <td>5.7</td>\n",
       "      <td>2010-05-17 08:53:00 UTC</td>\n",
       "      <td>-73.989782</td>\n",
       "      <td>40.762450</td>\n",
       "      <td>-73.990642</td>\n",
       "      <td>40.750733</td>\n",
       "      <td>2</td>\n",
       "      <td>17</td>\n",
       "      <td>5</td>\n",
       "      <td>2010</td>\n",
       "      <td>0</td>\n",
       "      <td>8</td>\n",
       "      <td>0</td>\n",
       "      <td>0</td>\n",
       "    </tr>\n",
       "    <tr>\n",
       "      <th>36223331</th>\n",
       "      <td>2012-12-16 09:46:00.00000068</td>\n",
       "      <td>4.5</td>\n",
       "      <td>2012-12-16 09:46:00 UTC</td>\n",
       "      <td>-73.949012</td>\n",
       "      <td>40.770863</td>\n",
       "      <td>-73.960522</td>\n",
       "      <td>40.768825</td>\n",
       "      <td>5</td>\n",
       "      <td>16</td>\n",
       "      <td>12</td>\n",
       "      <td>2012</td>\n",
       "      <td>6</td>\n",
       "      <td>9</td>\n",
       "      <td>0</td>\n",
       "      <td>0</td>\n",
       "    </tr>\n",
       "    <tr>\n",
       "      <th>23390400</th>\n",
       "      <td>2013-03-09 11:34:56.0000002</td>\n",
       "      <td>15.0</td>\n",
       "      <td>2013-03-09 11:34:56 UTC</td>\n",
       "      <td>-73.990592</td>\n",
       "      <td>40.756421</td>\n",
       "      <td>-74.002176</td>\n",
       "      <td>40.719030</td>\n",
       "      <td>1</td>\n",
       "      <td>9</td>\n",
       "      <td>3</td>\n",
       "      <td>2013</td>\n",
       "      <td>5</td>\n",
       "      <td>11</td>\n",
       "      <td>0</td>\n",
       "      <td>0</td>\n",
       "    </tr>\n",
       "    <tr>\n",
       "      <th>43071060</th>\n",
       "      <td>2010-05-16 11:14:00.000000168</td>\n",
       "      <td>12.9</td>\n",
       "      <td>2010-05-16 11:14:00 UTC</td>\n",
       "      <td>-74.000297</td>\n",
       "      <td>40.762015</td>\n",
       "      <td>-73.948212</td>\n",
       "      <td>40.771448</td>\n",
       "      <td>1</td>\n",
       "      <td>16</td>\n",
       "      <td>5</td>\n",
       "      <td>2010</td>\n",
       "      <td>6</td>\n",
       "      <td>11</td>\n",
       "      <td>0</td>\n",
       "      <td>0</td>\n",
       "    </tr>\n",
       "  </tbody>\n",
       "</table>\n",
       "</div>"
      ],
      "text/plain": [
       "                                    key  fare_amount          pickup_datetime  \\\n",
       "37253610    2010-06-10 11:19:19.0000002          7.7  2010-06-10 11:19:19 UTC   \n",
       "14091441   2010-05-17 08:53:00.00000039          5.7  2010-05-17 08:53:00 UTC   \n",
       "36223331   2012-12-16 09:46:00.00000068          4.5  2012-12-16 09:46:00 UTC   \n",
       "23390400    2013-03-09 11:34:56.0000002         15.0  2013-03-09 11:34:56 UTC   \n",
       "43071060  2010-05-16 11:14:00.000000168         12.9  2010-05-16 11:14:00 UTC   \n",
       "\n",
       "          pickup_longitude  pickup_latitude  dropoff_longitude  \\\n",
       "37253610        -73.979835        40.755001         -73.994422   \n",
       "14091441        -73.989782        40.762450         -73.990642   \n",
       "36223331        -73.949012        40.770863         -73.960522   \n",
       "23390400        -73.990592        40.756421         -74.002176   \n",
       "43071060        -74.000297        40.762015         -73.948212   \n",
       "\n",
       "          dropoff_latitude  passenger_count  pickup_day  pickup_month  \\\n",
       "37253610         40.732855                1          10             6   \n",
       "14091441         40.750733                2          17             5   \n",
       "36223331         40.768825                5          16            12   \n",
       "23390400         40.719030                1           9             3   \n",
       "43071060         40.771448                1          16             5   \n",
       "\n",
       "          pickup_year  pickup_weekday  pickup_hour  mid_night_trip  \\\n",
       "37253610         2010               3           11               0   \n",
       "14091441         2010               0            8               0   \n",
       "36223331         2012               6            9               0   \n",
       "23390400         2013               5           11               0   \n",
       "43071060         2010               6           11               0   \n",
       "\n",
       "          rush_hour_trip  \n",
       "37253610               0  \n",
       "14091441               0  \n",
       "36223331               0  \n",
       "23390400               0  \n",
       "43071060               0  "
      ]
     },
     "execution_count": 32,
     "metadata": {},
     "output_type": "execute_result"
    }
   ],
   "source": [
    "df['rush_hour_trip']=((df['pickup_hour']>=16) & (df['pickup_hour']<=20)).astype(int)\n",
    "df.head()"
   ]
  },
  {
   "cell_type": "code",
   "execution_count": 33,
   "metadata": {},
   "outputs": [
    {
     "data": {
      "text/html": [
       "<div>\n",
       "<style scoped>\n",
       "    .dataframe tbody tr th:only-of-type {\n",
       "        vertical-align: middle;\n",
       "    }\n",
       "\n",
       "    .dataframe tbody tr th {\n",
       "        vertical-align: top;\n",
       "    }\n",
       "\n",
       "    .dataframe thead th {\n",
       "        text-align: right;\n",
       "    }\n",
       "</style>\n",
       "<table border=\"1\" class=\"dataframe\">\n",
       "  <thead>\n",
       "    <tr style=\"text-align: right;\">\n",
       "      <th></th>\n",
       "      <th>key</th>\n",
       "      <th>fare_amount</th>\n",
       "      <th>pickup_datetime</th>\n",
       "      <th>pickup_longitude</th>\n",
       "      <th>pickup_latitude</th>\n",
       "      <th>dropoff_longitude</th>\n",
       "      <th>dropoff_latitude</th>\n",
       "      <th>passenger_count</th>\n",
       "      <th>pickup_day</th>\n",
       "      <th>pickup_month</th>\n",
       "      <th>pickup_year</th>\n",
       "      <th>pickup_weekday</th>\n",
       "      <th>pickup_hour</th>\n",
       "      <th>mid_night_trip</th>\n",
       "      <th>rush_hour_trip</th>\n",
       "      <th>snow_season</th>\n",
       "    </tr>\n",
       "  </thead>\n",
       "  <tbody>\n",
       "    <tr>\n",
       "      <th>37253610</th>\n",
       "      <td>2010-06-10 11:19:19.0000002</td>\n",
       "      <td>7.7</td>\n",
       "      <td>2010-06-10 11:19:19 UTC</td>\n",
       "      <td>-73.979835</td>\n",
       "      <td>40.755001</td>\n",
       "      <td>-73.994422</td>\n",
       "      <td>40.732855</td>\n",
       "      <td>1</td>\n",
       "      <td>10</td>\n",
       "      <td>6</td>\n",
       "      <td>2010</td>\n",
       "      <td>3</td>\n",
       "      <td>11</td>\n",
       "      <td>0</td>\n",
       "      <td>0</td>\n",
       "      <td>0</td>\n",
       "    </tr>\n",
       "    <tr>\n",
       "      <th>14091441</th>\n",
       "      <td>2010-05-17 08:53:00.00000039</td>\n",
       "      <td>5.7</td>\n",
       "      <td>2010-05-17 08:53:00 UTC</td>\n",
       "      <td>-73.989782</td>\n",
       "      <td>40.762450</td>\n",
       "      <td>-73.990642</td>\n",
       "      <td>40.750733</td>\n",
       "      <td>2</td>\n",
       "      <td>17</td>\n",
       "      <td>5</td>\n",
       "      <td>2010</td>\n",
       "      <td>0</td>\n",
       "      <td>8</td>\n",
       "      <td>0</td>\n",
       "      <td>0</td>\n",
       "      <td>0</td>\n",
       "    </tr>\n",
       "    <tr>\n",
       "      <th>36223331</th>\n",
       "      <td>2012-12-16 09:46:00.00000068</td>\n",
       "      <td>4.5</td>\n",
       "      <td>2012-12-16 09:46:00 UTC</td>\n",
       "      <td>-73.949012</td>\n",
       "      <td>40.770863</td>\n",
       "      <td>-73.960522</td>\n",
       "      <td>40.768825</td>\n",
       "      <td>5</td>\n",
       "      <td>16</td>\n",
       "      <td>12</td>\n",
       "      <td>2012</td>\n",
       "      <td>6</td>\n",
       "      <td>9</td>\n",
       "      <td>0</td>\n",
       "      <td>0</td>\n",
       "      <td>0</td>\n",
       "    </tr>\n",
       "    <tr>\n",
       "      <th>23390400</th>\n",
       "      <td>2013-03-09 11:34:56.0000002</td>\n",
       "      <td>15.0</td>\n",
       "      <td>2013-03-09 11:34:56 UTC</td>\n",
       "      <td>-73.990592</td>\n",
       "      <td>40.756421</td>\n",
       "      <td>-74.002176</td>\n",
       "      <td>40.719030</td>\n",
       "      <td>1</td>\n",
       "      <td>9</td>\n",
       "      <td>3</td>\n",
       "      <td>2013</td>\n",
       "      <td>5</td>\n",
       "      <td>11</td>\n",
       "      <td>0</td>\n",
       "      <td>0</td>\n",
       "      <td>0</td>\n",
       "    </tr>\n",
       "    <tr>\n",
       "      <th>43071060</th>\n",
       "      <td>2010-05-16 11:14:00.000000168</td>\n",
       "      <td>12.9</td>\n",
       "      <td>2010-05-16 11:14:00 UTC</td>\n",
       "      <td>-74.000297</td>\n",
       "      <td>40.762015</td>\n",
       "      <td>-73.948212</td>\n",
       "      <td>40.771448</td>\n",
       "      <td>1</td>\n",
       "      <td>16</td>\n",
       "      <td>5</td>\n",
       "      <td>2010</td>\n",
       "      <td>6</td>\n",
       "      <td>11</td>\n",
       "      <td>0</td>\n",
       "      <td>0</td>\n",
       "      <td>0</td>\n",
       "    </tr>\n",
       "  </tbody>\n",
       "</table>\n",
       "</div>"
      ],
      "text/plain": [
       "                                    key  fare_amount          pickup_datetime  \\\n",
       "37253610    2010-06-10 11:19:19.0000002          7.7  2010-06-10 11:19:19 UTC   \n",
       "14091441   2010-05-17 08:53:00.00000039          5.7  2010-05-17 08:53:00 UTC   \n",
       "36223331   2012-12-16 09:46:00.00000068          4.5  2012-12-16 09:46:00 UTC   \n",
       "23390400    2013-03-09 11:34:56.0000002         15.0  2013-03-09 11:34:56 UTC   \n",
       "43071060  2010-05-16 11:14:00.000000168         12.9  2010-05-16 11:14:00 UTC   \n",
       "\n",
       "          pickup_longitude  pickup_latitude  dropoff_longitude  \\\n",
       "37253610        -73.979835        40.755001         -73.994422   \n",
       "14091441        -73.989782        40.762450         -73.990642   \n",
       "36223331        -73.949012        40.770863         -73.960522   \n",
       "23390400        -73.990592        40.756421         -74.002176   \n",
       "43071060        -74.000297        40.762015         -73.948212   \n",
       "\n",
       "          dropoff_latitude  passenger_count  pickup_day  pickup_month  \\\n",
       "37253610         40.732855                1          10             6   \n",
       "14091441         40.750733                2          17             5   \n",
       "36223331         40.768825                5          16            12   \n",
       "23390400         40.719030                1           9             3   \n",
       "43071060         40.771448                1          16             5   \n",
       "\n",
       "          pickup_year  pickup_weekday  pickup_hour  mid_night_trip  \\\n",
       "37253610         2010               3           11               0   \n",
       "14091441         2010               0            8               0   \n",
       "36223331         2012               6            9               0   \n",
       "23390400         2013               5           11               0   \n",
       "43071060         2010               6           11               0   \n",
       "\n",
       "          rush_hour_trip  snow_season  \n",
       "37253610               0            0  \n",
       "14091441               0            0  \n",
       "36223331               0            0  \n",
       "23390400               0            0  \n",
       "43071060               0            0  "
      ]
     },
     "execution_count": 33,
     "metadata": {},
     "output_type": "execute_result"
    }
   ],
   "source": [
    "df['snow_season']=((df['pickup_month']==1) | (df['pickup_month']==2)).astype(int)\n",
    "df.head()"
   ]
  },
  {
   "cell_type": "code",
   "execution_count": 34,
   "metadata": {},
   "outputs": [
    {
     "name": "stdout",
     "output_type": "stream",
     "text": [
      "Requirement already satisfied: geopy in c:\\users\\jarug\\anaconda3\\lib\\site-packages (2.2.0)\n",
      "Requirement already satisfied: geographiclib<2,>=1.49 in c:\\users\\jarug\\anaconda3\\lib\\site-packages (from geopy) (1.52)\n"
     ]
    }
   ],
   "source": [
    "!pip install geopy"
   ]
  },
  {
   "cell_type": "code",
   "execution_count": 35,
   "metadata": {},
   "outputs": [],
   "source": [
    "from geopy.distance import geodesic\n",
    "\n",
    "def distance_calculate(lat,long,drop_lat,drop_long):    \n",
    "    newport_ri = (lat,long)\n",
    "    cleveland_oh = (drop_lat,drop_long)\n",
    "    dist=geodesic(newport_ri, cleveland_oh).km\n",
    "    return dist"
   ]
  },
  {
   "cell_type": "code",
   "execution_count": 36,
   "metadata": {},
   "outputs": [
    {
     "data": {
      "text/html": [
       "<div>\n",
       "<style scoped>\n",
       "    .dataframe tbody tr th:only-of-type {\n",
       "        vertical-align: middle;\n",
       "    }\n",
       "\n",
       "    .dataframe tbody tr th {\n",
       "        vertical-align: top;\n",
       "    }\n",
       "\n",
       "    .dataframe thead th {\n",
       "        text-align: right;\n",
       "    }\n",
       "</style>\n",
       "<table border=\"1\" class=\"dataframe\">\n",
       "  <thead>\n",
       "    <tr style=\"text-align: right;\">\n",
       "      <th></th>\n",
       "      <th>key</th>\n",
       "      <th>fare_amount</th>\n",
       "      <th>pickup_datetime</th>\n",
       "      <th>pickup_longitude</th>\n",
       "      <th>pickup_latitude</th>\n",
       "      <th>dropoff_longitude</th>\n",
       "      <th>dropoff_latitude</th>\n",
       "      <th>passenger_count</th>\n",
       "      <th>pickup_day</th>\n",
       "      <th>pickup_month</th>\n",
       "      <th>pickup_year</th>\n",
       "      <th>pickup_weekday</th>\n",
       "      <th>pickup_hour</th>\n",
       "      <th>mid_night_trip</th>\n",
       "      <th>rush_hour_trip</th>\n",
       "      <th>snow_season</th>\n",
       "      <th>trip_distance</th>\n",
       "    </tr>\n",
       "  </thead>\n",
       "  <tbody>\n",
       "    <tr>\n",
       "      <th>37253610</th>\n",
       "      <td>2010-06-10 11:19:19.0000002</td>\n",
       "      <td>7.7</td>\n",
       "      <td>2010-06-10 11:19:19 UTC</td>\n",
       "      <td>-73.979835</td>\n",
       "      <td>40.755001</td>\n",
       "      <td>-73.994422</td>\n",
       "      <td>40.732855</td>\n",
       "      <td>1</td>\n",
       "      <td>10</td>\n",
       "      <td>6</td>\n",
       "      <td>2010</td>\n",
       "      <td>3</td>\n",
       "      <td>11</td>\n",
       "      <td>0</td>\n",
       "      <td>0</td>\n",
       "      <td>0</td>\n",
       "      <td>2.750632</td>\n",
       "    </tr>\n",
       "    <tr>\n",
       "      <th>14091441</th>\n",
       "      <td>2010-05-17 08:53:00.00000039</td>\n",
       "      <td>5.7</td>\n",
       "      <td>2010-05-17 08:53:00 UTC</td>\n",
       "      <td>-73.989782</td>\n",
       "      <td>40.762450</td>\n",
       "      <td>-73.990642</td>\n",
       "      <td>40.750733</td>\n",
       "      <td>2</td>\n",
       "      <td>17</td>\n",
       "      <td>5</td>\n",
       "      <td>2010</td>\n",
       "      <td>0</td>\n",
       "      <td>8</td>\n",
       "      <td>0</td>\n",
       "      <td>0</td>\n",
       "      <td>0</td>\n",
       "      <td>1.303189</td>\n",
       "    </tr>\n",
       "    <tr>\n",
       "      <th>36223331</th>\n",
       "      <td>2012-12-16 09:46:00.00000068</td>\n",
       "      <td>4.5</td>\n",
       "      <td>2012-12-16 09:46:00 UTC</td>\n",
       "      <td>-73.949012</td>\n",
       "      <td>40.770863</td>\n",
       "      <td>-73.960522</td>\n",
       "      <td>40.768825</td>\n",
       "      <td>5</td>\n",
       "      <td>16</td>\n",
       "      <td>12</td>\n",
       "      <td>2012</td>\n",
       "      <td>6</td>\n",
       "      <td>9</td>\n",
       "      <td>0</td>\n",
       "      <td>0</td>\n",
       "      <td>0</td>\n",
       "      <td>0.997763</td>\n",
       "    </tr>\n",
       "    <tr>\n",
       "      <th>23390400</th>\n",
       "      <td>2013-03-09 11:34:56.0000002</td>\n",
       "      <td>15.0</td>\n",
       "      <td>2013-03-09 11:34:56 UTC</td>\n",
       "      <td>-73.990592</td>\n",
       "      <td>40.756421</td>\n",
       "      <td>-74.002176</td>\n",
       "      <td>40.719030</td>\n",
       "      <td>1</td>\n",
       "      <td>9</td>\n",
       "      <td>3</td>\n",
       "      <td>2013</td>\n",
       "      <td>5</td>\n",
       "      <td>11</td>\n",
       "      <td>0</td>\n",
       "      <td>0</td>\n",
       "      <td>0</td>\n",
       "      <td>4.265959</td>\n",
       "    </tr>\n",
       "    <tr>\n",
       "      <th>43071060</th>\n",
       "      <td>2010-05-16 11:14:00.000000168</td>\n",
       "      <td>12.9</td>\n",
       "      <td>2010-05-16 11:14:00 UTC</td>\n",
       "      <td>-74.000297</td>\n",
       "      <td>40.762015</td>\n",
       "      <td>-73.948212</td>\n",
       "      <td>40.771448</td>\n",
       "      <td>1</td>\n",
       "      <td>16</td>\n",
       "      <td>5</td>\n",
       "      <td>2010</td>\n",
       "      <td>6</td>\n",
       "      <td>11</td>\n",
       "      <td>0</td>\n",
       "      <td>0</td>\n",
       "      <td>0</td>\n",
       "      <td>4.520636</td>\n",
       "    </tr>\n",
       "  </tbody>\n",
       "</table>\n",
       "</div>"
      ],
      "text/plain": [
       "                                    key  fare_amount          pickup_datetime  \\\n",
       "37253610    2010-06-10 11:19:19.0000002          7.7  2010-06-10 11:19:19 UTC   \n",
       "14091441   2010-05-17 08:53:00.00000039          5.7  2010-05-17 08:53:00 UTC   \n",
       "36223331   2012-12-16 09:46:00.00000068          4.5  2012-12-16 09:46:00 UTC   \n",
       "23390400    2013-03-09 11:34:56.0000002         15.0  2013-03-09 11:34:56 UTC   \n",
       "43071060  2010-05-16 11:14:00.000000168         12.9  2010-05-16 11:14:00 UTC   \n",
       "\n",
       "          pickup_longitude  pickup_latitude  dropoff_longitude  \\\n",
       "37253610        -73.979835        40.755001         -73.994422   \n",
       "14091441        -73.989782        40.762450         -73.990642   \n",
       "36223331        -73.949012        40.770863         -73.960522   \n",
       "23390400        -73.990592        40.756421         -74.002176   \n",
       "43071060        -74.000297        40.762015         -73.948212   \n",
       "\n",
       "          dropoff_latitude  passenger_count  pickup_day  pickup_month  \\\n",
       "37253610         40.732855                1          10             6   \n",
       "14091441         40.750733                2          17             5   \n",
       "36223331         40.768825                5          16            12   \n",
       "23390400         40.719030                1           9             3   \n",
       "43071060         40.771448                1          16             5   \n",
       "\n",
       "          pickup_year  pickup_weekday  pickup_hour  mid_night_trip  \\\n",
       "37253610         2010               3           11               0   \n",
       "14091441         2010               0            8               0   \n",
       "36223331         2012               6            9               0   \n",
       "23390400         2013               5           11               0   \n",
       "43071060         2010               6           11               0   \n",
       "\n",
       "          rush_hour_trip  snow_season  trip_distance  \n",
       "37253610               0            0       2.750632  \n",
       "14091441               0            0       1.303189  \n",
       "36223331               0            0       0.997763  \n",
       "23390400               0            0       4.265959  \n",
       "43071060               0            0       4.520636  "
      ]
     },
     "execution_count": 36,
     "metadata": {},
     "output_type": "execute_result"
    }
   ],
   "source": [
    "df['trip_distance']=list(map(distance_calculate,df['pickup_latitude'],df['pickup_longitude'],df['dropoff_latitude'],df['dropoff_longitude']))\n",
    "df.head()"
   ]
  },
  {
   "cell_type": "code",
   "execution_count": 37,
   "metadata": {},
   "outputs": [
    {
     "data": {
      "image/png": "[encoded data removed]",
      "text/plain": [
       "<Figure size 864x576 with 4 Axes>"
      ]
     },
     "metadata": {
      "needs_background": "light"
     },
     "output_type": "display_data"
    }
   ],
   "source": [
    "plt.figure(figsize=(12,8))\n",
    "plt.subplot(2,2,1)\n",
    "sns.countplot(y='pickup_year', data=df, color='g')\n",
    "plt.subplot(2,2,2)\n",
    "sns.countplot(x='pickup_month', data=df, color='g')\n",
    "plt.subplot(2,2,3)\n",
    "sns.countplot(x='pickup_hour', data=df, color='g')\n",
    "plt.subplot(2,2,4)\n",
    "sns.countplot(y='pickup_weekday', data=df, color='g')\n",
    "\n",
    "plt.show()"
   ]
  },
  {
   "cell_type": "code",
   "execution_count": 38,
   "metadata": {},
   "outputs": [
    {
     "data": {
      "text/plain": [
       "<AxesSubplot:xlabel='fare_amount', ylabel='trip_distance'>"
      ]
     },
     "execution_count": 38,
     "metadata": {},
     "output_type": "execute_result"
    },
    {
     "data": {
      "text/plain": [
       "<Figure size 576x576 with 0 Axes>"
      ]
     },
     "metadata": {},
     "output_type": "display_data"
    },
    {
     "data": {
      "image/png": "[encoded data removed]",
      "text/plain": [
       "<Figure size 432x288 with 1 Axes>"
      ]
     },
     "metadata": {
      "needs_background": "light"
     },
     "output_type": "display_data"
    }
   ],
   "source": [
    "plt.figure(figsize=(8,8))\n",
    "\n",
    "df.plot(x='fare_amount',y='trip_distance',kind='scatter')"
   ]
  },
  {
   "cell_type": "code",
   "execution_count": 39,
   "metadata": {},
   "outputs": [
    {
     "data": {
      "text/plain": [
       "<AxesSubplot:>"
      ]
     },
     "execution_count": 39,
     "metadata": {},
     "output_type": "execute_result"
    },
    {
     "data": {
      "image/png": "[encoded data removed]",
      "text/plain": [
       "<Figure size 432x288 with 2 Axes>"
      ]
     },
     "metadata": {
      "needs_background": "light"
     },
     "output_type": "display_data"
    }
   ],
   "source": [
    "sns.heatmap(df.corr())"
   ]
  },
  {
   "cell_type": "code",
   "execution_count": 40,
   "metadata": {},
   "outputs": [
    {
     "data": {
      "text/html": [
       "<div>\n",
       "<style scoped>\n",
       "    .dataframe tbody tr th:only-of-type {\n",
       "        vertical-align: middle;\n",
       "    }\n",
       "\n",
       "    .dataframe tbody tr th {\n",
       "        vertical-align: top;\n",
       "    }\n",
       "\n",
       "    .dataframe thead th {\n",
       "        text-align: right;\n",
       "    }\n",
       "</style>\n",
       "<table border=\"1\" class=\"dataframe\">\n",
       "  <thead>\n",
       "    <tr style=\"text-align: right;\">\n",
       "      <th></th>\n",
       "      <th>key</th>\n",
       "      <th>fare_amount</th>\n",
       "      <th>pickup_longitude</th>\n",
       "      <th>pickup_latitude</th>\n",
       "      <th>dropoff_longitude</th>\n",
       "      <th>dropoff_latitude</th>\n",
       "      <th>passenger_count</th>\n",
       "      <th>pickup_day</th>\n",
       "      <th>pickup_month</th>\n",
       "      <th>pickup_year</th>\n",
       "      <th>pickup_weekday</th>\n",
       "      <th>pickup_hour</th>\n",
       "      <th>mid_night_trip</th>\n",
       "      <th>rush_hour_trip</th>\n",
       "      <th>snow_season</th>\n",
       "      <th>trip_distance</th>\n",
       "    </tr>\n",
       "  </thead>\n",
       "  <tbody>\n",
       "    <tr>\n",
       "      <th>37253610</th>\n",
       "      <td>2010-06-10 11:19:19.0000002</td>\n",
       "      <td>7.7</td>\n",
       "      <td>-73.979835</td>\n",
       "      <td>40.755001</td>\n",
       "      <td>-73.994422</td>\n",
       "      <td>40.732855</td>\n",
       "      <td>1</td>\n",
       "      <td>10</td>\n",
       "      <td>6</td>\n",
       "      <td>2010</td>\n",
       "      <td>3</td>\n",
       "      <td>11</td>\n",
       "      <td>0</td>\n",
       "      <td>0</td>\n",
       "      <td>0</td>\n",
       "      <td>2.750632</td>\n",
       "    </tr>\n",
       "    <tr>\n",
       "      <th>14091441</th>\n",
       "      <td>2010-05-17 08:53:00.00000039</td>\n",
       "      <td>5.7</td>\n",
       "      <td>-73.989782</td>\n",
       "      <td>40.762450</td>\n",
       "      <td>-73.990642</td>\n",
       "      <td>40.750733</td>\n",
       "      <td>2</td>\n",
       "      <td>17</td>\n",
       "      <td>5</td>\n",
       "      <td>2010</td>\n",
       "      <td>0</td>\n",
       "      <td>8</td>\n",
       "      <td>0</td>\n",
       "      <td>0</td>\n",
       "      <td>0</td>\n",
       "      <td>1.303189</td>\n",
       "    </tr>\n",
       "    <tr>\n",
       "      <th>36223331</th>\n",
       "      <td>2012-12-16 09:46:00.00000068</td>\n",
       "      <td>4.5</td>\n",
       "      <td>-73.949012</td>\n",
       "      <td>40.770863</td>\n",
       "      <td>-73.960522</td>\n",
       "      <td>40.768825</td>\n",
       "      <td>5</td>\n",
       "      <td>16</td>\n",
       "      <td>12</td>\n",
       "      <td>2012</td>\n",
       "      <td>6</td>\n",
       "      <td>9</td>\n",
       "      <td>0</td>\n",
       "      <td>0</td>\n",
       "      <td>0</td>\n",
       "      <td>0.997763</td>\n",
       "    </tr>\n",
       "    <tr>\n",
       "      <th>23390400</th>\n",
       "      <td>2013-03-09 11:34:56.0000002</td>\n",
       "      <td>15.0</td>\n",
       "      <td>-73.990592</td>\n",
       "      <td>40.756421</td>\n",
       "      <td>-74.002176</td>\n",
       "      <td>40.719030</td>\n",
       "      <td>1</td>\n",
       "      <td>9</td>\n",
       "      <td>3</td>\n",
       "      <td>2013</td>\n",
       "      <td>5</td>\n",
       "      <td>11</td>\n",
       "      <td>0</td>\n",
       "      <td>0</td>\n",
       "      <td>0</td>\n",
       "      <td>4.265959</td>\n",
       "    </tr>\n",
       "    <tr>\n",
       "      <th>43071060</th>\n",
       "      <td>2010-05-16 11:14:00.000000168</td>\n",
       "      <td>12.9</td>\n",
       "      <td>-74.000297</td>\n",
       "      <td>40.762015</td>\n",
       "      <td>-73.948212</td>\n",
       "      <td>40.771448</td>\n",
       "      <td>1</td>\n",
       "      <td>16</td>\n",
       "      <td>5</td>\n",
       "      <td>2010</td>\n",
       "      <td>6</td>\n",
       "      <td>11</td>\n",
       "      <td>0</td>\n",
       "      <td>0</td>\n",
       "      <td>0</td>\n",
       "      <td>4.520636</td>\n",
       "    </tr>\n",
       "  </tbody>\n",
       "</table>\n",
       "</div>"
      ],
      "text/plain": [
       "                                    key  fare_amount  pickup_longitude  \\\n",
       "37253610    2010-06-10 11:19:19.0000002          7.7        -73.979835   \n",
       "14091441   2010-05-17 08:53:00.00000039          5.7        -73.989782   \n",
       "36223331   2012-12-16 09:46:00.00000068          4.5        -73.949012   \n",
       "23390400    2013-03-09 11:34:56.0000002         15.0        -73.990592   \n",
       "43071060  2010-05-16 11:14:00.000000168         12.9        -74.000297   \n",
       "\n",
       "          pickup_latitude  dropoff_longitude  dropoff_latitude  \\\n",
       "37253610        40.755001         -73.994422         40.732855   \n",
       "14091441        40.762450         -73.990642         40.750733   \n",
       "36223331        40.770863         -73.960522         40.768825   \n",
       "23390400        40.756421         -74.002176         40.719030   \n",
       "43071060        40.762015         -73.948212         40.771448   \n",
       "\n",
       "          passenger_count  pickup_day  pickup_month  pickup_year  \\\n",
       "37253610                1          10             6         2010   \n",
       "14091441                2          17             5         2010   \n",
       "36223331                5          16            12         2012   \n",
       "23390400                1           9             3         2013   \n",
       "43071060                1          16             5         2010   \n",
       "\n",
       "          pickup_weekday  pickup_hour  mid_night_trip  rush_hour_trip  \\\n",
       "37253610               3           11               0               0   \n",
       "14091441               0            8               0               0   \n",
       "36223331               6            9               0               0   \n",
       "23390400               5           11               0               0   \n",
       "43071060               6           11               0               0   \n",
       "\n",
       "          snow_season  trip_distance  \n",
       "37253610            0       2.750632  \n",
       "14091441            0       1.303189  \n",
       "36223331            0       0.997763  \n",
       "23390400            0       4.265959  \n",
       "43071060            0       4.520636  "
      ]
     },
     "execution_count": 40,
     "metadata": {},
     "output_type": "execute_result"
    }
   ],
   "source": [
    "df=df.drop('pickup_datetime',axis=1)\n",
    "df.head()"
   ]
  },
  {
   "cell_type": "code",
   "execution_count": 41,
   "metadata": {},
   "outputs": [
    {
     "data": {
      "text/html": [
       "<div>\n",
       "<style scoped>\n",
       "    .dataframe tbody tr th:only-of-type {\n",
       "        vertical-align: middle;\n",
       "    }\n",
       "\n",
       "    .dataframe tbody tr th {\n",
       "        vertical-align: top;\n",
       "    }\n",
       "\n",
       "    .dataframe thead th {\n",
       "        text-align: right;\n",
       "    }\n",
       "</style>\n",
       "<table border=\"1\" class=\"dataframe\">\n",
       "  <thead>\n",
       "    <tr style=\"text-align: right;\">\n",
       "      <th></th>\n",
       "      <th>pickup_longitude</th>\n",
       "      <th>pickup_latitude</th>\n",
       "      <th>dropoff_longitude</th>\n",
       "      <th>dropoff_latitude</th>\n",
       "      <th>passenger_count</th>\n",
       "      <th>pickup_day</th>\n",
       "      <th>pickup_month</th>\n",
       "      <th>pickup_year</th>\n",
       "      <th>pickup_weekday</th>\n",
       "      <th>pickup_hour</th>\n",
       "      <th>mid_night_trip</th>\n",
       "      <th>rush_hour_trip</th>\n",
       "      <th>snow_season</th>\n",
       "      <th>trip_distance</th>\n",
       "    </tr>\n",
       "  </thead>\n",
       "  <tbody>\n",
       "    <tr>\n",
       "      <th>0</th>\n",
       "      <td>-73.973320</td>\n",
       "      <td>40.763805</td>\n",
       "      <td>-73.981430</td>\n",
       "      <td>40.743835</td>\n",
       "      <td>1</td>\n",
       "      <td>27</td>\n",
       "      <td>1</td>\n",
       "      <td>2015</td>\n",
       "      <td>1</td>\n",
       "      <td>13</td>\n",
       "      <td>0</td>\n",
       "      <td>0</td>\n",
       "      <td>1</td>\n",
       "      <td>2.320991</td>\n",
       "    </tr>\n",
       "    <tr>\n",
       "      <th>1</th>\n",
       "      <td>-73.986862</td>\n",
       "      <td>40.719383</td>\n",
       "      <td>-73.998886</td>\n",
       "      <td>40.739201</td>\n",
       "      <td>1</td>\n",
       "      <td>27</td>\n",
       "      <td>1</td>\n",
       "      <td>2015</td>\n",
       "      <td>1</td>\n",
       "      <td>13</td>\n",
       "      <td>0</td>\n",
       "      <td>0</td>\n",
       "      <td>1</td>\n",
       "      <td>2.423802</td>\n",
       "    </tr>\n",
       "    <tr>\n",
       "      <th>2</th>\n",
       "      <td>-73.982524</td>\n",
       "      <td>40.751260</td>\n",
       "      <td>-73.979654</td>\n",
       "      <td>40.746139</td>\n",
       "      <td>1</td>\n",
       "      <td>8</td>\n",
       "      <td>10</td>\n",
       "      <td>2011</td>\n",
       "      <td>5</td>\n",
       "      <td>11</td>\n",
       "      <td>0</td>\n",
       "      <td>0</td>\n",
       "      <td>0</td>\n",
       "      <td>0.618182</td>\n",
       "    </tr>\n",
       "    <tr>\n",
       "      <th>3</th>\n",
       "      <td>-73.981160</td>\n",
       "      <td>40.767807</td>\n",
       "      <td>-73.990448</td>\n",
       "      <td>40.751635</td>\n",
       "      <td>1</td>\n",
       "      <td>1</td>\n",
       "      <td>12</td>\n",
       "      <td>2012</td>\n",
       "      <td>5</td>\n",
       "      <td>21</td>\n",
       "      <td>0</td>\n",
       "      <td>0</td>\n",
       "      <td>0</td>\n",
       "      <td>1.959671</td>\n",
       "    </tr>\n",
       "    <tr>\n",
       "      <th>4</th>\n",
       "      <td>-73.966046</td>\n",
       "      <td>40.789775</td>\n",
       "      <td>-73.988565</td>\n",
       "      <td>40.744427</td>\n",
       "      <td>1</td>\n",
       "      <td>1</td>\n",
       "      <td>12</td>\n",
       "      <td>2012</td>\n",
       "      <td>5</td>\n",
       "      <td>21</td>\n",
       "      <td>0</td>\n",
       "      <td>0</td>\n",
       "      <td>0</td>\n",
       "      <td>5.382833</td>\n",
       "    </tr>\n",
       "  </tbody>\n",
       "</table>\n",
       "</div>"
      ],
      "text/plain": [
       "   pickup_longitude  pickup_latitude  dropoff_longitude  dropoff_latitude  \\\n",
       "0        -73.973320        40.763805         -73.981430         40.743835   \n",
       "1        -73.986862        40.719383         -73.998886         40.739201   \n",
       "2        -73.982524        40.751260         -73.979654         40.746139   \n",
       "3        -73.981160        40.767807         -73.990448         40.751635   \n",
       "4        -73.966046        40.789775         -73.988565         40.744427   \n",
       "\n",
       "   passenger_count  pickup_day  pickup_month  pickup_year  pickup_weekday  \\\n",
       "0                1          27             1         2015               1   \n",
       "1                1          27             1         2015               1   \n",
       "2                1           8            10         2011               5   \n",
       "3                1           1            12         2012               5   \n",
       "4                1           1            12         2012               5   \n",
       "\n",
       "   pickup_hour  mid_night_trip  rush_hour_trip  snow_season  trip_distance  \n",
       "0           13               0               0            1       2.320991  \n",
       "1           13               0               0            1       2.423802  \n",
       "2           11               0               0            0       0.618182  \n",
       "3           21               0               0            0       1.959671  \n",
       "4           21               0               0            0       5.382833  "
      ]
     },
     "execution_count": 41,
     "metadata": {},
     "output_type": "execute_result"
    }
   ],
   "source": [
    "df_test['pickup_day']=pd.to_datetime(df_test.pickup_datetime,format='%Y-%m-%d %H:%M:%S UTC').dt.day\n",
    "df_test['pickup_month']=pd.to_datetime(df_test.pickup_datetime,format='%Y-%m-%d %H:%M:%S UTC').dt.month\n",
    "df_test['pickup_year']=pd.to_datetime(df_test.pickup_datetime,format='%Y-%m-%d %H:%M:%S UTC').dt.year\n",
    "\n",
    "df_test['pickup_weekday'] = pd.DatetimeIndex(df_test.pickup_datetime).dayofweek\n",
    "df_test['pickup_hour']=pd.to_datetime(df_test.pickup_datetime,format='%Y-%m-%d %H:%M:%S UTC').dt.hour\n",
    "\n",
    "df_test['mid_night_trip']=((df_test['pickup_hour']>23) | (df_test['pickup_hour']<6)).astype(int)\n",
    "df_test['rush_hour_trip']=((df_test['pickup_hour']>=16) & (df_test['pickup_hour']<=20)).astype(int)\n",
    "df_test['snow_season']=((df_test['pickup_month']==1) | (df_test['pickup_month']==2)).astype(int)\n",
    "df_test['trip_distance']=list(map(distance_calculate,df_test['pickup_latitude'],df_test['pickup_longitude'],df_test['dropoff_latitude'],df_test['dropoff_longitude']))\n",
    "\n",
    "df_test=df_test.drop(columns=['pickup_datetime','key'])\n",
    "df_test.head()"
   ]
  },
  {
   "cell_type": "code",
   "execution_count": 42,
   "metadata": {},
   "outputs": [],
   "source": [
    "X=df.drop(columns=['key','fare_amount'])\n",
    "y=df['fare_amount']"
   ]
  },
  {
   "cell_type": "markdown",
   "metadata": {},
   "source": [
    "Linear Regression"
   ]
  },
  {
   "cell_type": "code",
   "execution_count": 43,
   "metadata": {},
   "outputs": [],
   "source": [
    "from sklearn.model_selection import train_test_split"
   ]
  },
  {
   "cell_type": "code",
   "execution_count": 44,
   "metadata": {},
   "outputs": [],
   "source": [
    "X_train,X_test,y_train,y_test = train_test_split(X,y,test_size=0.3,random_state=101)"
   ]
  },
  {
   "cell_type": "code",
   "execution_count": 45,
   "metadata": {},
   "outputs": [],
   "source": [
    "from sklearn.linear_model import LinearRegression"
   ]
  },
  {
   "cell_type": "code",
   "execution_count": 46,
   "metadata": {},
   "outputs": [],
   "source": [
    "lm = LinearRegression()"
   ]
  },
  {
   "cell_type": "code",
   "execution_count": 47,
   "metadata": {},
   "outputs": [
    {
     "data": {
      "text/plain": [
       "LinearRegression()"
      ]
     },
     "execution_count": 47,
     "metadata": {},
     "output_type": "execute_result"
    }
   ],
   "source": [
    "lm.fit(X_train,y_train)"
   ]
  },
  {
   "cell_type": "code",
   "execution_count": 48,
   "metadata": {},
   "outputs": [
    {
     "data": {
      "text/plain": [
       "array([ 9.86550468e+00, -1.91090591e+01,  5.92467694e+00, -1.54425485e+01,\n",
       "        4.70355066e-02,  1.07165810e-03,  7.75596483e-02,  5.41834279e-01,\n",
       "       -2.42661487e-02, -5.42120529e-02, -1.68152960e+00,  1.83233520e-01,\n",
       "        4.38976054e-02,  2.03525623e+00])"
      ]
     },
     "execution_count": 48,
     "metadata": {},
     "output_type": "execute_result"
    }
   ],
   "source": [
    "lm.coef_"
   ]
  },
  {
   "cell_type": "code",
   "execution_count": 49,
   "metadata": {},
   "outputs": [
    {
     "data": {
      "text/plain": [
       "1490.9273039522484"
      ]
     },
     "execution_count": 49,
     "metadata": {},
     "output_type": "execute_result"
    }
   ],
   "source": [
    "lm.intercept_"
   ]
  },
  {
   "cell_type": "code",
   "execution_count": 50,
   "metadata": {},
   "outputs": [],
   "source": [
    "prediction = lm.predict(X_test)"
   ]
  },
  {
   "cell_type": "code",
   "execution_count": 51,
   "metadata": {},
   "outputs": [
    {
     "data": {
      "text/plain": [
       "<matplotlib.collections.PathCollection at 0x1473954db80>"
      ]
     },
     "execution_count": 51,
     "metadata": {},
     "output_type": "execute_result"
    },
    {
     "data": {
      "image/png": "[encoded data removed]",
      "text/plain": [
       "<Figure size 432x288 with 1 Axes>"
      ]
     },
     "metadata": {
      "needs_background": "light"
     },
     "output_type": "display_data"
    }
   ],
   "source": [
    "plt.scatter(y_test,prediction)"
   ]
  },
  {
   "cell_type": "code",
   "execution_count": 52,
   "metadata": {},
   "outputs": [
    {
     "name": "stderr",
     "output_type": "stream",
     "text": [
      "C:\\Users\\jarug\\anaconda3\\lib\\site-packages\\seaborn\\distributions.py:2619: FutureWarning: `distplot` is a deprecated function and will be removed in a future version. Please adapt your code to use either `displot` (a figure-level function with similar flexibility) or `histplot` (an axes-level function for histograms).\n",
      "  warnings.warn(msg, FutureWarning)\n"
     ]
    },
    {
     "data": {
      "text/plain": [
       "<AxesSubplot:xlabel='fare_amount', ylabel='Density'>"
      ]
     },
     "execution_count": 52,
     "metadata": {},
     "output_type": "execute_result"
    },
    {
     "data": {
      "image/png": "[encoded data removed]",
      "text/plain": [
       "<Figure size 432x288 with 1 Axes>"
      ]
     },
     "metadata": {
      "needs_background": "light"
     },
     "output_type": "display_data"
    }
   ],
   "source": [
    "sns.distplot((y_test-prediction),bins=50)"
   ]
  },
  {
   "cell_type": "code",
   "execution_count": 53,
   "metadata": {},
   "outputs": [
    {
     "name": "stdout",
     "output_type": "stream",
     "text": [
      "MAE: 2.324667847830843\n",
      "MSE: 25.35365362549474\n",
      "RMSE: 5.035241168553373\n"
     ]
    }
   ],
   "source": [
    "from sklearn import metrics\n",
    "\n",
    "print('MAE:', metrics.mean_absolute_error(y_test,prediction))\n",
    "print('MSE:', metrics.mean_squared_error(y_test,prediction))\n",
    "print('RMSE:', np.sqrt(metrics.mean_squared_error(y_test,prediction)))\n"
   ]
  },
  {
   "cell_type": "code",
   "execution_count": 54,
   "metadata": {},
   "outputs": [
    {
     "data": {
      "text/plain": [
       "0.7231667720736019"
      ]
     },
     "execution_count": 54,
     "metadata": {},
     "output_type": "execute_result"
    }
   ],
   "source": [
    "lm.score(X_test,y_test)"
   ]
  },
  {
   "cell_type": "code",
   "execution_count": 55,
   "metadata": {},
   "outputs": [
    {
     "data": {
      "text/plain": [
       "array([ 4.87078347,  5.12263741,  9.31702944, ..., 11.25578415,\n",
       "        6.85891526, 14.29448859])"
      ]
     },
     "execution_count": 55,
     "metadata": {},
     "output_type": "execute_result"
    }
   ],
   "source": [
    "lm.predict(X_test)"
   ]
  },
  {
   "cell_type": "code",
   "execution_count": 56,
   "metadata": {},
   "outputs": [],
   "source": [
    "p=lm.predict(df_test)"
   ]
  },
  {
   "cell_type": "code",
   "execution_count": 57,
   "metadata": {},
   "outputs": [],
   "source": [
    "df_test['fare_price']=p"
   ]
  },
  {
   "cell_type": "code",
   "execution_count": 58,
   "metadata": {},
   "outputs": [
    {
     "data": {
      "text/html": [
       "<div>\n",
       "<style scoped>\n",
       "    .dataframe tbody tr th:only-of-type {\n",
       "        vertical-align: middle;\n",
       "    }\n",
       "\n",
       "    .dataframe tbody tr th {\n",
       "        vertical-align: top;\n",
       "    }\n",
       "\n",
       "    .dataframe thead th {\n",
       "        text-align: right;\n",
       "    }\n",
       "</style>\n",
       "<table border=\"1\" class=\"dataframe\">\n",
       "  <thead>\n",
       "    <tr style=\"text-align: right;\">\n",
       "      <th></th>\n",
       "      <th>pickup_longitude</th>\n",
       "      <th>pickup_latitude</th>\n",
       "      <th>dropoff_longitude</th>\n",
       "      <th>dropoff_latitude</th>\n",
       "      <th>passenger_count</th>\n",
       "      <th>pickup_day</th>\n",
       "      <th>pickup_month</th>\n",
       "      <th>pickup_year</th>\n",
       "      <th>pickup_weekday</th>\n",
       "      <th>pickup_hour</th>\n",
       "      <th>mid_night_trip</th>\n",
       "      <th>rush_hour_trip</th>\n",
       "      <th>snow_season</th>\n",
       "      <th>trip_distance</th>\n",
       "      <th>fare_price</th>\n",
       "    </tr>\n",
       "  </thead>\n",
       "  <tbody>\n",
       "    <tr>\n",
       "      <th>0</th>\n",
       "      <td>-73.973320</td>\n",
       "      <td>40.763805</td>\n",
       "      <td>-73.981430</td>\n",
       "      <td>40.743835</td>\n",
       "      <td>1</td>\n",
       "      <td>27</td>\n",
       "      <td>1</td>\n",
       "      <td>2015</td>\n",
       "      <td>1</td>\n",
       "      <td>13</td>\n",
       "      <td>0</td>\n",
       "      <td>0</td>\n",
       "      <td>1</td>\n",
       "      <td>2.320991</td>\n",
       "      <td>10.668766</td>\n",
       "    </tr>\n",
       "    <tr>\n",
       "      <th>1</th>\n",
       "      <td>-73.986862</td>\n",
       "      <td>40.719383</td>\n",
       "      <td>-73.998886</td>\n",
       "      <td>40.739201</td>\n",
       "      <td>1</td>\n",
       "      <td>27</td>\n",
       "      <td>1</td>\n",
       "      <td>2015</td>\n",
       "      <td>1</td>\n",
       "      <td>13</td>\n",
       "      <td>0</td>\n",
       "      <td>0</td>\n",
       "      <td>1</td>\n",
       "      <td>2.423802</td>\n",
       "      <td>11.561429</td>\n",
       "    </tr>\n",
       "    <tr>\n",
       "      <th>2</th>\n",
       "      <td>-73.982524</td>\n",
       "      <td>40.751260</td>\n",
       "      <td>-73.979654</td>\n",
       "      <td>40.746139</td>\n",
       "      <td>1</td>\n",
       "      <td>8</td>\n",
       "      <td>10</td>\n",
       "      <td>2011</td>\n",
       "      <td>5</td>\n",
       "      <td>11</td>\n",
       "      <td>0</td>\n",
       "      <td>0</td>\n",
       "      <td>0</td>\n",
       "      <td>0.618182</td>\n",
       "      <td>5.804791</td>\n",
       "    </tr>\n",
       "    <tr>\n",
       "      <th>3</th>\n",
       "      <td>-73.981160</td>\n",
       "      <td>40.767807</td>\n",
       "      <td>-73.990448</td>\n",
       "      <td>40.751635</td>\n",
       "      <td>1</td>\n",
       "      <td>1</td>\n",
       "      <td>12</td>\n",
       "      <td>2012</td>\n",
       "      <td>5</td>\n",
       "      <td>21</td>\n",
       "      <td>0</td>\n",
       "      <td>0</td>\n",
       "      <td>0</td>\n",
       "      <td>1.959671</td>\n",
       "      <td>8.230832</td>\n",
       "    </tr>\n",
       "    <tr>\n",
       "      <th>4</th>\n",
       "      <td>-73.966046</td>\n",
       "      <td>40.789775</td>\n",
       "      <td>-73.988565</td>\n",
       "      <td>40.744427</td>\n",
       "      <td>1</td>\n",
       "      <td>1</td>\n",
       "      <td>12</td>\n",
       "      <td>2012</td>\n",
       "      <td>5</td>\n",
       "      <td>21</td>\n",
       "      <td>0</td>\n",
       "      <td>0</td>\n",
       "      <td>0</td>\n",
       "      <td>5.382833</td>\n",
       "      <td>15.049630</td>\n",
       "    </tr>\n",
       "    <tr>\n",
       "      <th>...</th>\n",
       "      <td>...</td>\n",
       "      <td>...</td>\n",
       "      <td>...</td>\n",
       "      <td>...</td>\n",
       "      <td>...</td>\n",
       "      <td>...</td>\n",
       "      <td>...</td>\n",
       "      <td>...</td>\n",
       "      <td>...</td>\n",
       "      <td>...</td>\n",
       "      <td>...</td>\n",
       "      <td>...</td>\n",
       "      <td>...</td>\n",
       "      <td>...</td>\n",
       "      <td>...</td>\n",
       "    </tr>\n",
       "    <tr>\n",
       "      <th>9909</th>\n",
       "      <td>-73.968124</td>\n",
       "      <td>40.796997</td>\n",
       "      <td>-73.955643</td>\n",
       "      <td>40.780388</td>\n",
       "      <td>6</td>\n",
       "      <td>10</td>\n",
       "      <td>5</td>\n",
       "      <td>2015</td>\n",
       "      <td>6</td>\n",
       "      <td>12</td>\n",
       "      <td>0</td>\n",
       "      <td>0</td>\n",
       "      <td>0</td>\n",
       "      <td>2.124110</td>\n",
       "      <td>9.689558</td>\n",
       "    </tr>\n",
       "    <tr>\n",
       "      <th>9910</th>\n",
       "      <td>-73.945511</td>\n",
       "      <td>40.803600</td>\n",
       "      <td>-73.960213</td>\n",
       "      <td>40.776371</td>\n",
       "      <td>6</td>\n",
       "      <td>12</td>\n",
       "      <td>1</td>\n",
       "      <td>2015</td>\n",
       "      <td>0</td>\n",
       "      <td>17</td>\n",
       "      <td>0</td>\n",
       "      <td>1</td>\n",
       "      <td>1</td>\n",
       "      <td>3.268511</td>\n",
       "      <td>11.944148</td>\n",
       "    </tr>\n",
       "    <tr>\n",
       "      <th>9911</th>\n",
       "      <td>-73.991600</td>\n",
       "      <td>40.726608</td>\n",
       "      <td>-73.789742</td>\n",
       "      <td>40.647011</td>\n",
       "      <td>6</td>\n",
       "      <td>19</td>\n",
       "      <td>4</td>\n",
       "      <td>2015</td>\n",
       "      <td>6</td>\n",
       "      <td>20</td>\n",
       "      <td>0</td>\n",
       "      <td>1</td>\n",
       "      <td>0</td>\n",
       "      <td>19.217032</td>\n",
       "      <td>48.315715</td>\n",
       "    </tr>\n",
       "    <tr>\n",
       "      <th>9912</th>\n",
       "      <td>-73.985573</td>\n",
       "      <td>40.735432</td>\n",
       "      <td>-73.939178</td>\n",
       "      <td>40.801731</td>\n",
       "      <td>6</td>\n",
       "      <td>31</td>\n",
       "      <td>1</td>\n",
       "      <td>2015</td>\n",
       "      <td>5</td>\n",
       "      <td>1</td>\n",
       "      <td>1</td>\n",
       "      <td>0</td>\n",
       "      <td>1</td>\n",
       "      <td>8.339644</td>\n",
       "      <td>21.807266</td>\n",
       "    </tr>\n",
       "    <tr>\n",
       "      <th>9913</th>\n",
       "      <td>-73.988022</td>\n",
       "      <td>40.754070</td>\n",
       "      <td>-74.000282</td>\n",
       "      <td>40.759220</td>\n",
       "      <td>6</td>\n",
       "      <td>18</td>\n",
       "      <td>1</td>\n",
       "      <td>2015</td>\n",
       "      <td>6</td>\n",
       "      <td>14</td>\n",
       "      <td>0</td>\n",
       "      <td>0</td>\n",
       "      <td>1</td>\n",
       "      <td>1.182767</td>\n",
       "      <td>8.093894</td>\n",
       "    </tr>\n",
       "  </tbody>\n",
       "</table>\n",
       "<p>9914 rows × 15 columns</p>\n",
       "</div>"
      ],
      "text/plain": [
       "      pickup_longitude  pickup_latitude  dropoff_longitude  dropoff_latitude  \\\n",
       "0           -73.973320        40.763805         -73.981430         40.743835   \n",
       "1           -73.986862        40.719383         -73.998886         40.739201   \n",
       "2           -73.982524        40.751260         -73.979654         40.746139   \n",
       "3           -73.981160        40.767807         -73.990448         40.751635   \n",
       "4           -73.966046        40.789775         -73.988565         40.744427   \n",
       "...                ...              ...                ...               ...   \n",
       "9909        -73.968124        40.796997         -73.955643         40.780388   \n",
       "9910        -73.945511        40.803600         -73.960213         40.776371   \n",
       "9911        -73.991600        40.726608         -73.789742         40.647011   \n",
       "9912        -73.985573        40.735432         -73.939178         40.801731   \n",
       "9913        -73.988022        40.754070         -74.000282         40.759220   \n",
       "\n",
       "      passenger_count  pickup_day  pickup_month  pickup_year  pickup_weekday  \\\n",
       "0                   1          27             1         2015               1   \n",
       "1                   1          27             1         2015               1   \n",
       "2                   1           8            10         2011               5   \n",
       "3                   1           1            12         2012               5   \n",
       "4                   1           1            12         2012               5   \n",
       "...               ...         ...           ...          ...             ...   \n",
       "9909                6          10             5         2015               6   \n",
       "9910                6          12             1         2015               0   \n",
       "9911                6          19             4         2015               6   \n",
       "9912                6          31             1         2015               5   \n",
       "9913                6          18             1         2015               6   \n",
       "\n",
       "      pickup_hour  mid_night_trip  rush_hour_trip  snow_season  trip_distance  \\\n",
       "0              13               0               0            1       2.320991   \n",
       "1              13               0               0            1       2.423802   \n",
       "2              11               0               0            0       0.618182   \n",
       "3              21               0               0            0       1.959671   \n",
       "4              21               0               0            0       5.382833   \n",
       "...           ...             ...             ...          ...            ...   \n",
       "9909           12               0               0            0       2.124110   \n",
       "9910           17               0               1            1       3.268511   \n",
       "9911           20               0               1            0      19.217032   \n",
       "9912            1               1               0            1       8.339644   \n",
       "9913           14               0               0            1       1.182767   \n",
       "\n",
       "      fare_price  \n",
       "0      10.668766  \n",
       "1      11.561429  \n",
       "2       5.804791  \n",
       "3       8.230832  \n",
       "4      15.049630  \n",
       "...          ...  \n",
       "9909    9.689558  \n",
       "9910   11.944148  \n",
       "9911   48.315715  \n",
       "9912   21.807266  \n",
       "9913    8.093894  \n",
       "\n",
       "[9914 rows x 15 columns]"
      ]
     },
     "execution_count": 58,
     "metadata": {},
     "output_type": "execute_result"
    }
   ],
   "source": [
    "df_test"
   ]
  },
  {
   "cell_type": "code",
   "execution_count": 59,
   "metadata": {},
   "outputs": [
    {
     "data": {
      "text/plain": [
       "array([10.66878052])"
      ]
     },
     "execution_count": 59,
     "metadata": {},
     "output_type": "execute_result"
    }
   ],
   "source": [
    "lm.predict([[-73.973320,40.763805,-73.981430,40.743835,1,27,1,2015,1,13,0,0,1,2.320991]])"
   ]
  }
 ],
 "metadata": {
  "kernelspec": {
   "display_name": "Python 3 (ipykernel)",
   "language": "python",
   "name": "python3"
  },
  "language_info": {
   "codemirror_mode": {
    "name": "ipython",
    "version": 3
   },
   "file_extension": ".py",
   "mimetype": "text/x-python",
   "name": "python",
   "nbconvert_exporter": "python",
   "pygments_lexer": "ipython3",
   "version": "3.9.7"
  }
 },
 "nbformat": 4,
 "nbformat_minor": 4
}
