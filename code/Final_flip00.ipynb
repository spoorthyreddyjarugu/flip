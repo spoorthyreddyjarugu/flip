{
 "cells": [
  {
   "cell_type": "code",
   "execution_count": 1,
   "metadata": {},
   "outputs": [],
   "source": [
    "import numpy as np\n",
    "import pandas as pd\n",
    "import seaborn as sns\n",
    "import matplotlib.pyplot as plt\n",
    "%matplotlib inline"
   ]
  },
  {
   "cell_type": "code",
   "execution_count": 2,
   "metadata": {},
   "outputs": [
    {
     "data": {
      "text/html": [
       "<div>\n",
       "<style scoped>\n",
       "    .dataframe tbody tr th:only-of-type {\n",
       "        vertical-align: middle;\n",
       "    }\n",
       "\n",
       "    .dataframe tbody tr th {\n",
       "        vertical-align: top;\n",
       "    }\n",
       "\n",
       "    .dataframe thead th {\n",
       "        text-align: right;\n",
       "    }\n",
       "</style>\n",
       "<table border=\"1\" class=\"dataframe\">\n",
       "  <thead>\n",
       "    <tr style=\"text-align: right;\">\n",
       "      <th></th>\n",
       "      <th>key</th>\n",
       "      <th>fare_amount</th>\n",
       "      <th>pickup_datetime</th>\n",
       "      <th>pickup_longitude</th>\n",
       "      <th>pickup_latitude</th>\n",
       "      <th>dropoff_longitude</th>\n",
       "      <th>dropoff_latitude</th>\n",
       "      <th>passenger_count</th>\n",
       "    </tr>\n",
       "  </thead>\n",
       "  <tbody>\n",
       "    <tr>\n",
       "      <th>0</th>\n",
       "      <td>2009-06-15 17:26:21.0000001</td>\n",
       "      <td>4.5</td>\n",
       "      <td>2009-06-15 17:26:21 UTC</td>\n",
       "      <td>-73.844311</td>\n",
       "      <td>40.721319</td>\n",
       "      <td>-73.841610</td>\n",
       "      <td>40.712278</td>\n",
       "      <td>1</td>\n",
       "    </tr>\n",
       "    <tr>\n",
       "      <th>1</th>\n",
       "      <td>2010-01-05 16:52:16.0000002</td>\n",
       "      <td>16.9</td>\n",
       "      <td>2010-01-05 16:52:16 UTC</td>\n",
       "      <td>-74.016048</td>\n",
       "      <td>40.711303</td>\n",
       "      <td>-73.979268</td>\n",
       "      <td>40.782004</td>\n",
       "      <td>1</td>\n",
       "    </tr>\n",
       "    <tr>\n",
       "      <th>2</th>\n",
       "      <td>2011-08-18 00:35:00.00000049</td>\n",
       "      <td>5.7</td>\n",
       "      <td>2011-08-18 00:35:00 UTC</td>\n",
       "      <td>-73.982738</td>\n",
       "      <td>40.761270</td>\n",
       "      <td>-73.991242</td>\n",
       "      <td>40.750562</td>\n",
       "      <td>2</td>\n",
       "    </tr>\n",
       "    <tr>\n",
       "      <th>3</th>\n",
       "      <td>2012-04-21 04:30:42.0000001</td>\n",
       "      <td>7.7</td>\n",
       "      <td>2012-04-21 04:30:42 UTC</td>\n",
       "      <td>-73.987130</td>\n",
       "      <td>40.733143</td>\n",
       "      <td>-73.991567</td>\n",
       "      <td>40.758092</td>\n",
       "      <td>1</td>\n",
       "    </tr>\n",
       "    <tr>\n",
       "      <th>4</th>\n",
       "      <td>2010-03-09 07:51:00.000000135</td>\n",
       "      <td>5.3</td>\n",
       "      <td>2010-03-09 07:51:00 UTC</td>\n",
       "      <td>-73.968095</td>\n",
       "      <td>40.768008</td>\n",
       "      <td>-73.956655</td>\n",
       "      <td>40.783762</td>\n",
       "      <td>1</td>\n",
       "    </tr>\n",
       "  </tbody>\n",
       "</table>\n",
       "</div>"
      ],
      "text/plain": [
       "                             key  fare_amount          pickup_datetime  \\\n",
       "0    2009-06-15 17:26:21.0000001          4.5  2009-06-15 17:26:21 UTC   \n",
       "1    2010-01-05 16:52:16.0000002         16.9  2010-01-05 16:52:16 UTC   \n",
       "2   2011-08-18 00:35:00.00000049          5.7  2011-08-18 00:35:00 UTC   \n",
       "3    2012-04-21 04:30:42.0000001          7.7  2012-04-21 04:30:42 UTC   \n",
       "4  2010-03-09 07:51:00.000000135          5.3  2010-03-09 07:51:00 UTC   \n",
       "\n",
       "   pickup_longitude  pickup_latitude  dropoff_longitude  dropoff_latitude  \\\n",
       "0        -73.844311        40.721319         -73.841610         40.712278   \n",
       "1        -74.016048        40.711303         -73.979268         40.782004   \n",
       "2        -73.982738        40.761270         -73.991242         40.750562   \n",
       "3        -73.987130        40.733143         -73.991567         40.758092   \n",
       "4        -73.968095        40.768008         -73.956655         40.783762   \n",
       "\n",
       "   passenger_count  \n",
       "0                1  \n",
       "1                1  \n",
       "2                2  \n",
       "3                1  \n",
       "4                1  "
      ]
     },
     "execution_count": 2,
     "metadata": {},
     "output_type": "execute_result"
    }
   ],
   "source": [
    "df=pd.read_csv('train.csv')\n",
    "df.head()"
   ]
  },
  {
   "cell_type": "code",
   "execution_count": 3,
   "metadata": {},
   "outputs": [
    {
     "data": {
      "text/html": [
       "<div>\n",
       "<style scoped>\n",
       "    .dataframe tbody tr th:only-of-type {\n",
       "        vertical-align: middle;\n",
       "    }\n",
       "\n",
       "    .dataframe tbody tr th {\n",
       "        vertical-align: top;\n",
       "    }\n",
       "\n",
       "    .dataframe thead th {\n",
       "        text-align: right;\n",
       "    }\n",
       "</style>\n",
       "<table border=\"1\" class=\"dataframe\">\n",
       "  <thead>\n",
       "    <tr style=\"text-align: right;\">\n",
       "      <th></th>\n",
       "      <th>key</th>\n",
       "      <th>pickup_datetime</th>\n",
       "      <th>pickup_longitude</th>\n",
       "      <th>pickup_latitude</th>\n",
       "      <th>dropoff_longitude</th>\n",
       "      <th>dropoff_latitude</th>\n",
       "      <th>passenger_count</th>\n",
       "    </tr>\n",
       "  </thead>\n",
       "  <tbody>\n",
       "    <tr>\n",
       "      <th>0</th>\n",
       "      <td>2015-01-27 13:08:24.0000002</td>\n",
       "      <td>2015-01-27 13:08:24 UTC</td>\n",
       "      <td>-73.973320</td>\n",
       "      <td>40.763805</td>\n",
       "      <td>-73.981430</td>\n",
       "      <td>40.743835</td>\n",
       "      <td>1</td>\n",
       "    </tr>\n",
       "    <tr>\n",
       "      <th>1</th>\n",
       "      <td>2015-01-27 13:08:24.0000003</td>\n",
       "      <td>2015-01-27 13:08:24 UTC</td>\n",
       "      <td>-73.986862</td>\n",
       "      <td>40.719383</td>\n",
       "      <td>-73.998886</td>\n",
       "      <td>40.739201</td>\n",
       "      <td>1</td>\n",
       "    </tr>\n",
       "    <tr>\n",
       "      <th>2</th>\n",
       "      <td>2011-10-08 11:53:44.0000002</td>\n",
       "      <td>2011-10-08 11:53:44 UTC</td>\n",
       "      <td>-73.982524</td>\n",
       "      <td>40.751260</td>\n",
       "      <td>-73.979654</td>\n",
       "      <td>40.746139</td>\n",
       "      <td>1</td>\n",
       "    </tr>\n",
       "    <tr>\n",
       "      <th>3</th>\n",
       "      <td>2012-12-01 21:12:12.0000002</td>\n",
       "      <td>2012-12-01 21:12:12 UTC</td>\n",
       "      <td>-73.981160</td>\n",
       "      <td>40.767807</td>\n",
       "      <td>-73.990448</td>\n",
       "      <td>40.751635</td>\n",
       "      <td>1</td>\n",
       "    </tr>\n",
       "    <tr>\n",
       "      <th>4</th>\n",
       "      <td>2012-12-01 21:12:12.0000003</td>\n",
       "      <td>2012-12-01 21:12:12 UTC</td>\n",
       "      <td>-73.966046</td>\n",
       "      <td>40.789775</td>\n",
       "      <td>-73.988565</td>\n",
       "      <td>40.744427</td>\n",
       "      <td>1</td>\n",
       "    </tr>\n",
       "  </tbody>\n",
       "</table>\n",
       "</div>"
      ],
      "text/plain": [
       "                           key          pickup_datetime  pickup_longitude  \\\n",
       "0  2015-01-27 13:08:24.0000002  2015-01-27 13:08:24 UTC        -73.973320   \n",
       "1  2015-01-27 13:08:24.0000003  2015-01-27 13:08:24 UTC        -73.986862   \n",
       "2  2011-10-08 11:53:44.0000002  2011-10-08 11:53:44 UTC        -73.982524   \n",
       "3  2012-12-01 21:12:12.0000002  2012-12-01 21:12:12 UTC        -73.981160   \n",
       "4  2012-12-01 21:12:12.0000003  2012-12-01 21:12:12 UTC        -73.966046   \n",
       "\n",
       "   pickup_latitude  dropoff_longitude  dropoff_latitude  passenger_count  \n",
       "0        40.763805         -73.981430         40.743835                1  \n",
       "1        40.719383         -73.998886         40.739201                1  \n",
       "2        40.751260         -73.979654         40.746139                1  \n",
       "3        40.767807         -73.990448         40.751635                1  \n",
       "4        40.789775         -73.988565         40.744427                1  "
      ]
     },
     "execution_count": 3,
     "metadata": {},
     "output_type": "execute_result"
    }
   ],
   "source": [
    "df_test=pd.read_csv('test.csv')\n",
    "df_test.head()"
   ]
  },
  {
   "cell_type": "code",
   "execution_count": 4,
   "metadata": {},
   "outputs": [
    {
     "data": {
      "text/plain": [
       "(55423856, 8)"
      ]
     },
     "execution_count": 4,
     "metadata": {},
     "output_type": "execute_result"
    }
   ],
   "source": [
    "df.shape"
   ]
  },
  {
   "cell_type": "code",
   "execution_count": 5,
   "metadata": {},
   "outputs": [
    {
     "data": {
      "text/plain": [
       "(9914, 7)"
      ]
     },
     "execution_count": 5,
     "metadata": {},
     "output_type": "execute_result"
    }
   ],
   "source": [
    "df_test.shape"
   ]
  },
  {
   "cell_type": "code",
   "execution_count": 6,
   "metadata": {},
   "outputs": [
    {
     "name": "stdout",
     "output_type": "stream",
     "text": [
      "key                  False\n",
      "fare_amount          False\n",
      "pickup_datetime      False\n",
      "pickup_longitude     False\n",
      "pickup_latitude      False\n",
      "dropoff_longitude     True\n",
      "dropoff_latitude      True\n",
      "passenger_count      False\n",
      "dtype: bool\n"
     ]
    }
   ],
   "source": [
    "#check for NA values in train set\n",
    "df.isnull().any()\n",
    "print(df.isnull().any())"
   ]
  },
  {
   "cell_type": "code",
   "execution_count": 7,
   "metadata": {},
   "outputs": [
    {
     "name": "stdout",
     "output_type": "stream",
     "text": [
      "key                  False\n",
      "pickup_datetime      False\n",
      "pickup_longitude     False\n",
      "pickup_latitude      False\n",
      "dropoff_longitude    False\n",
      "dropoff_latitude     False\n",
      "passenger_count      False\n",
      "dtype: bool\n"
     ]
    }
   ],
   "source": [
    "#check for NA values in test set\n",
    "df_test.isnull().any()\n",
    "print(df_test.isnull().any())"
   ]
  },
  {
   "cell_type": "code",
   "execution_count": 8,
   "metadata": {},
   "outputs": [
    {
     "data": {
      "text/plain": [
       "(55423480, 8)"
      ]
     },
     "execution_count": 8,
     "metadata": {},
     "output_type": "execute_result"
    }
   ],
   "source": [
    "#removing NA values\n",
    "df=df.dropna(axis=0)\n",
    "df.shape"
   ]
  },
  {
   "cell_type": "code",
   "execution_count": 9,
   "metadata": {},
   "outputs": [
    {
     "name": "stdout",
     "output_type": "stream",
     "text": [
      "key                  False\n",
      "fare_amount          False\n",
      "pickup_datetime      False\n",
      "pickup_longitude     False\n",
      "pickup_latitude      False\n",
      "dropoff_longitude    False\n",
      "dropoff_latitude     False\n",
      "passenger_count      False\n",
      "dtype: bool\n"
     ]
    }
   ],
   "source": [
    "#after removing NA values checking again\n",
    "df.isnull().any()\n",
    "print(df.isnull().any())"
   ]
  },
  {
   "cell_type": "code",
   "execution_count": 10,
   "metadata": {},
   "outputs": [
    {
     "data": {
      "text/html": [
       "<div>\n",
       "<style scoped>\n",
       "    .dataframe tbody tr th:only-of-type {\n",
       "        vertical-align: middle;\n",
       "    }\n",
       "\n",
       "    .dataframe tbody tr th {\n",
       "        vertical-align: top;\n",
       "    }\n",
       "\n",
       "    .dataframe thead th {\n",
       "        text-align: right;\n",
       "    }\n",
       "</style>\n",
       "<table border=\"1\" class=\"dataframe\">\n",
       "  <thead>\n",
       "    <tr style=\"text-align: right;\">\n",
       "      <th></th>\n",
       "      <th>fare_amount</th>\n",
       "      <th>pickup_longitude</th>\n",
       "      <th>pickup_latitude</th>\n",
       "      <th>dropoff_longitude</th>\n",
       "      <th>dropoff_latitude</th>\n",
       "      <th>passenger_count</th>\n",
       "    </tr>\n",
       "  </thead>\n",
       "  <tbody>\n",
       "    <tr>\n",
       "      <th>count</th>\n",
       "      <td>5.542348e+07</td>\n",
       "      <td>5.542348e+07</td>\n",
       "      <td>5.542348e+07</td>\n",
       "      <td>5.542348e+07</td>\n",
       "      <td>5.542348e+07</td>\n",
       "      <td>5.542348e+07</td>\n",
       "    </tr>\n",
       "    <tr>\n",
       "      <th>mean</th>\n",
       "      <td>1.134500e+01</td>\n",
       "      <td>-7.250973e+01</td>\n",
       "      <td>3.991982e+01</td>\n",
       "      <td>-7.251121e+01</td>\n",
       "      <td>3.992068e+01</td>\n",
       "      <td>1.685391e+00</td>\n",
       "    </tr>\n",
       "    <tr>\n",
       "      <th>std</th>\n",
       "      <td>2.071087e+01</td>\n",
       "      <td>1.284878e+01</td>\n",
       "      <td>9.642324e+00</td>\n",
       "      <td>1.278220e+01</td>\n",
       "      <td>9.633346e+00</td>\n",
       "      <td>1.327662e+00</td>\n",
       "    </tr>\n",
       "    <tr>\n",
       "      <th>min</th>\n",
       "      <td>-3.000000e+02</td>\n",
       "      <td>-3.442060e+03</td>\n",
       "      <td>-3.492264e+03</td>\n",
       "      <td>-3.442025e+03</td>\n",
       "      <td>-3.547887e+03</td>\n",
       "      <td>0.000000e+00</td>\n",
       "    </tr>\n",
       "    <tr>\n",
       "      <th>25%</th>\n",
       "      <td>6.000000e+00</td>\n",
       "      <td>-7.399207e+01</td>\n",
       "      <td>4.073493e+01</td>\n",
       "      <td>-7.399140e+01</td>\n",
       "      <td>4.073403e+01</td>\n",
       "      <td>1.000000e+00</td>\n",
       "    </tr>\n",
       "    <tr>\n",
       "      <th>50%</th>\n",
       "      <td>8.500000e+00</td>\n",
       "      <td>-7.398180e+01</td>\n",
       "      <td>4.075265e+01</td>\n",
       "      <td>-7.398015e+01</td>\n",
       "      <td>4.075316e+01</td>\n",
       "      <td>1.000000e+00</td>\n",
       "    </tr>\n",
       "    <tr>\n",
       "      <th>75%</th>\n",
       "      <td>1.250000e+01</td>\n",
       "      <td>-7.396708e+01</td>\n",
       "      <td>4.076713e+01</td>\n",
       "      <td>-7.396367e+01</td>\n",
       "      <td>4.076810e+01</td>\n",
       "      <td>2.000000e+00</td>\n",
       "    </tr>\n",
       "    <tr>\n",
       "      <th>max</th>\n",
       "      <td>9.396336e+04</td>\n",
       "      <td>3.457626e+03</td>\n",
       "      <td>3.408790e+03</td>\n",
       "      <td>3.457622e+03</td>\n",
       "      <td>3.537133e+03</td>\n",
       "      <td>2.080000e+02</td>\n",
       "    </tr>\n",
       "  </tbody>\n",
       "</table>\n",
       "</div>"
      ],
      "text/plain": [
       "        fare_amount  pickup_longitude  pickup_latitude  dropoff_longitude  \\\n",
       "count  5.542348e+07      5.542348e+07     5.542348e+07       5.542348e+07   \n",
       "mean   1.134500e+01     -7.250973e+01     3.991982e+01      -7.251121e+01   \n",
       "std    2.071087e+01      1.284878e+01     9.642324e+00       1.278220e+01   \n",
       "min   -3.000000e+02     -3.442060e+03    -3.492264e+03      -3.442025e+03   \n",
       "25%    6.000000e+00     -7.399207e+01     4.073493e+01      -7.399140e+01   \n",
       "50%    8.500000e+00     -7.398180e+01     4.075265e+01      -7.398015e+01   \n",
       "75%    1.250000e+01     -7.396708e+01     4.076713e+01      -7.396367e+01   \n",
       "max    9.396336e+04      3.457626e+03     3.408790e+03       3.457622e+03   \n",
       "\n",
       "       dropoff_latitude  passenger_count  \n",
       "count      5.542348e+07     5.542348e+07  \n",
       "mean       3.992068e+01     1.685391e+00  \n",
       "std        9.633346e+00     1.327662e+00  \n",
       "min       -3.547887e+03     0.000000e+00  \n",
       "25%        4.073403e+01     1.000000e+00  \n",
       "50%        4.075316e+01     1.000000e+00  \n",
       "75%        4.076810e+01     2.000000e+00  \n",
       "max        3.537133e+03     2.080000e+02  "
      ]
     },
     "execution_count": 10,
     "metadata": {},
     "output_type": "execute_result"
    }
   ],
   "source": [
    "df.describe()"
   ]
  },
  {
   "cell_type": "code",
   "execution_count": 11,
   "metadata": {},
   "outputs": [
    {
     "name": "stdout",
     "output_type": "stream",
     "text": [
      "<class 'pandas.core.frame.DataFrame'>\n",
      "Int64Index: 55423480 entries, 0 to 55423855\n",
      "Data columns (total 8 columns):\n",
      " #   Column             Dtype  \n",
      "---  ------             -----  \n",
      " 0   key                object \n",
      " 1   fare_amount        float64\n",
      " 2   pickup_datetime    object \n",
      " 3   pickup_longitude   float64\n",
      " 4   pickup_latitude    float64\n",
      " 5   dropoff_longitude  float64\n",
      " 6   dropoff_latitude   float64\n",
      " 7   passenger_count    int64  \n",
      "dtypes: float64(5), int64(1), object(2)\n",
      "memory usage: 3.7+ GB\n"
     ]
    }
   ],
   "source": [
    "df.info()"
   ]
  },
  {
   "cell_type": "code",
   "execution_count": 12,
   "metadata": {},
   "outputs": [
    {
     "data": {
      "text/html": [
       "<div>\n",
       "<style scoped>\n",
       "    .dataframe tbody tr th:only-of-type {\n",
       "        vertical-align: middle;\n",
       "    }\n",
       "\n",
       "    .dataframe tbody tr th {\n",
       "        vertical-align: top;\n",
       "    }\n",
       "\n",
       "    .dataframe thead th {\n",
       "        text-align: right;\n",
       "    }\n",
       "</style>\n",
       "<table border=\"1\" class=\"dataframe\">\n",
       "  <thead>\n",
       "    <tr style=\"text-align: right;\">\n",
       "      <th></th>\n",
       "      <th>pickup_longitude</th>\n",
       "      <th>pickup_latitude</th>\n",
       "      <th>dropoff_longitude</th>\n",
       "      <th>dropoff_latitude</th>\n",
       "      <th>passenger_count</th>\n",
       "    </tr>\n",
       "  </thead>\n",
       "  <tbody>\n",
       "    <tr>\n",
       "      <th>count</th>\n",
       "      <td>9914.000000</td>\n",
       "      <td>9914.000000</td>\n",
       "      <td>9914.000000</td>\n",
       "      <td>9914.000000</td>\n",
       "      <td>9914.000000</td>\n",
       "    </tr>\n",
       "    <tr>\n",
       "      <th>mean</th>\n",
       "      <td>-73.974722</td>\n",
       "      <td>40.751041</td>\n",
       "      <td>-73.973657</td>\n",
       "      <td>40.751743</td>\n",
       "      <td>1.671273</td>\n",
       "    </tr>\n",
       "    <tr>\n",
       "      <th>std</th>\n",
       "      <td>0.042774</td>\n",
       "      <td>0.033541</td>\n",
       "      <td>0.039072</td>\n",
       "      <td>0.035435</td>\n",
       "      <td>1.278747</td>\n",
       "    </tr>\n",
       "    <tr>\n",
       "      <th>min</th>\n",
       "      <td>-74.252193</td>\n",
       "      <td>40.573143</td>\n",
       "      <td>-74.263242</td>\n",
       "      <td>40.568973</td>\n",
       "      <td>1.000000</td>\n",
       "    </tr>\n",
       "    <tr>\n",
       "      <th>25%</th>\n",
       "      <td>-73.992501</td>\n",
       "      <td>40.736125</td>\n",
       "      <td>-73.991247</td>\n",
       "      <td>40.735254</td>\n",
       "      <td>1.000000</td>\n",
       "    </tr>\n",
       "    <tr>\n",
       "      <th>50%</th>\n",
       "      <td>-73.982326</td>\n",
       "      <td>40.753051</td>\n",
       "      <td>-73.980015</td>\n",
       "      <td>40.754065</td>\n",
       "      <td>1.000000</td>\n",
       "    </tr>\n",
       "    <tr>\n",
       "      <th>75%</th>\n",
       "      <td>-73.968013</td>\n",
       "      <td>40.767113</td>\n",
       "      <td>-73.964059</td>\n",
       "      <td>40.768757</td>\n",
       "      <td>2.000000</td>\n",
       "    </tr>\n",
       "    <tr>\n",
       "      <th>max</th>\n",
       "      <td>-72.986532</td>\n",
       "      <td>41.709555</td>\n",
       "      <td>-72.990963</td>\n",
       "      <td>41.696683</td>\n",
       "      <td>6.000000</td>\n",
       "    </tr>\n",
       "  </tbody>\n",
       "</table>\n",
       "</div>"
      ],
      "text/plain": [
       "       pickup_longitude  pickup_latitude  dropoff_longitude  dropoff_latitude  \\\n",
       "count       9914.000000      9914.000000        9914.000000       9914.000000   \n",
       "mean         -73.974722        40.751041         -73.973657         40.751743   \n",
       "std            0.042774         0.033541           0.039072          0.035435   \n",
       "min          -74.252193        40.573143         -74.263242         40.568973   \n",
       "25%          -73.992501        40.736125         -73.991247         40.735254   \n",
       "50%          -73.982326        40.753051         -73.980015         40.754065   \n",
       "75%          -73.968013        40.767113         -73.964059         40.768757   \n",
       "max          -72.986532        41.709555         -72.990963         41.696683   \n",
       "\n",
       "       passenger_count  \n",
       "count      9914.000000  \n",
       "mean          1.671273  \n",
       "std           1.278747  \n",
       "min           1.000000  \n",
       "25%           1.000000  \n",
       "50%           1.000000  \n",
       "75%           2.000000  \n",
       "max           6.000000  "
      ]
     },
     "execution_count": 12,
     "metadata": {},
     "output_type": "execute_result"
    }
   ],
   "source": [
    "df_test.describe()"
   ]
  },
  {
   "cell_type": "code",
   "execution_count": 13,
   "metadata": {},
   "outputs": [
    {
     "name": "stdout",
     "output_type": "stream",
     "text": [
      "<class 'pandas.core.frame.DataFrame'>\n",
      "RangeIndex: 9914 entries, 0 to 9913\n",
      "Data columns (total 7 columns):\n",
      " #   Column             Non-Null Count  Dtype  \n",
      "---  ------             --------------  -----  \n",
      " 0   key                9914 non-null   object \n",
      " 1   pickup_datetime    9914 non-null   object \n",
      " 2   pickup_longitude   9914 non-null   float64\n",
      " 3   pickup_latitude    9914 non-null   float64\n",
      " 4   dropoff_longitude  9914 non-null   float64\n",
      " 5   dropoff_latitude   9914 non-null   float64\n",
      " 6   passenger_count    9914 non-null   int64  \n",
      "dtypes: float64(4), int64(1), object(2)\n",
      "memory usage: 542.3+ KB\n"
     ]
    }
   ],
   "source": [
    "df_test.info()"
   ]
  },
  {
   "cell_type": "code",
   "execution_count": 14,
   "metadata": {},
   "outputs": [
    {
     "name": "stdout",
     "output_type": "stream",
     "text": [
      "(1581276, 8)\n"
     ]
    }
   ],
   "source": [
    "# remove where pickup and drop location are same\n",
    "print(df[(df['pickup_longitude']==df['dropoff_longitude']) & (df['pickup_latitude']==df['dropoff_latitude'])].shape)\n",
    "df=df[~((df['pickup_longitude']==df['dropoff_longitude']) & (df['pickup_latitude']==df['dropoff_latitude']))]"
   ]
  },
  {
   "cell_type": "code",
   "execution_count": 15,
   "metadata": {},
   "outputs": [
    {
     "data": {
      "text/plain": [
       "(53842204, 8)"
      ]
     },
     "execution_count": 15,
     "metadata": {},
     "output_type": "execute_result"
    }
   ],
   "source": [
    "df.shape"
   ]
  },
  {
   "cell_type": "code",
   "execution_count": 16,
   "metadata": {},
   "outputs": [],
   "source": [
    "#boundary for new york latitude longitude...\n",
    "\n",
    "boundary={\"min_lat\":40.673143,\n",
    "         \"min_lang\":-74.252193,\n",
    "         \"max_lat\":40.809555,\n",
    "         \"max_lang\":-72.986532}"
   ]
  },
  {
   "cell_type": "code",
   "execution_count": 17,
   "metadata": {},
   "outputs": [
    {
     "name": "stdout",
     "output_type": "stream",
     "text": [
      "1427795\n",
      "101033\n",
      "2272242\n",
      "97827\n"
     ]
    }
   ],
   "source": [
    "print(df[(df['pickup_latitude']<=boundary['min_lat']) | (df['pickup_latitude']>=boundary['max_lat'])].shape[0])\n",
    "print(df[(df['pickup_longitude']<=boundary['min_lang']) | (df['pickup_longitude']>=boundary['max_lang'])].shape[0])\n",
    "print(df[(df['dropoff_latitude']<=boundary['min_lat']) | (df['dropoff_latitude']>=boundary['max_lat'])].shape[0])\n",
    "print(df[(df['dropoff_longitude']<=boundary['min_lang']) | (df['dropoff_longitude']>=boundary['max_lang'])].shape[0])"
   ]
  },
  {
   "cell_type": "code",
   "execution_count": 18,
   "metadata": {},
   "outputs": [
    {
     "data": {
      "text/plain": [
       "(50552576, 8)"
      ]
     },
     "execution_count": 18,
     "metadata": {},
     "output_type": "execute_result"
    }
   ],
   "source": [
    "df=df[~((df['pickup_latitude']<=boundary['min_lat']) | (df['pickup_latitude']>=boundary['max_lat']))]\n",
    "df=df[~((df['pickup_longitude']<=boundary['min_lang']) | (df['pickup_longitude']>=boundary['max_lang']))]\n",
    "\n",
    "df=df[~((df['dropoff_latitude']<=boundary['min_lat']) | (df['dropoff_latitude']>=boundary['max_lat']))]\n",
    "df=df[~((df['dropoff_longitude']<=boundary['min_lang']) | (df['dropoff_longitude']>=boundary['max_lang']))]\n",
    "\n",
    "df.shape"
   ]
  },
  {
   "cell_type": "code",
   "execution_count": 19,
   "metadata": {},
   "outputs": [
    {
     "data": {
      "text/plain": [
       "(5055258, 8)"
      ]
     },
     "execution_count": 19,
     "metadata": {},
     "output_type": "execute_result"
    }
   ],
   "source": [
    "#Randomly select 10% data \n",
    "\n",
    "df = df.sample(frac=0.1)\n",
    "df.shape"
   ]
  },
  {
   "cell_type": "code",
   "execution_count": 20,
   "metadata": {},
   "outputs": [
    {
     "data": {
      "image/png": "[encoded data removed]",
      "text/plain": [
       "<Figure size 432x288 with 1 Axes>"
      ]
     },
     "metadata": {
      "needs_background": "light"
     },
     "output_type": "display_data"
    }
   ],
   "source": [
    "df.plot(y='pickup_latitude',x='pickup_longitude',kind=\"scatter\",alpha=0.7,s=0.02)\n",
    "city_long_border = (-74.03, -73.75)\n",
    "city_lat_border = (40.63, 40.85)\n",
    "plt.title(\"Pickups Data\")\n",
    "\n",
    "plt.ylim(city_lat_border)\n",
    "plt.xlim(city_long_border)\n",
    "plt.show()"
   ]
  },
  {
   "cell_type": "code",
   "execution_count": 21,
   "metadata": {},
   "outputs": [
    {
     "data": {
      "image/png": "[encoded data removed]",
      "text/plain": [
       "<Figure size 432x288 with 1 Axes>"
      ]
     },
     "metadata": {
      "needs_background": "light"
     },
     "output_type": "display_data"
    }
   ],
   "source": [
    "df.plot(y='dropoff_latitude',x='dropoff_longitude',kind=\"scatter\",alpha=0.5,s=0.02)\n",
    "city_long_border = (-74.03, -73.75)\n",
    "city_lat_border = (40.63, 40.85)\n",
    "plt.title(\"Dropoff Data\")\n",
    "\n",
    "plt.ylim(city_lat_border)\n",
    "plt.xlim(city_long_border)\n",
    "plt.show()"
   ]
  },
  {
   "cell_type": "code",
   "execution_count": 22,
   "metadata": {},
   "outputs": [
    {
     "data": {
      "text/plain": [
       "1      3709155\n",
       "2       794410\n",
       "5       378911\n",
       "3       236237\n",
       "6       114387\n",
       "4       114043\n",
       "0        19137\n",
       "9            4\n",
       "208          2\n",
       "8            1\n",
       "Name: passenger_count, dtype: int64"
      ]
     },
     "execution_count": 22,
     "metadata": {},
     "output_type": "execute_result"
    }
   ],
   "source": [
    "df['passenger_count'].value_counts()"
   ]
  },
  {
   "cell_type": "code",
   "execution_count": 23,
   "metadata": {},
   "outputs": [
    {
     "name": "stdout",
     "output_type": "stream",
     "text": [
      "208\n",
      "0\n"
     ]
    }
   ],
   "source": [
    "df['passenger_count']=df['passenger_count'].astype(int)\n",
    "print(df['passenger_count'].max())\n",
    "print(df['passenger_count'].min())"
   ]
  },
  {
   "cell_type": "code",
   "execution_count": 25,
   "metadata": {},
   "outputs": [
    {
     "data": {
      "text/plain": [
       "(5347143, 8)"
      ]
     },
     "execution_count": 25,
     "metadata": {},
     "output_type": "execute_result"
    }
   ],
   "source": [
    "df=df[~((df['passenger_count']>6) | (df['passenger_count'] == 0))]\n",
    "df.shape"
   ]
  },
  {
   "cell_type": "code",
   "execution_count": 26,
   "metadata": {},
   "outputs": [
    {
     "data": {
      "text/plain": [
       "<AxesSubplot:xlabel='count', ylabel='passenger_count'>"
      ]
     },
     "execution_count": 26,
     "metadata": {},
     "output_type": "execute_result"
    },
    {
     "data": {
      "image/png": "[encoded data removed]",
      "text/plain": [
       "<Figure size 432x288 with 1 Axes>"
      ]
     },
     "metadata": {
      "needs_background": "light"
     },
     "output_type": "display_data"
    }
   ],
   "source": [
    "sns.countplot(y='passenger_count',data=df)"
   ]
  },
  {
   "cell_type": "code",
   "execution_count": 27,
   "metadata": {},
   "outputs": [],
   "source": [
    "df[df['fare_amount']<=0]['fare_amount'].count()\n",
    "df=df[~(df['fare_amount']<=0)]"
   ]
  },
  {
   "cell_type": "code",
   "execution_count": 28,
   "metadata": {},
   "outputs": [],
   "source": [
    "df['pickup_day']=pd.to_datetime(df.pickup_datetime,format='%Y-%m-%d %H:%M:%S UTC').dt.day\n",
    "df['pickup_month']=pd.to_datetime(df.pickup_datetime,format='%Y-%m-%d %H:%M:%S UTC').dt.month\n",
    "df['pickup_year']=pd.to_datetime(df.pickup_datetime,format='%Y-%m-%d %H:%M:%S UTC').dt.year"
   ]
  },
  {
   "cell_type": "code",
   "execution_count": 29,
   "metadata": {},
   "outputs": [
    {
     "data": {
      "text/html": [
       "<div>\n",
       "<style scoped>\n",
       "    .dataframe tbody tr th:only-of-type {\n",
       "        vertical-align: middle;\n",
       "    }\n",
       "\n",
       "    .dataframe tbody tr th {\n",
       "        vertical-align: top;\n",
       "    }\n",
       "\n",
       "    .dataframe thead th {\n",
       "        text-align: right;\n",
       "    }\n",
       "</style>\n",
       "<table border=\"1\" class=\"dataframe\">\n",
       "  <thead>\n",
       "    <tr style=\"text-align: right;\">\n",
       "      <th></th>\n",
       "      <th>key</th>\n",
       "      <th>fare_amount</th>\n",
       "      <th>pickup_datetime</th>\n",
       "      <th>pickup_longitude</th>\n",
       "      <th>pickup_latitude</th>\n",
       "      <th>dropoff_longitude</th>\n",
       "      <th>dropoff_latitude</th>\n",
       "      <th>passenger_count</th>\n",
       "      <th>pickup_day</th>\n",
       "      <th>pickup_month</th>\n",
       "      <th>pickup_year</th>\n",
       "    </tr>\n",
       "  </thead>\n",
       "  <tbody>\n",
       "    <tr>\n",
       "      <th>42769327</th>\n",
       "      <td>2015-03-26 19:15:05.0000005</td>\n",
       "      <td>17.0</td>\n",
       "      <td>2015-03-26 19:15:05 UTC</td>\n",
       "      <td>-74.007675</td>\n",
       "      <td>40.705631</td>\n",
       "      <td>-73.980545</td>\n",
       "      <td>40.742790</td>\n",
       "      <td>2</td>\n",
       "      <td>26</td>\n",
       "      <td>3</td>\n",
       "      <td>2015</td>\n",
       "    </tr>\n",
       "    <tr>\n",
       "      <th>24321133</th>\n",
       "      <td>2010-01-20 00:34:36.0000003</td>\n",
       "      <td>19.3</td>\n",
       "      <td>2010-01-20 00:34:36 UTC</td>\n",
       "      <td>-73.972009</td>\n",
       "      <td>40.756096</td>\n",
       "      <td>-73.994172</td>\n",
       "      <td>40.690305</td>\n",
       "      <td>1</td>\n",
       "      <td>20</td>\n",
       "      <td>1</td>\n",
       "      <td>2010</td>\n",
       "    </tr>\n",
       "    <tr>\n",
       "      <th>45632411</th>\n",
       "      <td>2014-02-18 20:22:00.000000221</td>\n",
       "      <td>9.5</td>\n",
       "      <td>2014-02-18 20:22:00 UTC</td>\n",
       "      <td>-73.991330</td>\n",
       "      <td>40.755640</td>\n",
       "      <td>-73.976640</td>\n",
       "      <td>40.785860</td>\n",
       "      <td>1</td>\n",
       "      <td>18</td>\n",
       "      <td>2</td>\n",
       "      <td>2014</td>\n",
       "    </tr>\n",
       "    <tr>\n",
       "      <th>50765647</th>\n",
       "      <td>2009-07-29 19:06:00.000000174</td>\n",
       "      <td>13.3</td>\n",
       "      <td>2009-07-29 19:06:00 UTC</td>\n",
       "      <td>-73.958786</td>\n",
       "      <td>40.780988</td>\n",
       "      <td>-73.991057</td>\n",
       "      <td>40.750185</td>\n",
       "      <td>1</td>\n",
       "      <td>29</td>\n",
       "      <td>7</td>\n",
       "      <td>2009</td>\n",
       "    </tr>\n",
       "    <tr>\n",
       "      <th>55087222</th>\n",
       "      <td>2012-07-04 11:59:11.0000004</td>\n",
       "      <td>6.9</td>\n",
       "      <td>2012-07-04 11:59:11 UTC</td>\n",
       "      <td>-73.991468</td>\n",
       "      <td>40.747144</td>\n",
       "      <td>-73.979318</td>\n",
       "      <td>40.766887</td>\n",
       "      <td>2</td>\n",
       "      <td>4</td>\n",
       "      <td>7</td>\n",
       "      <td>2012</td>\n",
       "    </tr>\n",
       "  </tbody>\n",
       "</table>\n",
       "</div>"
      ],
      "text/plain": [
       "                                    key  fare_amount          pickup_datetime  \\\n",
       "42769327    2015-03-26 19:15:05.0000005         17.0  2015-03-26 19:15:05 UTC   \n",
       "24321133    2010-01-20 00:34:36.0000003         19.3  2010-01-20 00:34:36 UTC   \n",
       "45632411  2014-02-18 20:22:00.000000221          9.5  2014-02-18 20:22:00 UTC   \n",
       "50765647  2009-07-29 19:06:00.000000174         13.3  2009-07-29 19:06:00 UTC   \n",
       "55087222    2012-07-04 11:59:11.0000004          6.9  2012-07-04 11:59:11 UTC   \n",
       "\n",
       "          pickup_longitude  pickup_latitude  dropoff_longitude  \\\n",
       "42769327        -74.007675        40.705631         -73.980545   \n",
       "24321133        -73.972009        40.756096         -73.994172   \n",
       "45632411        -73.991330        40.755640         -73.976640   \n",
       "50765647        -73.958786        40.780988         -73.991057   \n",
       "55087222        -73.991468        40.747144         -73.979318   \n",
       "\n",
       "          dropoff_latitude  passenger_count  pickup_day  pickup_month  \\\n",
       "42769327         40.742790                2          26             3   \n",
       "24321133         40.690305                1          20             1   \n",
       "45632411         40.785860                1          18             2   \n",
       "50765647         40.750185                1          29             7   \n",
       "55087222         40.766887                2           4             7   \n",
       "\n",
       "          pickup_year  \n",
       "42769327         2015  \n",
       "24321133         2010  \n",
       "45632411         2014  \n",
       "50765647         2009  \n",
       "55087222         2012  "
      ]
     },
     "execution_count": 29,
     "metadata": {},
     "output_type": "execute_result"
    }
   ],
   "source": [
    "df.head()"
   ]
  },
  {
   "cell_type": "code",
   "execution_count": 30,
   "metadata": {},
   "outputs": [],
   "source": [
    "df['pickup_weekday'] = pd.DatetimeIndex(df.pickup_datetime).dayofweek"
   ]
  },
  {
   "cell_type": "code",
   "execution_count": 31,
   "metadata": {},
   "outputs": [
    {
     "data": {
      "text/html": [
       "<div>\n",
       "<style scoped>\n",
       "    .dataframe tbody tr th:only-of-type {\n",
       "        vertical-align: middle;\n",
       "    }\n",
       "\n",
       "    .dataframe tbody tr th {\n",
       "        vertical-align: top;\n",
       "    }\n",
       "\n",
       "    .dataframe thead th {\n",
       "        text-align: right;\n",
       "    }\n",
       "</style>\n",
       "<table border=\"1\" class=\"dataframe\">\n",
       "  <thead>\n",
       "    <tr style=\"text-align: right;\">\n",
       "      <th></th>\n",
       "      <th>key</th>\n",
       "      <th>fare_amount</th>\n",
       "      <th>pickup_datetime</th>\n",
       "      <th>pickup_longitude</th>\n",
       "      <th>pickup_latitude</th>\n",
       "      <th>dropoff_longitude</th>\n",
       "      <th>dropoff_latitude</th>\n",
       "      <th>passenger_count</th>\n",
       "      <th>pickup_day</th>\n",
       "      <th>pickup_month</th>\n",
       "      <th>pickup_year</th>\n",
       "      <th>pickup_weekday</th>\n",
       "      <th>pickup_hour</th>\n",
       "    </tr>\n",
       "  </thead>\n",
       "  <tbody>\n",
       "    <tr>\n",
       "      <th>42769327</th>\n",
       "      <td>2015-03-26 19:15:05.0000005</td>\n",
       "      <td>17.0</td>\n",
       "      <td>2015-03-26 19:15:05 UTC</td>\n",
       "      <td>-74.007675</td>\n",
       "      <td>40.705631</td>\n",
       "      <td>-73.980545</td>\n",
       "      <td>40.742790</td>\n",
       "      <td>2</td>\n",
       "      <td>26</td>\n",
       "      <td>3</td>\n",
       "      <td>2015</td>\n",
       "      <td>3</td>\n",
       "      <td>19</td>\n",
       "    </tr>\n",
       "    <tr>\n",
       "      <th>24321133</th>\n",
       "      <td>2010-01-20 00:34:36.0000003</td>\n",
       "      <td>19.3</td>\n",
       "      <td>2010-01-20 00:34:36 UTC</td>\n",
       "      <td>-73.972009</td>\n",
       "      <td>40.756096</td>\n",
       "      <td>-73.994172</td>\n",
       "      <td>40.690305</td>\n",
       "      <td>1</td>\n",
       "      <td>20</td>\n",
       "      <td>1</td>\n",
       "      <td>2010</td>\n",
       "      <td>2</td>\n",
       "      <td>0</td>\n",
       "    </tr>\n",
       "    <tr>\n",
       "      <th>45632411</th>\n",
       "      <td>2014-02-18 20:22:00.000000221</td>\n",
       "      <td>9.5</td>\n",
       "      <td>2014-02-18 20:22:00 UTC</td>\n",
       "      <td>-73.991330</td>\n",
       "      <td>40.755640</td>\n",
       "      <td>-73.976640</td>\n",
       "      <td>40.785860</td>\n",
       "      <td>1</td>\n",
       "      <td>18</td>\n",
       "      <td>2</td>\n",
       "      <td>2014</td>\n",
       "      <td>1</td>\n",
       "      <td>20</td>\n",
       "    </tr>\n",
       "    <tr>\n",
       "      <th>50765647</th>\n",
       "      <td>2009-07-29 19:06:00.000000174</td>\n",
       "      <td>13.3</td>\n",
       "      <td>2009-07-29 19:06:00 UTC</td>\n",
       "      <td>-73.958786</td>\n",
       "      <td>40.780988</td>\n",
       "      <td>-73.991057</td>\n",
       "      <td>40.750185</td>\n",
       "      <td>1</td>\n",
       "      <td>29</td>\n",
       "      <td>7</td>\n",
       "      <td>2009</td>\n",
       "      <td>2</td>\n",
       "      <td>19</td>\n",
       "    </tr>\n",
       "    <tr>\n",
       "      <th>55087222</th>\n",
       "      <td>2012-07-04 11:59:11.0000004</td>\n",
       "      <td>6.9</td>\n",
       "      <td>2012-07-04 11:59:11 UTC</td>\n",
       "      <td>-73.991468</td>\n",
       "      <td>40.747144</td>\n",
       "      <td>-73.979318</td>\n",
       "      <td>40.766887</td>\n",
       "      <td>2</td>\n",
       "      <td>4</td>\n",
       "      <td>7</td>\n",
       "      <td>2012</td>\n",
       "      <td>2</td>\n",
       "      <td>11</td>\n",
       "    </tr>\n",
       "  </tbody>\n",
       "</table>\n",
       "</div>"
      ],
      "text/plain": [
       "                                    key  fare_amount          pickup_datetime  \\\n",
       "42769327    2015-03-26 19:15:05.0000005         17.0  2015-03-26 19:15:05 UTC   \n",
       "24321133    2010-01-20 00:34:36.0000003         19.3  2010-01-20 00:34:36 UTC   \n",
       "45632411  2014-02-18 20:22:00.000000221          9.5  2014-02-18 20:22:00 UTC   \n",
       "50765647  2009-07-29 19:06:00.000000174         13.3  2009-07-29 19:06:00 UTC   \n",
       "55087222    2012-07-04 11:59:11.0000004          6.9  2012-07-04 11:59:11 UTC   \n",
       "\n",
       "          pickup_longitude  pickup_latitude  dropoff_longitude  \\\n",
       "42769327        -74.007675        40.705631         -73.980545   \n",
       "24321133        -73.972009        40.756096         -73.994172   \n",
       "45632411        -73.991330        40.755640         -73.976640   \n",
       "50765647        -73.958786        40.780988         -73.991057   \n",
       "55087222        -73.991468        40.747144         -73.979318   \n",
       "\n",
       "          dropoff_latitude  passenger_count  pickup_day  pickup_month  \\\n",
       "42769327         40.742790                2          26             3   \n",
       "24321133         40.690305                1          20             1   \n",
       "45632411         40.785860                1          18             2   \n",
       "50765647         40.750185                1          29             7   \n",
       "55087222         40.766887                2           4             7   \n",
       "\n",
       "          pickup_year  pickup_weekday  pickup_hour  \n",
       "42769327         2015               3           19  \n",
       "24321133         2010               2            0  \n",
       "45632411         2014               1           20  \n",
       "50765647         2009               2           19  \n",
       "55087222         2012               2           11  "
      ]
     },
     "execution_count": 31,
     "metadata": {},
     "output_type": "execute_result"
    }
   ],
   "source": [
    "df['pickup_hour'] = pd.to_datetime(df.pickup_datetime,format='%Y-%m-%d %H:%M:%S UTC').dt.hour\n",
    "df.head()"
   ]
  },
  {
   "cell_type": "code",
   "execution_count": 32,
   "metadata": {},
   "outputs": [
    {
     "data": {
      "text/html": [
       "<div>\n",
       "<style scoped>\n",
       "    .dataframe tbody tr th:only-of-type {\n",
       "        vertical-align: middle;\n",
       "    }\n",
       "\n",
       "    .dataframe tbody tr th {\n",
       "        vertical-align: top;\n",
       "    }\n",
       "\n",
       "    .dataframe thead th {\n",
       "        text-align: right;\n",
       "    }\n",
       "</style>\n",
       "<table border=\"1\" class=\"dataframe\">\n",
       "  <thead>\n",
       "    <tr style=\"text-align: right;\">\n",
       "      <th></th>\n",
       "      <th>key</th>\n",
       "      <th>fare_amount</th>\n",
       "      <th>pickup_datetime</th>\n",
       "      <th>pickup_longitude</th>\n",
       "      <th>pickup_latitude</th>\n",
       "      <th>dropoff_longitude</th>\n",
       "      <th>dropoff_latitude</th>\n",
       "      <th>passenger_count</th>\n",
       "      <th>pickup_day</th>\n",
       "      <th>pickup_month</th>\n",
       "      <th>pickup_year</th>\n",
       "      <th>pickup_weekday</th>\n",
       "      <th>pickup_hour</th>\n",
       "      <th>mid_night_trip</th>\n",
       "    </tr>\n",
       "  </thead>\n",
       "  <tbody>\n",
       "    <tr>\n",
       "      <th>42769327</th>\n",
       "      <td>2015-03-26 19:15:05.0000005</td>\n",
       "      <td>17.0</td>\n",
       "      <td>2015-03-26 19:15:05 UTC</td>\n",
       "      <td>-74.007675</td>\n",
       "      <td>40.705631</td>\n",
       "      <td>-73.980545</td>\n",
       "      <td>40.742790</td>\n",
       "      <td>2</td>\n",
       "      <td>26</td>\n",
       "      <td>3</td>\n",
       "      <td>2015</td>\n",
       "      <td>3</td>\n",
       "      <td>19</td>\n",
       "      <td>0</td>\n",
       "    </tr>\n",
       "    <tr>\n",
       "      <th>24321133</th>\n",
       "      <td>2010-01-20 00:34:36.0000003</td>\n",
       "      <td>19.3</td>\n",
       "      <td>2010-01-20 00:34:36 UTC</td>\n",
       "      <td>-73.972009</td>\n",
       "      <td>40.756096</td>\n",
       "      <td>-73.994172</td>\n",
       "      <td>40.690305</td>\n",
       "      <td>1</td>\n",
       "      <td>20</td>\n",
       "      <td>1</td>\n",
       "      <td>2010</td>\n",
       "      <td>2</td>\n",
       "      <td>0</td>\n",
       "      <td>1</td>\n",
       "    </tr>\n",
       "    <tr>\n",
       "      <th>45632411</th>\n",
       "      <td>2014-02-18 20:22:00.000000221</td>\n",
       "      <td>9.5</td>\n",
       "      <td>2014-02-18 20:22:00 UTC</td>\n",
       "      <td>-73.991330</td>\n",
       "      <td>40.755640</td>\n",
       "      <td>-73.976640</td>\n",
       "      <td>40.785860</td>\n",
       "      <td>1</td>\n",
       "      <td>18</td>\n",
       "      <td>2</td>\n",
       "      <td>2014</td>\n",
       "      <td>1</td>\n",
       "      <td>20</td>\n",
       "      <td>0</td>\n",
       "    </tr>\n",
       "    <tr>\n",
       "      <th>50765647</th>\n",
       "      <td>2009-07-29 19:06:00.000000174</td>\n",
       "      <td>13.3</td>\n",
       "      <td>2009-07-29 19:06:00 UTC</td>\n",
       "      <td>-73.958786</td>\n",
       "      <td>40.780988</td>\n",
       "      <td>-73.991057</td>\n",
       "      <td>40.750185</td>\n",
       "      <td>1</td>\n",
       "      <td>29</td>\n",
       "      <td>7</td>\n",
       "      <td>2009</td>\n",
       "      <td>2</td>\n",
       "      <td>19</td>\n",
       "      <td>0</td>\n",
       "    </tr>\n",
       "    <tr>\n",
       "      <th>55087222</th>\n",
       "      <td>2012-07-04 11:59:11.0000004</td>\n",
       "      <td>6.9</td>\n",
       "      <td>2012-07-04 11:59:11 UTC</td>\n",
       "      <td>-73.991468</td>\n",
       "      <td>40.747144</td>\n",
       "      <td>-73.979318</td>\n",
       "      <td>40.766887</td>\n",
       "      <td>2</td>\n",
       "      <td>4</td>\n",
       "      <td>7</td>\n",
       "      <td>2012</td>\n",
       "      <td>2</td>\n",
       "      <td>11</td>\n",
       "      <td>0</td>\n",
       "    </tr>\n",
       "  </tbody>\n",
       "</table>\n",
       "</div>"
      ],
      "text/plain": [
       "                                    key  fare_amount          pickup_datetime  \\\n",
       "42769327    2015-03-26 19:15:05.0000005         17.0  2015-03-26 19:15:05 UTC   \n",
       "24321133    2010-01-20 00:34:36.0000003         19.3  2010-01-20 00:34:36 UTC   \n",
       "45632411  2014-02-18 20:22:00.000000221          9.5  2014-02-18 20:22:00 UTC   \n",
       "50765647  2009-07-29 19:06:00.000000174         13.3  2009-07-29 19:06:00 UTC   \n",
       "55087222    2012-07-04 11:59:11.0000004          6.9  2012-07-04 11:59:11 UTC   \n",
       "\n",
       "          pickup_longitude  pickup_latitude  dropoff_longitude  \\\n",
       "42769327        -74.007675        40.705631         -73.980545   \n",
       "24321133        -73.972009        40.756096         -73.994172   \n",
       "45632411        -73.991330        40.755640         -73.976640   \n",
       "50765647        -73.958786        40.780988         -73.991057   \n",
       "55087222        -73.991468        40.747144         -73.979318   \n",
       "\n",
       "          dropoff_latitude  passenger_count  pickup_day  pickup_month  \\\n",
       "42769327         40.742790                2          26             3   \n",
       "24321133         40.690305                1          20             1   \n",
       "45632411         40.785860                1          18             2   \n",
       "50765647         40.750185                1          29             7   \n",
       "55087222         40.766887                2           4             7   \n",
       "\n",
       "          pickup_year  pickup_weekday  pickup_hour  mid_night_trip  \n",
       "42769327         2015               3           19               0  \n",
       "24321133         2010               2            0               1  \n",
       "45632411         2014               1           20               0  \n",
       "50765647         2009               2           19               0  \n",
       "55087222         2012               2           11               0  "
      ]
     },
     "execution_count": 32,
     "metadata": {},
     "output_type": "execute_result"
    }
   ],
   "source": [
    "df['mid_night_trip']=((df['pickup_hour']>23) | (df['pickup_hour']<6)).astype(int)\n",
    "df.head()"
   ]
  },
  {
   "cell_type": "code",
   "execution_count": 33,
   "metadata": {},
   "outputs": [
    {
     "data": {
      "text/html": [
       "<div>\n",
       "<style scoped>\n",
       "    .dataframe tbody tr th:only-of-type {\n",
       "        vertical-align: middle;\n",
       "    }\n",
       "\n",
       "    .dataframe tbody tr th {\n",
       "        vertical-align: top;\n",
       "    }\n",
       "\n",
       "    .dataframe thead th {\n",
       "        text-align: right;\n",
       "    }\n",
       "</style>\n",
       "<table border=\"1\" class=\"dataframe\">\n",
       "  <thead>\n",
       "    <tr style=\"text-align: right;\">\n",
       "      <th></th>\n",
       "      <th>key</th>\n",
       "      <th>fare_amount</th>\n",
       "      <th>pickup_datetime</th>\n",
       "      <th>pickup_longitude</th>\n",
       "      <th>pickup_latitude</th>\n",
       "      <th>dropoff_longitude</th>\n",
       "      <th>dropoff_latitude</th>\n",
       "      <th>passenger_count</th>\n",
       "      <th>pickup_day</th>\n",
       "      <th>pickup_month</th>\n",
       "      <th>pickup_year</th>\n",
       "      <th>pickup_weekday</th>\n",
       "      <th>pickup_hour</th>\n",
       "      <th>mid_night_trip</th>\n",
       "      <th>rush_hour_trip</th>\n",
       "    </tr>\n",
       "  </thead>\n",
       "  <tbody>\n",
       "    <tr>\n",
       "      <th>42769327</th>\n",
       "      <td>2015-03-26 19:15:05.0000005</td>\n",
       "      <td>17.0</td>\n",
       "      <td>2015-03-26 19:15:05 UTC</td>\n",
       "      <td>-74.007675</td>\n",
       "      <td>40.705631</td>\n",
       "      <td>-73.980545</td>\n",
       "      <td>40.742790</td>\n",
       "      <td>2</td>\n",
       "      <td>26</td>\n",
       "      <td>3</td>\n",
       "      <td>2015</td>\n",
       "      <td>3</td>\n",
       "      <td>19</td>\n",
       "      <td>0</td>\n",
       "      <td>1</td>\n",
       "    </tr>\n",
       "    <tr>\n",
       "      <th>24321133</th>\n",
       "      <td>2010-01-20 00:34:36.0000003</td>\n",
       "      <td>19.3</td>\n",
       "      <td>2010-01-20 00:34:36 UTC</td>\n",
       "      <td>-73.972009</td>\n",
       "      <td>40.756096</td>\n",
       "      <td>-73.994172</td>\n",
       "      <td>40.690305</td>\n",
       "      <td>1</td>\n",
       "      <td>20</td>\n",
       "      <td>1</td>\n",
       "      <td>2010</td>\n",
       "      <td>2</td>\n",
       "      <td>0</td>\n",
       "      <td>1</td>\n",
       "      <td>0</td>\n",
       "    </tr>\n",
       "    <tr>\n",
       "      <th>45632411</th>\n",
       "      <td>2014-02-18 20:22:00.000000221</td>\n",
       "      <td>9.5</td>\n",
       "      <td>2014-02-18 20:22:00 UTC</td>\n",
       "      <td>-73.991330</td>\n",
       "      <td>40.755640</td>\n",
       "      <td>-73.976640</td>\n",
       "      <td>40.785860</td>\n",
       "      <td>1</td>\n",
       "      <td>18</td>\n",
       "      <td>2</td>\n",
       "      <td>2014</td>\n",
       "      <td>1</td>\n",
       "      <td>20</td>\n",
       "      <td>0</td>\n",
       "      <td>1</td>\n",
       "    </tr>\n",
       "    <tr>\n",
       "      <th>50765647</th>\n",
       "      <td>2009-07-29 19:06:00.000000174</td>\n",
       "      <td>13.3</td>\n",
       "      <td>2009-07-29 19:06:00 UTC</td>\n",
       "      <td>-73.958786</td>\n",
       "      <td>40.780988</td>\n",
       "      <td>-73.991057</td>\n",
       "      <td>40.750185</td>\n",
       "      <td>1</td>\n",
       "      <td>29</td>\n",
       "      <td>7</td>\n",
       "      <td>2009</td>\n",
       "      <td>2</td>\n",
       "      <td>19</td>\n",
       "      <td>0</td>\n",
       "      <td>1</td>\n",
       "    </tr>\n",
       "    <tr>\n",
       "      <th>55087222</th>\n",
       "      <td>2012-07-04 11:59:11.0000004</td>\n",
       "      <td>6.9</td>\n",
       "      <td>2012-07-04 11:59:11 UTC</td>\n",
       "      <td>-73.991468</td>\n",
       "      <td>40.747144</td>\n",
       "      <td>-73.979318</td>\n",
       "      <td>40.766887</td>\n",
       "      <td>2</td>\n",
       "      <td>4</td>\n",
       "      <td>7</td>\n",
       "      <td>2012</td>\n",
       "      <td>2</td>\n",
       "      <td>11</td>\n",
       "      <td>0</td>\n",
       "      <td>0</td>\n",
       "    </tr>\n",
       "  </tbody>\n",
       "</table>\n",
       "</div>"
      ],
      "text/plain": [
       "                                    key  fare_amount          pickup_datetime  \\\n",
       "42769327    2015-03-26 19:15:05.0000005         17.0  2015-03-26 19:15:05 UTC   \n",
       "24321133    2010-01-20 00:34:36.0000003         19.3  2010-01-20 00:34:36 UTC   \n",
       "45632411  2014-02-18 20:22:00.000000221          9.5  2014-02-18 20:22:00 UTC   \n",
       "50765647  2009-07-29 19:06:00.000000174         13.3  2009-07-29 19:06:00 UTC   \n",
       "55087222    2012-07-04 11:59:11.0000004          6.9  2012-07-04 11:59:11 UTC   \n",
       "\n",
       "          pickup_longitude  pickup_latitude  dropoff_longitude  \\\n",
       "42769327        -74.007675        40.705631         -73.980545   \n",
       "24321133        -73.972009        40.756096         -73.994172   \n",
       "45632411        -73.991330        40.755640         -73.976640   \n",
       "50765647        -73.958786        40.780988         -73.991057   \n",
       "55087222        -73.991468        40.747144         -73.979318   \n",
       "\n",
       "          dropoff_latitude  passenger_count  pickup_day  pickup_month  \\\n",
       "42769327         40.742790                2          26             3   \n",
       "24321133         40.690305                1          20             1   \n",
       "45632411         40.785860                1          18             2   \n",
       "50765647         40.750185                1          29             7   \n",
       "55087222         40.766887                2           4             7   \n",
       "\n",
       "          pickup_year  pickup_weekday  pickup_hour  mid_night_trip  \\\n",
       "42769327         2015               3           19               0   \n",
       "24321133         2010               2            0               1   \n",
       "45632411         2014               1           20               0   \n",
       "50765647         2009               2           19               0   \n",
       "55087222         2012               2           11               0   \n",
       "\n",
       "          rush_hour_trip  \n",
       "42769327               1  \n",
       "24321133               0  \n",
       "45632411               1  \n",
       "50765647               1  \n",
       "55087222               0  "
      ]
     },
     "execution_count": 33,
     "metadata": {},
     "output_type": "execute_result"
    }
   ],
   "source": [
    "df['rush_hour_trip']=((df['pickup_hour']>=16) & (df['pickup_hour']<=20)).astype(int)\n",
    "df.head()"
   ]
  },
  {
   "cell_type": "code",
   "execution_count": 34,
   "metadata": {},
   "outputs": [
    {
     "data": {
      "text/html": [
       "<div>\n",
       "<style scoped>\n",
       "    .dataframe tbody tr th:only-of-type {\n",
       "        vertical-align: middle;\n",
       "    }\n",
       "\n",
       "    .dataframe tbody tr th {\n",
       "        vertical-align: top;\n",
       "    }\n",
       "\n",
       "    .dataframe thead th {\n",
       "        text-align: right;\n",
       "    }\n",
       "</style>\n",
       "<table border=\"1\" class=\"dataframe\">\n",
       "  <thead>\n",
       "    <tr style=\"text-align: right;\">\n",
       "      <th></th>\n",
       "      <th>key</th>\n",
       "      <th>fare_amount</th>\n",
       "      <th>pickup_datetime</th>\n",
       "      <th>pickup_longitude</th>\n",
       "      <th>pickup_latitude</th>\n",
       "      <th>dropoff_longitude</th>\n",
       "      <th>dropoff_latitude</th>\n",
       "      <th>passenger_count</th>\n",
       "      <th>pickup_day</th>\n",
       "      <th>pickup_month</th>\n",
       "      <th>pickup_year</th>\n",
       "      <th>pickup_weekday</th>\n",
       "      <th>pickup_hour</th>\n",
       "      <th>mid_night_trip</th>\n",
       "      <th>rush_hour_trip</th>\n",
       "      <th>snow_season</th>\n",
       "    </tr>\n",
       "  </thead>\n",
       "  <tbody>\n",
       "    <tr>\n",
       "      <th>42769327</th>\n",
       "      <td>2015-03-26 19:15:05.0000005</td>\n",
       "      <td>17.0</td>\n",
       "      <td>2015-03-26 19:15:05 UTC</td>\n",
       "      <td>-74.007675</td>\n",
       "      <td>40.705631</td>\n",
       "      <td>-73.980545</td>\n",
       "      <td>40.742790</td>\n",
       "      <td>2</td>\n",
       "      <td>26</td>\n",
       "      <td>3</td>\n",
       "      <td>2015</td>\n",
       "      <td>3</td>\n",
       "      <td>19</td>\n",
       "      <td>0</td>\n",
       "      <td>1</td>\n",
       "      <td>0</td>\n",
       "    </tr>\n",
       "    <tr>\n",
       "      <th>24321133</th>\n",
       "      <td>2010-01-20 00:34:36.0000003</td>\n",
       "      <td>19.3</td>\n",
       "      <td>2010-01-20 00:34:36 UTC</td>\n",
       "      <td>-73.972009</td>\n",
       "      <td>40.756096</td>\n",
       "      <td>-73.994172</td>\n",
       "      <td>40.690305</td>\n",
       "      <td>1</td>\n",
       "      <td>20</td>\n",
       "      <td>1</td>\n",
       "      <td>2010</td>\n",
       "      <td>2</td>\n",
       "      <td>0</td>\n",
       "      <td>1</td>\n",
       "      <td>0</td>\n",
       "      <td>1</td>\n",
       "    </tr>\n",
       "    <tr>\n",
       "      <th>45632411</th>\n",
       "      <td>2014-02-18 20:22:00.000000221</td>\n",
       "      <td>9.5</td>\n",
       "      <td>2014-02-18 20:22:00 UTC</td>\n",
       "      <td>-73.991330</td>\n",
       "      <td>40.755640</td>\n",
       "      <td>-73.976640</td>\n",
       "      <td>40.785860</td>\n",
       "      <td>1</td>\n",
       "      <td>18</td>\n",
       "      <td>2</td>\n",
       "      <td>2014</td>\n",
       "      <td>1</td>\n",
       "      <td>20</td>\n",
       "      <td>0</td>\n",
       "      <td>1</td>\n",
       "      <td>1</td>\n",
       "    </tr>\n",
       "    <tr>\n",
       "      <th>50765647</th>\n",
       "      <td>2009-07-29 19:06:00.000000174</td>\n",
       "      <td>13.3</td>\n",
       "      <td>2009-07-29 19:06:00 UTC</td>\n",
       "      <td>-73.958786</td>\n",
       "      <td>40.780988</td>\n",
       "      <td>-73.991057</td>\n",
       "      <td>40.750185</td>\n",
       "      <td>1</td>\n",
       "      <td>29</td>\n",
       "      <td>7</td>\n",
       "      <td>2009</td>\n",
       "      <td>2</td>\n",
       "      <td>19</td>\n",
       "      <td>0</td>\n",
       "      <td>1</td>\n",
       "      <td>0</td>\n",
       "    </tr>\n",
       "    <tr>\n",
       "      <th>55087222</th>\n",
       "      <td>2012-07-04 11:59:11.0000004</td>\n",
       "      <td>6.9</td>\n",
       "      <td>2012-07-04 11:59:11 UTC</td>\n",
       "      <td>-73.991468</td>\n",
       "      <td>40.747144</td>\n",
       "      <td>-73.979318</td>\n",
       "      <td>40.766887</td>\n",
       "      <td>2</td>\n",
       "      <td>4</td>\n",
       "      <td>7</td>\n",
       "      <td>2012</td>\n",
       "      <td>2</td>\n",
       "      <td>11</td>\n",
       "      <td>0</td>\n",
       "      <td>0</td>\n",
       "      <td>0</td>\n",
       "    </tr>\n",
       "  </tbody>\n",
       "</table>\n",
       "</div>"
      ],
      "text/plain": [
       "                                    key  fare_amount          pickup_datetime  \\\n",
       "42769327    2015-03-26 19:15:05.0000005         17.0  2015-03-26 19:15:05 UTC   \n",
       "24321133    2010-01-20 00:34:36.0000003         19.3  2010-01-20 00:34:36 UTC   \n",
       "45632411  2014-02-18 20:22:00.000000221          9.5  2014-02-18 20:22:00 UTC   \n",
       "50765647  2009-07-29 19:06:00.000000174         13.3  2009-07-29 19:06:00 UTC   \n",
       "55087222    2012-07-04 11:59:11.0000004          6.9  2012-07-04 11:59:11 UTC   \n",
       "\n",
       "          pickup_longitude  pickup_latitude  dropoff_longitude  \\\n",
       "42769327        -74.007675        40.705631         -73.980545   \n",
       "24321133        -73.972009        40.756096         -73.994172   \n",
       "45632411        -73.991330        40.755640         -73.976640   \n",
       "50765647        -73.958786        40.780988         -73.991057   \n",
       "55087222        -73.991468        40.747144         -73.979318   \n",
       "\n",
       "          dropoff_latitude  passenger_count  pickup_day  pickup_month  \\\n",
       "42769327         40.742790                2          26             3   \n",
       "24321133         40.690305                1          20             1   \n",
       "45632411         40.785860                1          18             2   \n",
       "50765647         40.750185                1          29             7   \n",
       "55087222         40.766887                2           4             7   \n",
       "\n",
       "          pickup_year  pickup_weekday  pickup_hour  mid_night_trip  \\\n",
       "42769327         2015               3           19               0   \n",
       "24321133         2010               2            0               1   \n",
       "45632411         2014               1           20               0   \n",
       "50765647         2009               2           19               0   \n",
       "55087222         2012               2           11               0   \n",
       "\n",
       "          rush_hour_trip  snow_season  \n",
       "42769327               1            0  \n",
       "24321133               0            1  \n",
       "45632411               1            1  \n",
       "50765647               1            0  \n",
       "55087222               0            0  "
      ]
     },
     "execution_count": 34,
     "metadata": {},
     "output_type": "execute_result"
    }
   ],
   "source": [
    "df['snow_season']=((df['pickup_month']==1) | (df['pickup_month']==2)).astype(int)\n",
    "df.head()"
   ]
  },
  {
   "cell_type": "code",
   "execution_count": 35,
   "metadata": {},
   "outputs": [
    {
     "name": "stdout",
     "output_type": "stream",
     "text": [
      "Requirement already satisfied: geopy in c:\\users\\jarug\\anaconda3\\lib\\site-packages (2.2.0)\n",
      "Requirement already satisfied: geographiclib<2,>=1.49 in c:\\users\\jarug\\anaconda3\\lib\\site-packages (from geopy) (1.52)\n"
     ]
    }
   ],
   "source": [
    "!pip install geopy"
   ]
  },
  {
   "cell_type": "code",
   "execution_count": 36,
   "metadata": {},
   "outputs": [],
   "source": [
    "from geopy.distance import geodesic\n",
    "\n",
    "def distance_calculate(lat,long,drop_lat,drop_long):    \n",
    "    newport_ri = (lat,long)\n",
    "    cleveland_oh = (drop_lat,drop_long)\n",
    "    dist=geodesic(newport_ri, cleveland_oh).km\n",
    "    return dist"
   ]
  },
  {
   "cell_type": "code",
   "execution_count": 37,
   "metadata": {},
   "outputs": [
    {
     "data": {
      "text/html": [
       "<div>\n",
       "<style scoped>\n",
       "    .dataframe tbody tr th:only-of-type {\n",
       "        vertical-align: middle;\n",
       "    }\n",
       "\n",
       "    .dataframe tbody tr th {\n",
       "        vertical-align: top;\n",
       "    }\n",
       "\n",
       "    .dataframe thead th {\n",
       "        text-align: right;\n",
       "    }\n",
       "</style>\n",
       "<table border=\"1\" class=\"dataframe\">\n",
       "  <thead>\n",
       "    <tr style=\"text-align: right;\">\n",
       "      <th></th>\n",
       "      <th>key</th>\n",
       "      <th>fare_amount</th>\n",
       "      <th>pickup_datetime</th>\n",
       "      <th>pickup_longitude</th>\n",
       "      <th>pickup_latitude</th>\n",
       "      <th>dropoff_longitude</th>\n",
       "      <th>dropoff_latitude</th>\n",
       "      <th>passenger_count</th>\n",
       "      <th>pickup_day</th>\n",
       "      <th>pickup_month</th>\n",
       "      <th>pickup_year</th>\n",
       "      <th>pickup_weekday</th>\n",
       "      <th>pickup_hour</th>\n",
       "      <th>mid_night_trip</th>\n",
       "      <th>rush_hour_trip</th>\n",
       "      <th>snow_season</th>\n",
       "      <th>trip_distance</th>\n",
       "    </tr>\n",
       "  </thead>\n",
       "  <tbody>\n",
       "    <tr>\n",
       "      <th>42769327</th>\n",
       "      <td>2015-03-26 19:15:05.0000005</td>\n",
       "      <td>17.0</td>\n",
       "      <td>2015-03-26 19:15:05 UTC</td>\n",
       "      <td>-74.007675</td>\n",
       "      <td>40.705631</td>\n",
       "      <td>-73.980545</td>\n",
       "      <td>40.742790</td>\n",
       "      <td>2</td>\n",
       "      <td>26</td>\n",
       "      <td>3</td>\n",
       "      <td>2015</td>\n",
       "      <td>3</td>\n",
       "      <td>19</td>\n",
       "      <td>0</td>\n",
       "      <td>1</td>\n",
       "      <td>0</td>\n",
       "      <td>4.720302</td>\n",
       "    </tr>\n",
       "    <tr>\n",
       "      <th>24321133</th>\n",
       "      <td>2010-01-20 00:34:36.0000003</td>\n",
       "      <td>19.3</td>\n",
       "      <td>2010-01-20 00:34:36 UTC</td>\n",
       "      <td>-73.972009</td>\n",
       "      <td>40.756096</td>\n",
       "      <td>-73.994172</td>\n",
       "      <td>40.690305</td>\n",
       "      <td>1</td>\n",
       "      <td>20</td>\n",
       "      <td>1</td>\n",
       "      <td>2010</td>\n",
       "      <td>2</td>\n",
       "      <td>0</td>\n",
       "      <td>1</td>\n",
       "      <td>0</td>\n",
       "      <td>1</td>\n",
       "      <td>7.542129</td>\n",
       "    </tr>\n",
       "    <tr>\n",
       "      <th>45632411</th>\n",
       "      <td>2014-02-18 20:22:00.000000221</td>\n",
       "      <td>9.5</td>\n",
       "      <td>2014-02-18 20:22:00 UTC</td>\n",
       "      <td>-73.991330</td>\n",
       "      <td>40.755640</td>\n",
       "      <td>-73.976640</td>\n",
       "      <td>40.785860</td>\n",
       "      <td>1</td>\n",
       "      <td>18</td>\n",
       "      <td>2</td>\n",
       "      <td>2014</td>\n",
       "      <td>1</td>\n",
       "      <td>20</td>\n",
       "      <td>0</td>\n",
       "      <td>1</td>\n",
       "      <td>1</td>\n",
       "      <td>3.577752</td>\n",
       "    </tr>\n",
       "    <tr>\n",
       "      <th>50765647</th>\n",
       "      <td>2009-07-29 19:06:00.000000174</td>\n",
       "      <td>13.3</td>\n",
       "      <td>2009-07-29 19:06:00 UTC</td>\n",
       "      <td>-73.958786</td>\n",
       "      <td>40.780988</td>\n",
       "      <td>-73.991057</td>\n",
       "      <td>40.750185</td>\n",
       "      <td>1</td>\n",
       "      <td>29</td>\n",
       "      <td>7</td>\n",
       "      <td>2009</td>\n",
       "      <td>2</td>\n",
       "      <td>19</td>\n",
       "      <td>0</td>\n",
       "      <td>1</td>\n",
       "      <td>0</td>\n",
       "      <td>4.373213</td>\n",
       "    </tr>\n",
       "    <tr>\n",
       "      <th>55087222</th>\n",
       "      <td>2012-07-04 11:59:11.0000004</td>\n",
       "      <td>6.9</td>\n",
       "      <td>2012-07-04 11:59:11 UTC</td>\n",
       "      <td>-73.991468</td>\n",
       "      <td>40.747144</td>\n",
       "      <td>-73.979318</td>\n",
       "      <td>40.766887</td>\n",
       "      <td>2</td>\n",
       "      <td>4</td>\n",
       "      <td>7</td>\n",
       "      <td>2012</td>\n",
       "      <td>2</td>\n",
       "      <td>11</td>\n",
       "      <td>0</td>\n",
       "      <td>0</td>\n",
       "      <td>0</td>\n",
       "      <td>2.420633</td>\n",
       "    </tr>\n",
       "  </tbody>\n",
       "</table>\n",
       "</div>"
      ],
      "text/plain": [
       "                                    key  fare_amount          pickup_datetime  \\\n",
       "42769327    2015-03-26 19:15:05.0000005         17.0  2015-03-26 19:15:05 UTC   \n",
       "24321133    2010-01-20 00:34:36.0000003         19.3  2010-01-20 00:34:36 UTC   \n",
       "45632411  2014-02-18 20:22:00.000000221          9.5  2014-02-18 20:22:00 UTC   \n",
       "50765647  2009-07-29 19:06:00.000000174         13.3  2009-07-29 19:06:00 UTC   \n",
       "55087222    2012-07-04 11:59:11.0000004          6.9  2012-07-04 11:59:11 UTC   \n",
       "\n",
       "          pickup_longitude  pickup_latitude  dropoff_longitude  \\\n",
       "42769327        -74.007675        40.705631         -73.980545   \n",
       "24321133        -73.972009        40.756096         -73.994172   \n",
       "45632411        -73.991330        40.755640         -73.976640   \n",
       "50765647        -73.958786        40.780988         -73.991057   \n",
       "55087222        -73.991468        40.747144         -73.979318   \n",
       "\n",
       "          dropoff_latitude  passenger_count  pickup_day  pickup_month  \\\n",
       "42769327         40.742790                2          26             3   \n",
       "24321133         40.690305                1          20             1   \n",
       "45632411         40.785860                1          18             2   \n",
       "50765647         40.750185                1          29             7   \n",
       "55087222         40.766887                2           4             7   \n",
       "\n",
       "          pickup_year  pickup_weekday  pickup_hour  mid_night_trip  \\\n",
       "42769327         2015               3           19               0   \n",
       "24321133         2010               2            0               1   \n",
       "45632411         2014               1           20               0   \n",
       "50765647         2009               2           19               0   \n",
       "55087222         2012               2           11               0   \n",
       "\n",
       "          rush_hour_trip  snow_season  trip_distance  \n",
       "42769327               1            0       4.720302  \n",
       "24321133               0            1       7.542129  \n",
       "45632411               1            1       3.577752  \n",
       "50765647               1            0       4.373213  \n",
       "55087222               0            0       2.420633  "
      ]
     },
     "execution_count": 37,
     "metadata": {},
     "output_type": "execute_result"
    }
   ],
   "source": [
    "df['trip_distance']=list(map(distance_calculate,df['pickup_latitude'],df['pickup_longitude'],df['dropoff_latitude'],df['dropoff_longitude']))\n",
    "df.head()"
   ]
  },
  {
   "cell_type": "code",
   "execution_count": 38,
   "metadata": {},
   "outputs": [
    {
     "data": {
      "image/png": "[encoded data removed]",
      "text/plain": [
       "<Figure size 864x576 with 4 Axes>"
      ]
     },
     "metadata": {
      "needs_background": "light"
     },
     "output_type": "display_data"
    }
   ],
   "source": [
    "plt.figure(figsize=(12,8))\n",
    "plt.subplot(2,2,1)\n",
    "sns.countplot(y='pickup_year', data=df, color='g')\n",
    "plt.subplot(2,2,2)\n",
    "sns.countplot(x='pickup_month', data=df, color='g')\n",
    "plt.subplot(2,2,3)\n",
    "sns.countplot(x='pickup_hour', data=df, color='g')\n",
    "plt.subplot(2,2,4)\n",
    "sns.countplot(y='pickup_weekday', data=df, color='g')\n",
    "\n",
    "plt.show()"
   ]
  },
  {
   "cell_type": "code",
   "execution_count": 39,
   "metadata": {},
   "outputs": [
    {
     "data": {
      "text/plain": [
       "<AxesSubplot:xlabel='fare_amount', ylabel='trip_distance'>"
      ]
     },
     "execution_count": 39,
     "metadata": {},
     "output_type": "execute_result"
    },
    {
     "data": {
      "text/plain": [
       "<Figure size 576x576 with 0 Axes>"
      ]
     },
     "metadata": {},
     "output_type": "display_data"
    },
    {
     "data": {
      "image/png": "[encoded data removed]",
      "text/plain": [
       "<Figure size 432x288 with 1 Axes>"
      ]
     },
     "metadata": {
      "needs_background": "light"
     },
     "output_type": "display_data"
    }
   ],
   "source": [
    "plt.figure(figsize=(8,8))\n",
    "\n",
    "df.plot(x='fare_amount',y='trip_distance',kind='scatter')"
   ]
  },
  {
   "cell_type": "code",
   "execution_count": 40,
   "metadata": {},
   "outputs": [
    {
     "data": {
      "text/plain": [
       "<AxesSubplot:>"
      ]
     },
     "execution_count": 40,
     "metadata": {},
     "output_type": "execute_result"
    },
    {
     "data": {
      "image/png": "[encoded data removed]",
      "text/plain": [
       "<Figure size 432x288 with 2 Axes>"
      ]
     },
     "metadata": {
      "needs_background": "light"
     },
     "output_type": "display_data"
    }
   ],
   "source": [
    "sns.heatmap(df.corr())"
   ]
  },
  {
   "cell_type": "code",
   "execution_count": 45,
   "metadata": {},
   "outputs": [
    {
     "data": {
      "text/html": [
       "<div>\n",
       "<style scoped>\n",
       "    .dataframe tbody tr th:only-of-type {\n",
       "        vertical-align: middle;\n",
       "    }\n",
       "\n",
       "    .dataframe tbody tr th {\n",
       "        vertical-align: top;\n",
       "    }\n",
       "\n",
       "    .dataframe thead th {\n",
       "        text-align: right;\n",
       "    }\n",
       "</style>\n",
       "<table border=\"1\" class=\"dataframe\">\n",
       "  <thead>\n",
       "    <tr style=\"text-align: right;\">\n",
       "      <th></th>\n",
       "      <th>fare_amount</th>\n",
       "      <th>passenger_count</th>\n",
       "      <th>mid_night_trip</th>\n",
       "      <th>rush_hour_trip</th>\n",
       "      <th>snow_season</th>\n",
       "      <th>trip_distance</th>\n",
       "    </tr>\n",
       "  </thead>\n",
       "  <tbody>\n",
       "    <tr>\n",
       "      <th>42769327</th>\n",
       "      <td>17.0</td>\n",
       "      <td>2</td>\n",
       "      <td>0</td>\n",
       "      <td>1</td>\n",
       "      <td>0</td>\n",
       "      <td>4.720302</td>\n",
       "    </tr>\n",
       "    <tr>\n",
       "      <th>24321133</th>\n",
       "      <td>19.3</td>\n",
       "      <td>1</td>\n",
       "      <td>1</td>\n",
       "      <td>0</td>\n",
       "      <td>1</td>\n",
       "      <td>7.542129</td>\n",
       "    </tr>\n",
       "    <tr>\n",
       "      <th>45632411</th>\n",
       "      <td>9.5</td>\n",
       "      <td>1</td>\n",
       "      <td>0</td>\n",
       "      <td>1</td>\n",
       "      <td>1</td>\n",
       "      <td>3.577752</td>\n",
       "    </tr>\n",
       "    <tr>\n",
       "      <th>50765647</th>\n",
       "      <td>13.3</td>\n",
       "      <td>1</td>\n",
       "      <td>0</td>\n",
       "      <td>1</td>\n",
       "      <td>0</td>\n",
       "      <td>4.373213</td>\n",
       "    </tr>\n",
       "    <tr>\n",
       "      <th>55087222</th>\n",
       "      <td>6.9</td>\n",
       "      <td>2</td>\n",
       "      <td>0</td>\n",
       "      <td>0</td>\n",
       "      <td>0</td>\n",
       "      <td>2.420633</td>\n",
       "    </tr>\n",
       "  </tbody>\n",
       "</table>\n",
       "</div>"
      ],
      "text/plain": [
       "          fare_amount  passenger_count  mid_night_trip  rush_hour_trip  \\\n",
       "42769327         17.0                2               0               1   \n",
       "24321133         19.3                1               1               0   \n",
       "45632411          9.5                1               0               1   \n",
       "50765647         13.3                1               0               1   \n",
       "55087222          6.9                2               0               0   \n",
       "\n",
       "          snow_season  trip_distance  \n",
       "42769327            0       4.720302  \n",
       "24321133            1       7.542129  \n",
       "45632411            1       3.577752  \n",
       "50765647            0       4.373213  \n",
       "55087222            0       2.420633  "
      ]
     },
     "execution_count": 45,
     "metadata": {},
     "output_type": "execute_result"
    }
   ],
   "source": [
    "df=df.drop(columns=['pickup_datetime','key','pickup_longitude','pickup_latitude','dropoff_longitude','dropoff_latitude','pickup_day','pickup_month','pickup_year','pickup_weekday','pickup_hour'])\n",
    "df.head()"
   ]
  },
  {
   "cell_type": "code",
   "execution_count": 46,
   "metadata": {},
   "outputs": [
    {
     "data": {
      "text/html": [
       "<div>\n",
       "<style scoped>\n",
       "    .dataframe tbody tr th:only-of-type {\n",
       "        vertical-align: middle;\n",
       "    }\n",
       "\n",
       "    .dataframe tbody tr th {\n",
       "        vertical-align: top;\n",
       "    }\n",
       "\n",
       "    .dataframe thead th {\n",
       "        text-align: right;\n",
       "    }\n",
       "</style>\n",
       "<table border=\"1\" class=\"dataframe\">\n",
       "  <thead>\n",
       "    <tr style=\"text-align: right;\">\n",
       "      <th></th>\n",
       "      <th>passenger_count</th>\n",
       "      <th>mid_night_trip</th>\n",
       "      <th>rush_hour_trip</th>\n",
       "      <th>snow_season</th>\n",
       "      <th>trip_distance</th>\n",
       "    </tr>\n",
       "  </thead>\n",
       "  <tbody>\n",
       "    <tr>\n",
       "      <th>0</th>\n",
       "      <td>1</td>\n",
       "      <td>0</td>\n",
       "      <td>0</td>\n",
       "      <td>1</td>\n",
       "      <td>2.320991</td>\n",
       "    </tr>\n",
       "    <tr>\n",
       "      <th>1</th>\n",
       "      <td>1</td>\n",
       "      <td>0</td>\n",
       "      <td>0</td>\n",
       "      <td>1</td>\n",
       "      <td>2.423802</td>\n",
       "    </tr>\n",
       "    <tr>\n",
       "      <th>2</th>\n",
       "      <td>1</td>\n",
       "      <td>0</td>\n",
       "      <td>0</td>\n",
       "      <td>0</td>\n",
       "      <td>0.618182</td>\n",
       "    </tr>\n",
       "    <tr>\n",
       "      <th>3</th>\n",
       "      <td>1</td>\n",
       "      <td>0</td>\n",
       "      <td>0</td>\n",
       "      <td>0</td>\n",
       "      <td>1.959671</td>\n",
       "    </tr>\n",
       "    <tr>\n",
       "      <th>4</th>\n",
       "      <td>1</td>\n",
       "      <td>0</td>\n",
       "      <td>0</td>\n",
       "      <td>0</td>\n",
       "      <td>5.382833</td>\n",
       "    </tr>\n",
       "  </tbody>\n",
       "</table>\n",
       "</div>"
      ],
      "text/plain": [
       "   passenger_count  mid_night_trip  rush_hour_trip  snow_season  trip_distance\n",
       "0                1               0               0            1       2.320991\n",
       "1                1               0               0            1       2.423802\n",
       "2                1               0               0            0       0.618182\n",
       "3                1               0               0            0       1.959671\n",
       "4                1               0               0            0       5.382833"
      ]
     },
     "execution_count": 46,
     "metadata": {},
     "output_type": "execute_result"
    }
   ],
   "source": [
    "df_test['pickup_day']=pd.to_datetime(df_test.pickup_datetime,format='%Y-%m-%d %H:%M:%S UTC').dt.day\n",
    "df_test['pickup_month']=pd.to_datetime(df_test.pickup_datetime,format='%Y-%m-%d %H:%M:%S UTC').dt.month\n",
    "df_test['pickup_year']=pd.to_datetime(df_test.pickup_datetime,format='%Y-%m-%d %H:%M:%S UTC').dt.year\n",
    "\n",
    "df_test['pickup_weekday'] = pd.DatetimeIndex(df_test.pickup_datetime).dayofweek\n",
    "df_test['pickup_hour']=pd.to_datetime(df_test.pickup_datetime,format='%Y-%m-%d %H:%M:%S UTC').dt.hour\n",
    "\n",
    "df_test['mid_night_trip']=((df_test['pickup_hour']>23) | (df_test['pickup_hour']<6)).astype(int)\n",
    "df_test['rush_hour_trip']=((df_test['pickup_hour']>=16) & (df_test['pickup_hour']<=20)).astype(int)\n",
    "df_test['snow_season']=((df_test['pickup_month']==1) | (df_test['pickup_month']==2)).astype(int)\n",
    "df_test['trip_distance']=list(map(distance_calculate,df_test['pickup_latitude'],df_test['pickup_longitude'],df_test['dropoff_latitude'],df_test['dropoff_longitude']))\n",
    "\n",
    "df_test=df_test.drop(columns=['pickup_datetime','key','pickup_longitude','pickup_latitude','dropoff_longitude','dropoff_latitude','pickup_day','pickup_month','pickup_year','pickup_weekday','pickup_hour'])\n",
    "df_test.head()"
   ]
  },
  {
   "cell_type": "code",
   "execution_count": 47,
   "metadata": {},
   "outputs": [],
   "source": [
    "X=df.drop(columns=['fare_amount'])\n",
    "y=df['fare_amount']"
   ]
  },
  {
   "cell_type": "code",
   "execution_count": 48,
   "metadata": {},
   "outputs": [],
   "source": [
    "from sklearn.model_selection import train_test_split"
   ]
  },
  {
   "cell_type": "code",
   "execution_count": 49,
   "metadata": {},
   "outputs": [],
   "source": [
    "X_train,X_test,y_train,y_test = train_test_split(X,y,test_size=0.3,random_state=101)"
   ]
  },
  {
   "cell_type": "code",
   "execution_count": 50,
   "metadata": {},
   "outputs": [],
   "source": [
    "from sklearn.linear_model import LinearRegression"
   ]
  },
  {
   "cell_type": "code",
   "execution_count": 51,
   "metadata": {},
   "outputs": [],
   "source": [
    "lm = LinearRegression()"
   ]
  },
  {
   "cell_type": "code",
   "execution_count": 52,
   "metadata": {},
   "outputs": [
    {
     "data": {
      "text/plain": [
       "LinearRegression()"
      ]
     },
     "execution_count": 52,
     "metadata": {},
     "output_type": "execute_result"
    }
   ],
   "source": [
    "lm.fit(X_train,y_train)"
   ]
  },
  {
   "cell_type": "code",
   "execution_count": 53,
   "metadata": {},
   "outputs": [
    {
     "data": {
      "text/plain": [
       "array([ 0.04756964, -0.87458119, -0.04800986, -0.26548021,  2.13725801])"
      ]
     },
     "execution_count": 53,
     "metadata": {},
     "output_type": "execute_result"
    }
   ],
   "source": [
    "lm.coef_"
   ]
  },
  {
   "cell_type": "code",
   "execution_count": 54,
   "metadata": {},
   "outputs": [
    {
     "data": {
      "text/plain": [
       "4.230823585464701"
      ]
     },
     "execution_count": 54,
     "metadata": {},
     "output_type": "execute_result"
    }
   ],
   "source": [
    "lm.intercept_"
   ]
  },
  {
   "cell_type": "code",
   "execution_count": 55,
   "metadata": {},
   "outputs": [],
   "source": [
    "prediction = lm.predict(X_test)"
   ]
  },
  {
   "cell_type": "code",
   "execution_count": 56,
   "metadata": {},
   "outputs": [
    {
     "data": {
      "text/plain": [
       "<matplotlib.collections.PathCollection at 0x1ddfe19f2b0>"
      ]
     },
     "execution_count": 56,
     "metadata": {},
     "output_type": "execute_result"
    },
    {
     "data": {
      "image/png": "[encoded data removed]",
      "text/plain": [
       "<Figure size 432x288 with 1 Axes>"
      ]
     },
     "metadata": {
      "needs_background": "light"
     },
     "output_type": "display_data"
    }
   ],
   "source": [
    "plt.scatter(y_test,prediction)"
   ]
  },
  {
   "cell_type": "code",
   "execution_count": 57,
   "metadata": {},
   "outputs": [
    {
     "name": "stderr",
     "output_type": "stream",
     "text": [
      "C:\\Users\\jarug\\anaconda3\\lib\\site-packages\\seaborn\\distributions.py:2619: FutureWarning: `distplot` is a deprecated function and will be removed in a future version. Please adapt your code to use either `displot` (a figure-level function with similar flexibility) or `histplot` (an axes-level function for histograms).\n",
      "  warnings.warn(msg, FutureWarning)\n"
     ]
    },
    {
     "data": {
      "text/plain": [
       "<AxesSubplot:xlabel='fare_amount', ylabel='Density'>"
      ]
     },
     "execution_count": 57,
     "metadata": {},
     "output_type": "execute_result"
    },
    {
     "data": {
      "image/png": "[encoded data removed]",
      "text/plain": [
       "<Figure size 432x288 with 1 Axes>"
      ]
     },
     "metadata": {
      "needs_background": "light"
     },
     "output_type": "display_data"
    }
   ],
   "source": [
    "sns.distplot((y_test-prediction),bins=10)"
   ]
  },
  {
   "cell_type": "code",
   "execution_count": 58,
   "metadata": {},
   "outputs": [
    {
     "name": "stdout",
     "output_type": "stream",
     "text": [
      "MAE: 2.4184007631012028\n",
      "MSE: 26.256078544064415\n",
      "RMSE: 5.124068553802185\n"
     ]
    }
   ],
   "source": [
    "from sklearn import metrics\n",
    "\n",
    "print('MAE:', metrics.mean_absolute_error(y_test,prediction))\n",
    "print('MSE:', metrics.mean_squared_error(y_test,prediction))\n",
    "print('RMSE:', np.sqrt(metrics.mean_squared_error(y_test,prediction)))\n"
   ]
  },
  {
   "cell_type": "code",
   "execution_count": 59,
   "metadata": {},
   "outputs": [
    {
     "data": {
      "text/plain": [
       "0.7109492969947017"
      ]
     },
     "execution_count": 59,
     "metadata": {},
     "output_type": "execute_result"
    }
   ],
   "source": [
    "lm.score(X_test,y_test)"
   ]
  },
  {
   "cell_type": "code",
   "execution_count": 60,
   "metadata": {},
   "outputs": [
    {
     "data": {
      "text/plain": [
       "array([ 8.9105342 ,  9.68295572, 40.28815257, ...,  9.18233154,\n",
       "       48.92506842, 18.97500646])"
      ]
     },
     "execution_count": 60,
     "metadata": {},
     "output_type": "execute_result"
    }
   ],
   "source": [
    "lm.predict(X_test)"
   ]
  },
  {
   "cell_type": "code",
   "execution_count": 61,
   "metadata": {},
   "outputs": [],
   "source": [
    "p=lm.predict(df_test)"
   ]
  },
  {
   "cell_type": "code",
   "execution_count": 62,
   "metadata": {},
   "outputs": [],
   "source": [
    "df_test['fare_price']=p"
   ]
  },
  {
   "cell_type": "code",
   "execution_count": 63,
   "metadata": {},
   "outputs": [
    {
     "data": {
      "text/html": [
       "<div>\n",
       "<style scoped>\n",
       "    .dataframe tbody tr th:only-of-type {\n",
       "        vertical-align: middle;\n",
       "    }\n",
       "\n",
       "    .dataframe tbody tr th {\n",
       "        vertical-align: top;\n",
       "    }\n",
       "\n",
       "    .dataframe thead th {\n",
       "        text-align: right;\n",
       "    }\n",
       "</style>\n",
       "<table border=\"1\" class=\"dataframe\">\n",
       "  <thead>\n",
       "    <tr style=\"text-align: right;\">\n",
       "      <th></th>\n",
       "      <th>passenger_count</th>\n",
       "      <th>mid_night_trip</th>\n",
       "      <th>rush_hour_trip</th>\n",
       "      <th>snow_season</th>\n",
       "      <th>trip_distance</th>\n",
       "      <th>fare_price</th>\n",
       "    </tr>\n",
       "  </thead>\n",
       "  <tbody>\n",
       "    <tr>\n",
       "      <th>0</th>\n",
       "      <td>1</td>\n",
       "      <td>0</td>\n",
       "      <td>0</td>\n",
       "      <td>1</td>\n",
       "      <td>2.320991</td>\n",
       "      <td>8.973470</td>\n",
       "    </tr>\n",
       "    <tr>\n",
       "      <th>1</th>\n",
       "      <td>1</td>\n",
       "      <td>0</td>\n",
       "      <td>0</td>\n",
       "      <td>1</td>\n",
       "      <td>2.423802</td>\n",
       "      <td>9.193202</td>\n",
       "    </tr>\n",
       "    <tr>\n",
       "      <th>2</th>\n",
       "      <td>1</td>\n",
       "      <td>0</td>\n",
       "      <td>0</td>\n",
       "      <td>0</td>\n",
       "      <td>0.618182</td>\n",
       "      <td>5.599607</td>\n",
       "    </tr>\n",
       "    <tr>\n",
       "      <th>3</th>\n",
       "      <td>1</td>\n",
       "      <td>0</td>\n",
       "      <td>0</td>\n",
       "      <td>0</td>\n",
       "      <td>1.959671</td>\n",
       "      <td>8.466715</td>\n",
       "    </tr>\n",
       "    <tr>\n",
       "      <th>4</th>\n",
       "      <td>1</td>\n",
       "      <td>0</td>\n",
       "      <td>0</td>\n",
       "      <td>0</td>\n",
       "      <td>5.382833</td>\n",
       "      <td>15.782896</td>\n",
       "    </tr>\n",
       "    <tr>\n",
       "      <th>...</th>\n",
       "      <td>...</td>\n",
       "      <td>...</td>\n",
       "      <td>...</td>\n",
       "      <td>...</td>\n",
       "      <td>...</td>\n",
       "      <td>...</td>\n",
       "    </tr>\n",
       "    <tr>\n",
       "      <th>9909</th>\n",
       "      <td>6</td>\n",
       "      <td>0</td>\n",
       "      <td>0</td>\n",
       "      <td>0</td>\n",
       "      <td>2.124110</td>\n",
       "      <td>9.056012</td>\n",
       "    </tr>\n",
       "    <tr>\n",
       "      <th>9910</th>\n",
       "      <td>6</td>\n",
       "      <td>0</td>\n",
       "      <td>1</td>\n",
       "      <td>1</td>\n",
       "      <td>3.268511</td>\n",
       "      <td>11.188403</td>\n",
       "    </tr>\n",
       "    <tr>\n",
       "      <th>9911</th>\n",
       "      <td>6</td>\n",
       "      <td>0</td>\n",
       "      <td>1</td>\n",
       "      <td>0</td>\n",
       "      <td>19.217032</td>\n",
       "      <td>45.539987</td>\n",
       "    </tr>\n",
       "    <tr>\n",
       "      <th>9912</th>\n",
       "      <td>6</td>\n",
       "      <td>1</td>\n",
       "      <td>0</td>\n",
       "      <td>1</td>\n",
       "      <td>8.339644</td>\n",
       "      <td>21.200150</td>\n",
       "    </tr>\n",
       "    <tr>\n",
       "      <th>9913</th>\n",
       "      <td>6</td>\n",
       "      <td>0</td>\n",
       "      <td>0</td>\n",
       "      <td>1</td>\n",
       "      <td>1.182767</td>\n",
       "      <td>6.778640</td>\n",
       "    </tr>\n",
       "  </tbody>\n",
       "</table>\n",
       "<p>9914 rows × 6 columns</p>\n",
       "</div>"
      ],
      "text/plain": [
       "      passenger_count  mid_night_trip  rush_hour_trip  snow_season  \\\n",
       "0                   1               0               0            1   \n",
       "1                   1               0               0            1   \n",
       "2                   1               0               0            0   \n",
       "3                   1               0               0            0   \n",
       "4                   1               0               0            0   \n",
       "...               ...             ...             ...          ...   \n",
       "9909                6               0               0            0   \n",
       "9910                6               0               1            1   \n",
       "9911                6               0               1            0   \n",
       "9912                6               1               0            1   \n",
       "9913                6               0               0            1   \n",
       "\n",
       "      trip_distance  fare_price  \n",
       "0          2.320991    8.973470  \n",
       "1          2.423802    9.193202  \n",
       "2          0.618182    5.599607  \n",
       "3          1.959671    8.466715  \n",
       "4          5.382833   15.782896  \n",
       "...             ...         ...  \n",
       "9909       2.124110    9.056012  \n",
       "9910       3.268511   11.188403  \n",
       "9911      19.217032   45.539987  \n",
       "9912       8.339644   21.200150  \n",
       "9913       1.182767    6.778640  \n",
       "\n",
       "[9914 rows x 6 columns]"
      ]
     },
     "execution_count": 63,
     "metadata": {},
     "output_type": "execute_result"
    }
   ],
   "source": [
    "df_test"
   ]
  },
  {
   "cell_type": "code",
   "execution_count": 64,
   "metadata": {},
   "outputs": [
    {
     "data": {
      "text/plain": [
       "array([9.02103927])"
      ]
     },
     "execution_count": 64,
     "metadata": {},
     "output_type": "execute_result"
    }
   ],
   "source": [
    "lm.predict([[2,0,0,1,2.320991]])"
   ]
  },
  {
   "cell_type": "code",
   "execution_count": null,
   "metadata": {},
   "outputs": [],
   "source": []
  }
 ],
 "metadata": {
  "kernelspec": {
   "display_name": "Python 3 (ipykernel)",
   "language": "python",
   "name": "python3"
  },
  "language_info": {
   "codemirror_mode": {
    "name": "ipython",
    "version": 3
   },
   "file_extension": ".py",
   "mimetype": "text/x-python",
   "name": "python",
   "nbconvert_exporter": "python",
   "pygments_lexer": "ipython3",
   "version": "3.9.7"
  }
 },
 "nbformat": 4,
 "nbformat_minor": 4
}
